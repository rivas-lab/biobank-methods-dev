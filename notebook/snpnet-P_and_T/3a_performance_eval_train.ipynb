{
 "cells": [
  {
   "cell_type": "code",
   "execution_count": 1,
   "metadata": {},
   "outputs": [],
   "source": [
    "suppressWarnings(suppressPackageStartupMessages({\n",
    "    library(tidyverse)\n",
    "    library(data.table)\n",
    "}))\n"
   ]
  },
  {
   "cell_type": "code",
   "execution_count": 2,
   "metadata": {},
   "outputs": [],
   "source": [
    "# input\n",
    "data_d_root <- '/oak/stanford/groups/mrivas/projects/biobank-methods-dev'\n",
    "phe_f <- file.path(data_d_root, 'snpnet-elastic-net/phenotype.phe')\n",
    "PRS_d <- file.path(data_d_root, 'snpnet-P_and_T', 'train')\n",
    "covar_score_d <- file.path(data_d_root, 'snpnet-PRScs/covar_betas_train')\n",
    "\n",
    "# constants\n",
    "covars <- c('age', 'sex', paste0('PC', 1:10))\n",
    "\n",
    "# output\n",
    "out_f <- 'snpnet-P_and_T.train.eval.tsv'\n"
   ]
  },
  {
   "cell_type": "code",
   "execution_count": 3,
   "metadata": {},
   "outputs": [],
   "source": [
    "read_BETAs <- function(beta_f){\n",
    "    fread(beta_f)\n",
    "}\n"
   ]
  },
  {
   "cell_type": "code",
   "execution_count": 4,
   "metadata": {},
   "outputs": [],
   "source": [
    "read_PRS <- function(sscore_f){\n",
    "    fread(\n",
    "        cmd=paste('zstdcat', sscore_f),\n",
    "        select=c('#FID', 'IID', 'SCORE1_SUM'),\n",
    "        colClasses=c('#FID'='character', 'IID'='character')\n",
    "    ) %>%\n",
    "    rename('FID'='#FID', 'geno_score'='SCORE1_SUM')\n",
    "}\n"
   ]
  },
  {
   "cell_type": "code",
   "execution_count": 5,
   "metadata": {},
   "outputs": [],
   "source": [
    "read_covar_score <- function(covar_score_f){\n",
    "    fread(\n",
    "        cmd=paste('zstdcat', covar_score_f),\n",
    "        select=c('#FID', 'IID', 'Estimate'),\n",
    "        colClasses=c('#FID'='character', 'IID'='character')\n",
    "    ) %>%\n",
    "    rename('FID'='#FID', 'covar_score'='Estimate')\n",
    "    \n",
    "}\n"
   ]
  },
  {
   "cell_type": "code",
   "execution_count": 6,
   "metadata": {},
   "outputs": [],
   "source": [
    "perform_eval <- function(response, pred, metric.type){\n",
    "    if(metric.type == 'r2'){\n",
    "        summary(lm(response ~ 1 + pred))$r.squared\n",
    "    }else{\n",
    "#         pROC::auc(pROC::roc(response, pred))        \n",
    "        pred.obj <- ROCR::prediction(pred, factor(response - 1))\n",
    "        auc.obj <- ROCR::performance(pred.obj, measure = 'auc')\n",
    "        auc.obj@y.values[[1]]\n",
    "    }\n",
    "}\n"
   ]
  },
  {
   "cell_type": "code",
   "execution_count": 7,
   "metadata": {},
   "outputs": [],
   "source": [
    "eval_line_build <- function(score_test_df, phe, metric.type, split_string){\n",
    "    data.frame(\n",
    "        phe        = phe,\n",
    "        split      = split_string,\n",
    "        geno       = perform_eval(\n",
    "            score_test_df$phe,\n",
    "            score_test_df$geno_score,\n",
    "            metric.type\n",
    "        ),\n",
    "        covar      = perform_eval(\n",
    "            score_test_df$phe,\n",
    "            score_test_df$covar_score,\n",
    "            metric.type\n",
    "        ),\n",
    "        geno_covar = perform_eval(\n",
    "            score_test_df$phe,\n",
    "            score_test_df$geno_covar_score,\n",
    "            metric.type\n",
    "        ),\n",
    "        stringsAsFactors = F\n",
    "    )    \n",
    "}\n"
   ]
  },
  {
   "cell_type": "code",
   "execution_count": 15,
   "metadata": {},
   "outputs": [],
   "source": [
    "fit_to_df <- function(fit){\n",
    "    fit_df <- summary(fit)$coeff %>%\n",
    "    as.data.frame() %>%\n",
    "    rownames_to_column('variable')\n",
    "\n",
    "    colnames(fit_df)[4] <- 'z_or_t_value'\n",
    "    colnames(fit_df)[5] <- 'P'\n",
    "    \n",
    "    fit_df\n",
    "}\n"
   ]
  },
  {
   "cell_type": "code",
   "execution_count": 14,
   "metadata": {},
   "outputs": [],
   "source": [
    "fit_geno_covar_model <- function(df, family){\n",
    "    if(family == 'binomial'){\n",
    "        df$phe <- df$phe - 1\n",
    "    }\n",
    "    \n",
    "    fit <- stats::as.formula(sprintf(\n",
    "        'phe ~ 1 + geno_score + covar_score'\n",
    "    )) %>%\n",
    "    glm(family=family, data=df)\n",
    "    \n",
    "    \n",
    "}\n"
   ]
  },
  {
   "cell_type": "code",
   "execution_count": 10,
   "metadata": {},
   "outputs": [],
   "source": [
    "phe_df <- fread(phe_f, colClasses=c('FID'='character', 'IID'='character')) %>%\n",
    "mutate(ID = paste(FID, IID, sep='_')) %>%\n",
    "column_to_rownames('ID')\n"
   ]
  },
  {
   "cell_type": "code",
   "execution_count": 16,
   "metadata": {},
   "outputs": [],
   "source": [
    "eval_df <- c('INI50', 'INI21001', 'HC269', 'HC382') %>%\n",
    "lapply(function(phe){   \n",
    "    c('1e-5', '1e-4', '1e-3') %>%\n",
    "    lapply(function(p_thr){\n",
    "        \n",
    "        metric.type <- ifelse(str_replace_all(phe, '[0-9]', '') %in% c('INI', 'QT_FC'), 'r2', 'auc')\n",
    "        family      <- ifelse(str_replace_all(phe, '[0-9]', '') %in% c('INI', 'QT_FC'), 'gaussian', 'binomial')\n",
    "\n",
    "        df <- phe_df %>% \n",
    "        select(all_of(c('FID', 'IID', phe, 'split'))) %>%\n",
    "        rename(!!'phe' := all_of(phe)) %>%\n",
    "        left_join(\n",
    "            read_PRS(file.path(PRS_d, sprintf('%s.P_%s.sscore.zst', phe, p_thr))),\n",
    "            by=c(\"FID\", \"IID\")\n",
    "        ) %>%\n",
    "        left_join(\n",
    "            read_covar_score(file.path(covar_score_d, sprintf('%s.covar.scores.tsv', phe))), \n",
    "            by=c(\"FID\", \"IID\")\n",
    "        ) %>%\n",
    "        drop_na(phe) %>%\n",
    "        filter(phe != -9)\n",
    "        \n",
    "        df %>%\n",
    "        filter(split %in% c('train')) %>%\n",
    "        fit_geno_covar_model(family) %>%\n",
    "        fit_to_df() -> geno_covar_fit_df\n",
    "        \n",
    "        w_geno  <- geno_covar_fit_df %>% filter(variable == 'geno_score') %>% pull(Estimate)\n",
    "        w_covar <- geno_covar_fit_df %>% filter(variable == 'covar_score') %>% pull(Estimate)\n",
    "        \n",
    "        df %>% mutate(\n",
    "            geno_covar_score = w_geno * geno_score + w_covar * covar_score\n",
    "        ) -> df\n",
    "        \n",
    "        nvars <- read_BETAs(\n",
    "            file.path(PRS_d, sprintf('%s.P_%s.plink.tsv', phe, p_thr))\n",
    "        ) %>% nrow()\n",
    "        \n",
    "        bind_rows(\n",
    "            df %>%\n",
    "            filter(split == 'train')%>%\n",
    "            eval_line_build(phe, metric.type, 'train'),\n",
    "\n",
    "            df %>%\n",
    "            filter(split == 'val')%>%\n",
    "            eval_line_build(phe, metric.type, 'val'),\n",
    "\n",
    "            df %>%\n",
    "            filter(split == 'test')%>%\n",
    "            eval_line_build(phe, metric.type, 'test')\n",
    "        ) %>%\n",
    "        mutate(\n",
    "            P_thr = p_thr,\n",
    "            n_variables = nvars \n",
    "        )\n",
    "    }) %>% bind_rows()        \n",
    "}) %>% bind_rows() %>%\n",
    "select(phe, P_thr, split, geno, covar, geno_covar, n_variables)\n"
   ]
  },
  {
   "cell_type": "code",
   "execution_count": 19,
   "metadata": {},
   "outputs": [],
   "source": [
    "eval_df %>%\n",
    "fwrite(out_f, sep='\\t', na = \"NA\", quote=F)\n"
   ]
  },
  {
   "cell_type": "code",
   "execution_count": 20,
   "metadata": {},
   "outputs": [
    {
     "data": {
      "text/html": [
       "<table>\n",
       "<caption>A data.frame: 12 × 7</caption>\n",
       "<thead>\n",
       "\t<tr><th scope=col>phe</th><th scope=col>P_thr</th><th scope=col>split</th><th scope=col>geno</th><th scope=col>covar</th><th scope=col>geno_covar</th><th scope=col>n_variables</th></tr>\n",
       "\t<tr><th scope=col>&lt;chr&gt;</th><th scope=col>&lt;chr&gt;</th><th scope=col>&lt;chr&gt;</th><th scope=col>&lt;dbl&gt;</th><th scope=col>&lt;dbl&gt;</th><th scope=col>&lt;dbl&gt;</th><th scope=col>&lt;int&gt;</th></tr>\n",
       "</thead>\n",
       "<tbody>\n",
       "\t<tr><td>INI50   </td><td>1e-5</td><td>val</td><td>0.03379383</td><td>0.53043804</td><td>0.56517925</td><td> 4401</td></tr>\n",
       "\t<tr><td>INI50   </td><td>1e-4</td><td>val</td><td>0.04025643</td><td>0.53043804</td><td>0.57156859</td><td> 6732</td></tr>\n",
       "\t<tr><td>INI50   </td><td>1e-3</td><td>val</td><td>0.04921455</td><td>0.53043804</td><td>0.57985885</td><td>11829</td></tr>\n",
       "\t<tr><td>INI21001</td><td>1e-5</td><td>val</td><td>0.01978492</td><td>0.01033191</td><td>0.02938880</td><td>  755</td></tr>\n",
       "\t<tr><td>INI21001</td><td>1e-4</td><td>val</td><td>0.02253438</td><td>0.01033191</td><td>0.03185341</td><td> 1655</td></tr>\n",
       "\t<tr><td>INI21001</td><td>1e-3</td><td>val</td><td>0.03046710</td><td>0.01033191</td><td>0.03909681</td><td> 4619</td></tr>\n",
       "\t<tr><td>HC269   </td><td>1e-5</td><td>val</td><td>0.59264117</td><td>0.69586291</td><td>0.71705309</td><td>  207</td></tr>\n",
       "\t<tr><td>HC269   </td><td>1e-4</td><td>val</td><td>0.59407061</td><td>0.69586291</td><td>0.71743090</td><td>  407</td></tr>\n",
       "\t<tr><td>HC269   </td><td>1e-3</td><td>val</td><td>0.58842561</td><td>0.69586291</td><td>0.70967753</td><td> 1359</td></tr>\n",
       "\t<tr><td>HC382   </td><td>1e-5</td><td>val</td><td>0.55261431</td><td>0.53439137</td><td>0.56272355</td><td>  451</td></tr>\n",
       "\t<tr><td>HC382   </td><td>1e-4</td><td>val</td><td>0.55403282</td><td>0.53439137</td><td>0.56362451</td><td>  730</td></tr>\n",
       "\t<tr><td>HC382   </td><td>1e-3</td><td>val</td><td>0.55773699</td><td>0.53439137</td><td>0.56609499</td><td> 1744</td></tr>\n",
       "</tbody>\n",
       "</table>\n"
      ],
      "text/latex": [
       "A data.frame: 12 × 7\n",
       "\\begin{tabular}{lllllll}\n",
       " phe & P\\_thr & split & geno & covar & geno\\_covar & n\\_variables\\\\\n",
       " <chr> & <chr> & <chr> & <dbl> & <dbl> & <dbl> & <int>\\\\\n",
       "\\hline\n",
       "\t INI50    & 1e-5 & val & 0.03379383 & 0.53043804 & 0.56517925 &  4401\\\\\n",
       "\t INI50    & 1e-4 & val & 0.04025643 & 0.53043804 & 0.57156859 &  6732\\\\\n",
       "\t INI50    & 1e-3 & val & 0.04921455 & 0.53043804 & 0.57985885 & 11829\\\\\n",
       "\t INI21001 & 1e-5 & val & 0.01978492 & 0.01033191 & 0.02938880 &   755\\\\\n",
       "\t INI21001 & 1e-4 & val & 0.02253438 & 0.01033191 & 0.03185341 &  1655\\\\\n",
       "\t INI21001 & 1e-3 & val & 0.03046710 & 0.01033191 & 0.03909681 &  4619\\\\\n",
       "\t HC269    & 1e-5 & val & 0.59264117 & 0.69586291 & 0.71705309 &   207\\\\\n",
       "\t HC269    & 1e-4 & val & 0.59407061 & 0.69586291 & 0.71743090 &   407\\\\\n",
       "\t HC269    & 1e-3 & val & 0.58842561 & 0.69586291 & 0.70967753 &  1359\\\\\n",
       "\t HC382    & 1e-5 & val & 0.55261431 & 0.53439137 & 0.56272355 &   451\\\\\n",
       "\t HC382    & 1e-4 & val & 0.55403282 & 0.53439137 & 0.56362451 &   730\\\\\n",
       "\t HC382    & 1e-3 & val & 0.55773699 & 0.53439137 & 0.56609499 &  1744\\\\\n",
       "\\end{tabular}\n"
      ],
      "text/markdown": [
       "\n",
       "A data.frame: 12 × 7\n",
       "\n",
       "| phe &lt;chr&gt; | P_thr &lt;chr&gt; | split &lt;chr&gt; | geno &lt;dbl&gt; | covar &lt;dbl&gt; | geno_covar &lt;dbl&gt; | n_variables &lt;int&gt; |\n",
       "|---|---|---|---|---|---|---|\n",
       "| INI50    | 1e-5 | val | 0.03379383 | 0.53043804 | 0.56517925 |  4401 |\n",
       "| INI50    | 1e-4 | val | 0.04025643 | 0.53043804 | 0.57156859 |  6732 |\n",
       "| INI50    | 1e-3 | val | 0.04921455 | 0.53043804 | 0.57985885 | 11829 |\n",
       "| INI21001 | 1e-5 | val | 0.01978492 | 0.01033191 | 0.02938880 |   755 |\n",
       "| INI21001 | 1e-4 | val | 0.02253438 | 0.01033191 | 0.03185341 |  1655 |\n",
       "| INI21001 | 1e-3 | val | 0.03046710 | 0.01033191 | 0.03909681 |  4619 |\n",
       "| HC269    | 1e-5 | val | 0.59264117 | 0.69586291 | 0.71705309 |   207 |\n",
       "| HC269    | 1e-4 | val | 0.59407061 | 0.69586291 | 0.71743090 |   407 |\n",
       "| HC269    | 1e-3 | val | 0.58842561 | 0.69586291 | 0.70967753 |  1359 |\n",
       "| HC382    | 1e-5 | val | 0.55261431 | 0.53439137 | 0.56272355 |   451 |\n",
       "| HC382    | 1e-4 | val | 0.55403282 | 0.53439137 | 0.56362451 |   730 |\n",
       "| HC382    | 1e-3 | val | 0.55773699 | 0.53439137 | 0.56609499 |  1744 |\n",
       "\n"
      ],
      "text/plain": [
       "   phe      P_thr split geno       covar      geno_covar n_variables\n",
       "1  INI50    1e-5  val   0.03379383 0.53043804 0.56517925  4401      \n",
       "2  INI50    1e-4  val   0.04025643 0.53043804 0.57156859  6732      \n",
       "3  INI50    1e-3  val   0.04921455 0.53043804 0.57985885 11829      \n",
       "4  INI21001 1e-5  val   0.01978492 0.01033191 0.02938880   755      \n",
       "5  INI21001 1e-4  val   0.02253438 0.01033191 0.03185341  1655      \n",
       "6  INI21001 1e-3  val   0.03046710 0.01033191 0.03909681  4619      \n",
       "7  HC269    1e-5  val   0.59264117 0.69586291 0.71705309   207      \n",
       "8  HC269    1e-4  val   0.59407061 0.69586291 0.71743090   407      \n",
       "9  HC269    1e-3  val   0.58842561 0.69586291 0.70967753  1359      \n",
       "10 HC382    1e-5  val   0.55261431 0.53439137 0.56272355   451      \n",
       "11 HC382    1e-4  val   0.55403282 0.53439137 0.56362451   730      \n",
       "12 HC382    1e-3  val   0.55773699 0.53439137 0.56609499  1744      "
      ]
     },
     "metadata": {},
     "output_type": "display_data"
    }
   ],
   "source": [
    "eval_df %>%\n",
    "filter(split == 'val')"
   ]
  },
  {
   "cell_type": "code",
   "execution_count": 25,
   "metadata": {},
   "outputs": [
    {
     "data": {
      "text/html": [
       "<table>\n",
       "<caption>A tibble: 4 × 7</caption>\n",
       "<thead>\n",
       "\t<tr><th scope=col>phe</th><th scope=col>P_thr</th><th scope=col>split</th><th scope=col>geno</th><th scope=col>covar</th><th scope=col>geno_covar</th><th scope=col>n_variables</th></tr>\n",
       "\t<tr><th scope=col>&lt;chr&gt;</th><th scope=col>&lt;chr&gt;</th><th scope=col>&lt;chr&gt;</th><th scope=col>&lt;dbl&gt;</th><th scope=col>&lt;dbl&gt;</th><th scope=col>&lt;dbl&gt;</th><th scope=col>&lt;int&gt;</th></tr>\n",
       "</thead>\n",
       "<tbody>\n",
       "\t<tr><td>INI50   </td><td>1e-3</td><td>val</td><td>0.04921455</td><td>0.53043804</td><td>0.57985885</td><td>11829</td></tr>\n",
       "\t<tr><td>INI21001</td><td>1e-3</td><td>val</td><td>0.03046710</td><td>0.01033191</td><td>0.03909681</td><td> 4619</td></tr>\n",
       "\t<tr><td>HC269   </td><td>1e-4</td><td>val</td><td>0.59407061</td><td>0.69586291</td><td>0.71743090</td><td>  407</td></tr>\n",
       "\t<tr><td>HC382   </td><td>1e-3</td><td>val</td><td>0.55773699</td><td>0.53439137</td><td>0.56609499</td><td> 1744</td></tr>\n",
       "</tbody>\n",
       "</table>\n"
      ],
      "text/latex": [
       "A tibble: 4 × 7\n",
       "\\begin{tabular}{lllllll}\n",
       " phe & P\\_thr & split & geno & covar & geno\\_covar & n\\_variables\\\\\n",
       " <chr> & <chr> & <chr> & <dbl> & <dbl> & <dbl> & <int>\\\\\n",
       "\\hline\n",
       "\t INI50    & 1e-3 & val & 0.04921455 & 0.53043804 & 0.57985885 & 11829\\\\\n",
       "\t INI21001 & 1e-3 & val & 0.03046710 & 0.01033191 & 0.03909681 &  4619\\\\\n",
       "\t HC269    & 1e-4 & val & 0.59407061 & 0.69586291 & 0.71743090 &   407\\\\\n",
       "\t HC382    & 1e-3 & val & 0.55773699 & 0.53439137 & 0.56609499 &  1744\\\\\n",
       "\\end{tabular}\n"
      ],
      "text/markdown": [
       "\n",
       "A tibble: 4 × 7\n",
       "\n",
       "| phe &lt;chr&gt; | P_thr &lt;chr&gt; | split &lt;chr&gt; | geno &lt;dbl&gt; | covar &lt;dbl&gt; | geno_covar &lt;dbl&gt; | n_variables &lt;int&gt; |\n",
       "|---|---|---|---|---|---|---|\n",
       "| INI50    | 1e-3 | val | 0.04921455 | 0.53043804 | 0.57985885 | 11829 |\n",
       "| INI21001 | 1e-3 | val | 0.03046710 | 0.01033191 | 0.03909681 |  4619 |\n",
       "| HC269    | 1e-4 | val | 0.59407061 | 0.69586291 | 0.71743090 |   407 |\n",
       "| HC382    | 1e-3 | val | 0.55773699 | 0.53439137 | 0.56609499 |  1744 |\n",
       "\n"
      ],
      "text/plain": [
       "  phe      P_thr split geno       covar      geno_covar n_variables\n",
       "1 INI50    1e-3  val   0.04921455 0.53043804 0.57985885 11829      \n",
       "2 INI21001 1e-3  val   0.03046710 0.01033191 0.03909681  4619      \n",
       "3 HC269    1e-4  val   0.59407061 0.69586291 0.71743090   407      \n",
       "4 HC382    1e-3  val   0.55773699 0.53439137 0.56609499  1744      "
      ]
     },
     "metadata": {},
     "output_type": "display_data"
    }
   ],
   "source": [
    "eval_df %>%\n",
    "filter(split == 'val') %>%\n",
    "group_by(phe) %>%\n",
    "mutate(r = rank(-geno_covar)) %>%\n",
    "filter(r == 1) %>% select(-r) %>%\n",
    "ungroup()"
   ]
  },
  {
   "cell_type": "code",
   "execution_count": null,
   "metadata": {},
   "outputs": [],
   "source": []
  }
 ],
 "metadata": {
  "kernelspec": {
   "display_name": "R",
   "language": "R",
   "name": "ir"
  },
  "language_info": {
   "codemirror_mode": "r",
   "file_extension": ".r",
   "mimetype": "text/x-r-source",
   "name": "R",
   "pygments_lexer": "r",
   "version": "3.6.2"
  }
 },
 "nbformat": 4,
 "nbformat_minor": 4
}
