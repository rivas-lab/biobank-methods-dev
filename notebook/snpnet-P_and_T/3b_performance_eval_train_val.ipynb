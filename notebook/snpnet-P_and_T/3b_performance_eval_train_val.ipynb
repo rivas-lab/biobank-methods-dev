{
 "cells": [
  {
   "cell_type": "code",
   "execution_count": 1,
   "metadata": {},
   "outputs": [],
   "source": [
    "suppressWarnings(suppressPackageStartupMessages({\n",
    "    library(tidyverse)\n",
    "    library(data.table)\n",
    "}))\n"
   ]
  },
  {
   "cell_type": "code",
   "execution_count": 2,
   "metadata": {},
   "outputs": [],
   "source": [
    "# input\n",
    "data_d_root <- '/oak/stanford/groups/mrivas/projects/biobank-methods-dev'\n",
    "phe_f <- file.path(data_d_root, 'snpnet-elastic-net/phenotype.phe')\n",
    "PRS_d <- file.path(data_d_root, 'snpnet-P_and_T', 'train_val')\n",
    "covar_score_d <- file.path(data_d_root, 'snpnet-PRScs/covar_betas_train_val')\n",
    "\n",
    "# constants\n",
    "covars <- c('age', 'sex', paste0('PC', 1:10))\n",
    "\n",
    "# output\n",
    "out_f <- 'snpnet-P_and_T.train_val.eval.tsv'\n"
   ]
  },
  {
   "cell_type": "code",
   "execution_count": 3,
   "metadata": {},
   "outputs": [],
   "source": [
    "read_BETAs <- function(beta_f){\n",
    "    fread(beta_f)\n",
    "}\n"
   ]
  },
  {
   "cell_type": "code",
   "execution_count": 4,
   "metadata": {},
   "outputs": [],
   "source": [
    "read_PRS <- function(sscore_f){\n",
    "    fread(\n",
    "        cmd=paste('zstdcat', sscore_f),\n",
    "        select=c('#FID', 'IID', 'SCORE1_SUM'),\n",
    "        colClasses=c('#FID'='character', 'IID'='character')\n",
    "    ) %>%\n",
    "    rename('FID'='#FID', 'geno_score'='SCORE1_SUM')\n",
    "}\n"
   ]
  },
  {
   "cell_type": "code",
   "execution_count": 5,
   "metadata": {},
   "outputs": [],
   "source": [
    "read_covar_score <- function(covar_score_f){\n",
    "    fread(\n",
    "        cmd=paste('zstdcat', covar_score_f),\n",
    "        select=c('#FID', 'IID', 'Estimate'),\n",
    "        colClasses=c('#FID'='character', 'IID'='character')\n",
    "    ) %>%\n",
    "    rename('FID'='#FID', 'covar_score'='Estimate')\n",
    "    \n",
    "}\n"
   ]
  },
  {
   "cell_type": "code",
   "execution_count": 6,
   "metadata": {},
   "outputs": [],
   "source": [
    "perform_eval <- function(response, pred, metric.type){\n",
    "    if(metric.type == 'r2'){\n",
    "        summary(lm(response ~ 1 + pred))$r.squared\n",
    "    }else{\n",
    "#         pROC::auc(pROC::roc(response, pred))        \n",
    "        pred.obj <- ROCR::prediction(pred, factor(response - 1))\n",
    "        auc.obj <- ROCR::performance(pred.obj, measure = 'auc')\n",
    "        auc.obj@y.values[[1]]\n",
    "    }\n",
    "}\n"
   ]
  },
  {
   "cell_type": "code",
   "execution_count": 7,
   "metadata": {},
   "outputs": [],
   "source": [
    "eval_line_build <- function(score_test_df, phe, metric.type, split_string){\n",
    "    data.frame(\n",
    "        phe        = phe,\n",
    "        split      = split_string,\n",
    "        geno       = perform_eval(\n",
    "            score_test_df$phe,\n",
    "            score_test_df$geno_score,\n",
    "            metric.type\n",
    "        ),\n",
    "        covar      = perform_eval(\n",
    "            score_test_df$phe,\n",
    "            score_test_df$covar_score,\n",
    "            metric.type\n",
    "        ),\n",
    "        geno_covar = perform_eval(\n",
    "            score_test_df$phe,\n",
    "            score_test_df$geno_covar_score,\n",
    "            metric.type\n",
    "        ),\n",
    "        stringsAsFactors = F\n",
    "    )    \n",
    "}\n"
   ]
  },
  {
   "cell_type": "code",
   "execution_count": 8,
   "metadata": {},
   "outputs": [],
   "source": [
    "fit_to_df <- function(fit){\n",
    "    fit_df <- summary(fit)$coeff %>%\n",
    "    as.data.frame() %>%\n",
    "    rownames_to_column('variable')\n",
    "\n",
    "    colnames(fit_df)[4] <- 'z_or_t_value'\n",
    "    colnames(fit_df)[5] <- 'P'\n",
    "    \n",
    "    fit_df\n",
    "}\n"
   ]
  },
  {
   "cell_type": "code",
   "execution_count": 9,
   "metadata": {},
   "outputs": [],
   "source": [
    "fit_geno_covar_model <- function(df, family){\n",
    "    if(family == 'binomial'){\n",
    "        df$phe <- df$phe - 1\n",
    "    }\n",
    "    \n",
    "    fit <- stats::as.formula(sprintf(\n",
    "        'phe ~ 1 + geno_score + covar_score'\n",
    "    )) %>%\n",
    "    glm(family=family, data=df)\n",
    "    \n",
    "    \n",
    "}\n"
   ]
  },
  {
   "cell_type": "code",
   "execution_count": 10,
   "metadata": {},
   "outputs": [],
   "source": [
    "phe_df <- fread(phe_f, colClasses=c('FID'='character', 'IID'='character')) %>%\n",
    "mutate(ID = paste(FID, IID, sep='_')) %>%\n",
    "column_to_rownames('ID')\n"
   ]
  },
  {
   "cell_type": "code",
   "execution_count": 11,
   "metadata": {},
   "outputs": [],
   "source": [
    "eval_df <- c('INI50', 'INI21001', 'HC269', 'HC382') %>%\n",
    "lapply(function(phe){   \n",
    "    c('1e-5', '1e-4', '1e-3') %>%\n",
    "    lapply(function(p_thr){\n",
    "        \n",
    "        metric.type <- ifelse(str_replace_all(phe, '[0-9]', '') %in% c('INI', 'QT_FC'), 'r2', 'auc')\n",
    "        family      <- ifelse(str_replace_all(phe, '[0-9]', '') %in% c('INI', 'QT_FC'), 'gaussian', 'binomial')        \n",
    "\n",
    "        df <- phe_df %>% \n",
    "        select(all_of(c('FID', 'IID', phe, 'split'))) %>%\n",
    "        rename(!!'phe' := all_of(phe)) %>%\n",
    "        left_join(\n",
    "            read_PRS(file.path(PRS_d, sprintf('%s.P_%s.sscore.zst', phe, p_thr))),\n",
    "            by=c(\"FID\", \"IID\")\n",
    "        ) %>%\n",
    "        left_join(\n",
    "            read_covar_score(file.path(covar_score_d, sprintf('%s.covar.scores.tsv', phe))), \n",
    "            by=c(\"FID\", \"IID\")\n",
    "        ) %>%\n",
    "        drop_na(phe) %>%\n",
    "        filter(phe != -9)\n",
    "        \n",
    "        df %>%\n",
    "        filter(split %in% c('train', 'val')) %>%\n",
    "        fit_geno_covar_model(family) %>%\n",
    "        fit_to_df() -> geno_covar_fit_df\n",
    "        \n",
    "        w_geno  <- geno_covar_fit_df %>% filter(variable == 'geno_score') %>% pull(Estimate)\n",
    "        w_covar <- geno_covar_fit_df %>% filter(variable == 'covar_score') %>% pull(Estimate)\n",
    "        \n",
    "        df %>% mutate(\n",
    "            geno_covar_score = w_geno * geno_score + w_covar * covar_score\n",
    "        ) -> df\n",
    "\n",
    "        nvars <- read_BETAs(\n",
    "            file.path(PRS_d, sprintf('%s.P_%s.plink.tsv', phe, p_thr))\n",
    "        ) %>% nrow()\n",
    "        \n",
    "        bind_rows(\n",
    "            df %>%\n",
    "            filter(split %in% c('train', 'val'))%>%\n",
    "            eval_line_build(phe, metric.type, 'train+val'),\n",
    "\n",
    "            df %>%\n",
    "            filter(split == 'test')%>%\n",
    "            eval_line_build(phe, metric.type, 'test')\n",
    "        ) %>%\n",
    "        mutate(\n",
    "            P_thr = p_thr,\n",
    "            n_variables = nvars \n",
    "        )\n",
    "    }) %>% bind_rows()        \n",
    "}) %>% bind_rows() %>%\n",
    "select(phe, P_thr, split, geno, covar, geno_covar, n_variables)\n"
   ]
  },
  {
   "cell_type": "code",
   "execution_count": 12,
   "metadata": {},
   "outputs": [],
   "source": [
    "eval_df %>%\n",
    "fwrite(out_f, sep='\\t', na = \"NA\", quote=F)\n"
   ]
  },
  {
   "cell_type": "markdown",
   "metadata": {},
   "source": [
    "The hyper-paramter `P_thr` was selected based on the validation set metric in `3a_performance_eval_train.ipynb`.\n"
   ]
  },
  {
   "cell_type": "code",
   "execution_count": 13,
   "metadata": {},
   "outputs": [
    {
     "data": {
      "text/html": [
       "<table>\n",
       "<caption>A data.table: 4 × 7</caption>\n",
       "<thead>\n",
       "\t<tr><th scope=col>phe</th><th scope=col>P_thr</th><th scope=col>split</th><th scope=col>geno</th><th scope=col>covar</th><th scope=col>geno_covar</th><th scope=col>n_variables</th></tr>\n",
       "\t<tr><th scope=col>&lt;chr&gt;</th><th scope=col>&lt;dbl&gt;</th><th scope=col>&lt;chr&gt;</th><th scope=col>&lt;dbl&gt;</th><th scope=col>&lt;dbl&gt;</th><th scope=col>&lt;dbl&gt;</th><th scope=col>&lt;int&gt;</th></tr>\n",
       "</thead>\n",
       "<tbody>\n",
       "\t<tr><td>INI50   </td><td>1e-03</td><td>test</td><td>0.05614108</td><td>0.533574168</td><td>0.59124389</td><td>15532</td></tr>\n",
       "\t<tr><td>INI21001</td><td>1e-03</td><td>test</td><td>0.03647132</td><td>0.009921578</td><td>0.04550622</td><td> 6535</td></tr>\n",
       "\t<tr><td>HC269   </td><td>1e-04</td><td>test</td><td>0.58479953</td><td>0.688961985</td><td>0.70791879</td><td>  585</td></tr>\n",
       "\t<tr><td>HC382   </td><td>1e-03</td><td>test</td><td>0.55547170</td><td>0.537067630</td><td>0.56411865</td><td> 2209</td></tr>\n",
       "</tbody>\n",
       "</table>\n"
      ],
      "text/latex": [
       "A data.table: 4 × 7\n",
       "\\begin{tabular}{lllllll}\n",
       " phe & P\\_thr & split & geno & covar & geno\\_covar & n\\_variables\\\\\n",
       " <chr> & <dbl> & <chr> & <dbl> & <dbl> & <dbl> & <int>\\\\\n",
       "\\hline\n",
       "\t INI50    & 1e-03 & test & 0.05614108 & 0.533574168 & 0.59124389 & 15532\\\\\n",
       "\t INI21001 & 1e-03 & test & 0.03647132 & 0.009921578 & 0.04550622 &  6535\\\\\n",
       "\t HC269    & 1e-04 & test & 0.58479953 & 0.688961985 & 0.70791879 &   585\\\\\n",
       "\t HC382    & 1e-03 & test & 0.55547170 & 0.537067630 & 0.56411865 &  2209\\\\\n",
       "\\end{tabular}\n"
      ],
      "text/markdown": [
       "\n",
       "A data.table: 4 × 7\n",
       "\n",
       "| phe &lt;chr&gt; | P_thr &lt;dbl&gt; | split &lt;chr&gt; | geno &lt;dbl&gt; | covar &lt;dbl&gt; | geno_covar &lt;dbl&gt; | n_variables &lt;int&gt; |\n",
       "|---|---|---|---|---|---|---|\n",
       "| INI50    | 1e-03 | test | 0.05614108 | 0.533574168 | 0.59124389 | 15532 |\n",
       "| INI21001 | 1e-03 | test | 0.03647132 | 0.009921578 | 0.04550622 |  6535 |\n",
       "| HC269    | 1e-04 | test | 0.58479953 | 0.688961985 | 0.70791879 |   585 |\n",
       "| HC382    | 1e-03 | test | 0.55547170 | 0.537067630 | 0.56411865 |  2209 |\n",
       "\n"
      ],
      "text/plain": [
       "  phe      P_thr split geno       covar       geno_covar n_variables\n",
       "1 INI50    1e-03 test  0.05614108 0.533574168 0.59124389 15532      \n",
       "2 INI21001 1e-03 test  0.03647132 0.009921578 0.04550622  6535      \n",
       "3 HC269    1e-04 test  0.58479953 0.688961985 0.70791879   585      \n",
       "4 HC382    1e-03 test  0.55547170 0.537067630 0.56411865  2209      "
      ]
     },
     "metadata": {},
     "output_type": "display_data"
    }
   ],
   "source": [
    "fread(out_f) %>%\n",
    "right_join(\n",
    "    data.frame(\n",
    "        phe = c('INI50', 'INI21001', 'HC269', 'HC382'),\n",
    "        P_thr = c(1e-3, 1e-3, 1e-4, 1e-3)\n",
    "    ), by = c(\"phe\", \"P_thr\")\n",
    ") %>%\n",
    "filter(split == 'test')"
   ]
  },
  {
   "cell_type": "code",
   "execution_count": null,
   "metadata": {},
   "outputs": [],
   "source": []
  }
 ],
 "metadata": {
  "kernelspec": {
   "display_name": "R",
   "language": "R",
   "name": "ir"
  },
  "language_info": {
   "codemirror_mode": "r",
   "file_extension": ".r",
   "mimetype": "text/x-r-source",
   "name": "R",
   "pygments_lexer": "r",
   "version": "3.6.2"
  }
 },
 "nbformat": 4,
 "nbformat_minor": 4
}
