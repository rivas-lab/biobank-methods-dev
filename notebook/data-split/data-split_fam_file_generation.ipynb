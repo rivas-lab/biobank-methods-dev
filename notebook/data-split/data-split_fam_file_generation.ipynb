{
 "cells": [
  {
   "cell_type": "code",
   "execution_count": 20,
   "metadata": {},
   "outputs": [],
   "source": [
    "%matplotlib inline\n",
    "\n",
    "import numpy as np\n",
    "import pandas as pd\n",
    "import matplotlib, collections, itertools, os, re, textwrap, logging\n",
    "import matplotlib.pyplot as plt\n",
    "import matplotlib.gridspec as gridspec\n",
    "import matplotlib.patches as mpatches\n",
    "from functools import reduce\n",
    "\n",
    "from logging.config import dictConfig\n",
    "from logging import getLogger\n",
    "\n",
    "dictConfig(dict(\n",
    "    version = 1,\n",
    "    formatters = {'f': {'format': '%(asctime)s %(name)-12s %(levelname)-8s %(message)s'}},\n",
    "    handlers = {\n",
    "        'h': {'class': 'logging.StreamHandler','formatter': 'f',\n",
    "              'level': logging.DEBUG}},\n",
    "    root = {'handlers': ['h'], 'level': logging.DEBUG,},\n",
    "))\n",
    "\n",
    "matplotlib_font = { \n",
    "    'size'   : 16 #, 'family' : 'normal', 'weight' : 'bold', \n",
    "}\n",
    "\n",
    "matplotlib.rc('font', **matplotlib_font)\n",
    "logger = getLogger('notebook')\n",
    "\n",
    "repo_dir=os.path.realpath(\n",
    "    os.path.join('..', '..')\n",
    ")\n",
    "data_dir=os.path.realpath(\n",
    "    os.path.join(repo_dir, 'private_data', os.path.basename(os.path.realpath(os.getcwd())))\n",
    ")"
   ]
  },
  {
   "cell_type": "code",
   "execution_count": 42,
   "metadata": {},
   "outputs": [],
   "source": [
    "def read_ids():\n",
    "    '''This function reads three files (training,validation, and test set)\n",
    "    '''\n",
    "    ids = collections.OrderedDict([])\n",
    "    for split_class in ['train', 'val', 'test', ]:\n",
    "        ids[split_class] = list(\n",
    "            pd.read_csv(\n",
    "                os.path.join(data_dir, '{}_ids.csv'.format(split_class)),\n",
    "                names=['idx', 'IID'], skiprows=1\n",
    "            )['IID']\n",
    "        )\n",
    "    return ids"
   ]
  },
  {
   "cell_type": "code",
   "execution_count": 38,
   "metadata": {},
   "outputs": [],
   "source": [
    "def read_337199():\n",
    "    '''This function reads 337,199 White British individuals\n",
    "    '''\n",
    "    white_british = '/oak/stanford/groups/mrivas/private_data/ukbb/24983/sqc/population_stratification/ukb24983_white_british.phe'\n",
    "    return list(\n",
    "        pd.read_table(\n",
    "            white_british, names=['IID', 'FID'],            \n",
    "        )['IID']\n",
    "    )"
   ]
  },
  {
   "cell_type": "markdown",
   "metadata": {},
   "source": [
    "### Comparison of population stratification\n",
    "- Junyang's set has 337,203 individuals while Rivas lab's standard has 337,199 individuals"
   ]
  },
  {
   "cell_type": "code",
   "execution_count": 53,
   "metadata": {},
   "outputs": [],
   "source": [
    "white_british = read_337199()\n",
    "ids = read_ids()"
   ]
  },
  {
   "cell_type": "code",
   "execution_count": 54,
   "metadata": {},
   "outputs": [],
   "source": [
    "ids_all = reduce(lambda x, y: set(x).union(y), ids.values())"
   ]
  },
  {
   "cell_type": "code",
   "execution_count": 55,
   "metadata": {},
   "outputs": [
    {
     "data": {
      "text/plain": [
       "(337203, 337199)"
      ]
     },
     "execution_count": 55,
     "metadata": {},
     "output_type": "execute_result"
    }
   ],
   "source": [
    "len(ids_all), len(white_british)"
   ]
  },
  {
   "cell_type": "code",
   "execution_count": 56,
   "metadata": {},
   "outputs": [
    {
     "data": {
      "text/plain": [
       "{-6, -5, -2, -1}"
      ]
     },
     "execution_count": 56,
     "metadata": {},
     "output_type": "execute_result"
    }
   ],
   "source": [
    "ids_all - set(white_british)"
   ]
  },
  {
   "cell_type": "markdown",
   "metadata": {},
   "source": [
    "- individual IDs with negative number needs to be removed from the analysis"
   ]
  },
  {
   "cell_type": "markdown",
   "metadata": {},
   "source": [
    "### Removal of reducted individuals"
   ]
  },
  {
   "cell_type": "code",
   "execution_count": 63,
   "metadata": {},
   "outputs": [],
   "source": [
    "ids_337199 = collections.OrderedDict([])\n",
    "for k in ids.keys():\n",
    "    ids_337199[k] = [x for x in ids[k] if x > 0]"
   ]
  },
  {
   "cell_type": "code",
   "execution_count": 64,
   "metadata": {},
   "outputs": [
    {
     "name": "stdout",
     "output_type": "stream",
     "text": [
      "train\t202277\n",
      "val\t67654\n",
      "test\t67272\n"
     ]
    }
   ],
   "source": [
    "for k, v in ids.items():\n",
    "    print('{}\\t{}'.format(k, len(v)))"
   ]
  },
  {
   "cell_type": "code",
   "execution_count": 65,
   "metadata": {},
   "outputs": [
    {
     "name": "stdout",
     "output_type": "stream",
     "text": [
      "train\t202276\n",
      "val\t67651\n",
      "test\t67272\n"
     ]
    }
   ],
   "source": [
    "for k, v in ids_337199.items():\n",
    "    print('{}\\t{}'.format(k, len(v)))"
   ]
  },
  {
   "cell_type": "markdown",
   "metadata": {},
   "source": [
    "### Save as .fam files\n",
    "- https://www.cog-genomics.org/plink/1.9/formats"
   ]
  },
  {
   "cell_type": "code",
   "execution_count": 66,
   "metadata": {},
   "outputs": [],
   "source": [
    "for split_class in ['train', 'val', 'test', ]:\n",
    "    pd.DataFrame({\n",
    "        'FID': ids_337199[split_class],\n",
    "        'IID': ids_337199[split_class],        \n",
    "    }).to_csv(\n",
    "        os.path.join(data_dir, '{}.fam'.format(split_class)),\n",
    "        sep = '\\t',\n",
    "        header = False, \n",
    "        index = False,\n",
    "    )    "
   ]
  },
  {
   "cell_type": "code",
   "execution_count": null,
   "metadata": {},
   "outputs": [],
   "source": []
  }
 ],
 "metadata": {
  "kernelspec": {
   "display_name": "dev36",
   "language": "python",
   "name": "dev36"
  },
  "language_info": {
   "codemirror_mode": {
    "name": "ipython",
    "version": 3
   },
   "file_extension": ".py",
   "mimetype": "text/x-python",
   "name": "python",
   "nbconvert_exporter": "python",
   "pygments_lexer": "ipython3",
   "version": "3.6.1"
  }
 },
 "nbformat": 4,
 "nbformat_minor": 2
}
