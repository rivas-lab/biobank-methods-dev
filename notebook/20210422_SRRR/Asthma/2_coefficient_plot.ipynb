{
 "cells": [
  {
   "cell_type": "code",
   "execution_count": 1,
   "id": "functional-lying",
   "metadata": {},
   "outputs": [],
   "source": [
    "suppressWarnings(suppressPackageStartupMessages({\n",
    "    library(tidyverse)\n",
    "    library(data.table)\n",
    "}))\n"
   ]
  },
  {
   "cell_type": "code",
   "execution_count": 2,
   "id": "italic-terminology",
   "metadata": {},
   "outputs": [],
   "source": [
    "source('../parameters.sh')\n",
    "source('parameters.sh')\n",
    "\n"
   ]
  },
  {
   "cell_type": "code",
   "execution_count": 20,
   "id": "plastic-receiver",
   "metadata": {},
   "outputs": [],
   "source": [
    "file.path(data_d, str_replace(RData_path, '.RData', ''), variant_weights_f) %>%\n",
    "fread(colClasses = c('#CHROM'='character', 'POS_total' = 'numeric')) %>%\n",
    "rename('CHROM'='#CHROM') %>%\n",
    "mutate(\n",
    "    color = if_else(CHROM %in% c(2 * 1:11, 'Y'), \"2_even_chrs\", \"1_odd_chrs\"),\n",
    "    ggrepel = if_else(!is.na(SYMBOL), SYMBOL, '')\n",
    ")-> df\n"
   ]
  },
  {
   "cell_type": "code",
   "execution_count": 11,
   "id": "positive-leonard",
   "metadata": {},
   "outputs": [
    {
     "data": {
      "text/html": [
       "<style>\n",
       ".list-inline {list-style: none; margin:0; padding: 0}\n",
       ".list-inline>li {display: inline-block}\n",
       ".list-inline>li:not(:last-child)::after {content: \"\\00b7\"; padding: 0 .5ex}\n",
       "</style>\n",
       "<ol class=list-inline><li>'CHROM'</li><li>'POS'</li><li>'ID'</li><li>'REF'</li><li>'ALT'</li><li>'FILTER'</li><li>'POS_total'</li><li>'Allele'</li><li>'Csq'</li><li>'Consequence'</li><li>'SYMBOL'</li><li>'Gene'</li><li>'ld_indep'</li><li>'geno_data_source'</li><li>'array'</li><li>'CNV_POS_s'</li><li>'CNV_POS_e'</li><li>'UKB_white_british_MAF'</li><li>'hwe_p'</li><li>'mgi_notes'</li><li>'f_miss'</li><li>'f_miss_UKBB'</li><li>'f_miss_UKBL'</li><li>'LoF'</li><li>'LoF_filter'</li><li>'LoF_flags'</li><li>'LoF_info'</li><li>'HGVSp'</li><li>'ID_ALT'</li><li>'INI30130'</li><li>'INI30140'</li><li>'INI30150'</li><li>'INI30160'</li><li>'INI3062'</li><li>'INI3064'</li><li>'INI3063'</li><li>'HC382'</li><li>'Component1'</li><li>'Component2'</li><li>'Component3'</li><li>'Component4'</li><li>'Component5'</li><li>'Component6'</li><li>'Component7'</li><li>'Component8'</li></ol>\n"
      ],
      "text/latex": [
       "\\begin{enumerate*}\n",
       "\\item 'CHROM'\n",
       "\\item 'POS'\n",
       "\\item 'ID'\n",
       "\\item 'REF'\n",
       "\\item 'ALT'\n",
       "\\item 'FILTER'\n",
       "\\item 'POS\\_total'\n",
       "\\item 'Allele'\n",
       "\\item 'Csq'\n",
       "\\item 'Consequence'\n",
       "\\item 'SYMBOL'\n",
       "\\item 'Gene'\n",
       "\\item 'ld\\_indep'\n",
       "\\item 'geno\\_data\\_source'\n",
       "\\item 'array'\n",
       "\\item 'CNV\\_POS\\_s'\n",
       "\\item 'CNV\\_POS\\_e'\n",
       "\\item 'UKB\\_white\\_british\\_MAF'\n",
       "\\item 'hwe\\_p'\n",
       "\\item 'mgi\\_notes'\n",
       "\\item 'f\\_miss'\n",
       "\\item 'f\\_miss\\_UKBB'\n",
       "\\item 'f\\_miss\\_UKBL'\n",
       "\\item 'LoF'\n",
       "\\item 'LoF\\_filter'\n",
       "\\item 'LoF\\_flags'\n",
       "\\item 'LoF\\_info'\n",
       "\\item 'HGVSp'\n",
       "\\item 'ID\\_ALT'\n",
       "\\item 'INI30130'\n",
       "\\item 'INI30140'\n",
       "\\item 'INI30150'\n",
       "\\item 'INI30160'\n",
       "\\item 'INI3062'\n",
       "\\item 'INI3064'\n",
       "\\item 'INI3063'\n",
       "\\item 'HC382'\n",
       "\\item 'Component1'\n",
       "\\item 'Component2'\n",
       "\\item 'Component3'\n",
       "\\item 'Component4'\n",
       "\\item 'Component5'\n",
       "\\item 'Component6'\n",
       "\\item 'Component7'\n",
       "\\item 'Component8'\n",
       "\\end{enumerate*}\n"
      ],
      "text/markdown": [
       "1. 'CHROM'\n",
       "2. 'POS'\n",
       "3. 'ID'\n",
       "4. 'REF'\n",
       "5. 'ALT'\n",
       "6. 'FILTER'\n",
       "7. 'POS_total'\n",
       "8. 'Allele'\n",
       "9. 'Csq'\n",
       "10. 'Consequence'\n",
       "11. 'SYMBOL'\n",
       "12. 'Gene'\n",
       "13. 'ld_indep'\n",
       "14. 'geno_data_source'\n",
       "15. 'array'\n",
       "16. 'CNV_POS_s'\n",
       "17. 'CNV_POS_e'\n",
       "18. 'UKB_white_british_MAF'\n",
       "19. 'hwe_p'\n",
       "20. 'mgi_notes'\n",
       "21. 'f_miss'\n",
       "22. 'f_miss_UKBB'\n",
       "23. 'f_miss_UKBL'\n",
       "24. 'LoF'\n",
       "25. 'LoF_filter'\n",
       "26. 'LoF_flags'\n",
       "27. 'LoF_info'\n",
       "28. 'HGVSp'\n",
       "29. 'ID_ALT'\n",
       "30. 'INI30130'\n",
       "31. 'INI30140'\n",
       "32. 'INI30150'\n",
       "33. 'INI30160'\n",
       "34. 'INI3062'\n",
       "35. 'INI3064'\n",
       "36. 'INI3063'\n",
       "37. 'HC382'\n",
       "38. 'Component1'\n",
       "39. 'Component2'\n",
       "40. 'Component3'\n",
       "41. 'Component4'\n",
       "42. 'Component5'\n",
       "43. 'Component6'\n",
       "44. 'Component7'\n",
       "45. 'Component8'\n",
       "\n",
       "\n"
      ],
      "text/plain": [
       " [1] \"CHROM\"                 \"POS\"                   \"ID\"                   \n",
       " [4] \"REF\"                   \"ALT\"                   \"FILTER\"               \n",
       " [7] \"POS_total\"             \"Allele\"                \"Csq\"                  \n",
       "[10] \"Consequence\"           \"SYMBOL\"                \"Gene\"                 \n",
       "[13] \"ld_indep\"              \"geno_data_source\"      \"array\"                \n",
       "[16] \"CNV_POS_s\"             \"CNV_POS_e\"             \"UKB_white_british_MAF\"\n",
       "[19] \"hwe_p\"                 \"mgi_notes\"             \"f_miss\"               \n",
       "[22] \"f_miss_UKBB\"           \"f_miss_UKBL\"           \"LoF\"                  \n",
       "[25] \"LoF_filter\"            \"LoF_flags\"             \"LoF_info\"             \n",
       "[28] \"HGVSp\"                 \"ID_ALT\"                \"INI30130\"             \n",
       "[31] \"INI30140\"              \"INI30150\"              \"INI30160\"             \n",
       "[34] \"INI3062\"               \"INI3064\"               \"INI3063\"              \n",
       "[37] \"HC382\"                 \"Component1\"            \"Component2\"           \n",
       "[40] \"Component3\"            \"Component4\"            \"Component5\"           \n",
       "[43] \"Component6\"            \"Component7\"            \"Component8\"           "
      ]
     },
     "metadata": {},
     "output_type": "display_data"
    }
   ],
   "source": [
    "df %>%\n",
    "colnames()"
   ]
  },
  {
   "cell_type": "code",
   "execution_count": 27,
   "id": "competent-template",
   "metadata": {},
   "outputs": [],
   "source": [
    "plot_col <- 'HC382'"
   ]
  },
  {
   "cell_type": "code",
   "execution_count": 33,
   "id": "wicked-evans",
   "metadata": {},
   "outputs": [],
   "source": [
    "df %>%\n",
    "rename(!!'plotCol' := all_of(plot_col)) %>%\n",
    "mutate(ggrepel = if_else(abs(plotCol)> 0.01, ggrepel, '')) %>%\n",
    "ggplot(aes(x = POS_total, y = plotCol, color=color, label=ggrepel)) +\n",
    "geom_point() +\n",
    "theme_bw(base_size=16)+\n",
    "ggrepel::geom_text_repel(size=3) +\n",
    "theme(legend.position = 'none') +\n",
    "labs(title = plot_col, x = 'Genomic position', y = 'BETA') -> p\n",
    "\n"
   ]
  },
  {
   "cell_type": "code",
   "execution_count": 36,
   "id": "unexpected-stanley",
   "metadata": {},
   "outputs": [
    {
     "name": "stdout",
     "output_type": "stream",
     "text": [
      "[1] \"/oak/stanford/groups/mrivas/projects/biobank-methods-dev/20210422_SRRR/Asthma/results_rank_5/output_lambda_67/plots/HC382.png\"\n",
      "[1] \"/oak/stanford/groups/mrivas/projects/biobank-methods-dev/20210422_SRRR/Asthma/results_rank_5/output_lambda_67/plots/HC382.pdf\"\n"
     ]
    }
   ],
   "source": [
    "for(ext in c('png', 'pdf')){\n",
    "    plot_file_name <- file.path(data_d, str_replace(RData_path, '.RData', ''), 'plots', paste0(plot_col, '.', ext))\n",
    "    ggsave(plot_file_name, p, width=12, height=6)\n",
    "    print(plot_file_name)\n",
    "}"
   ]
  },
  {
   "cell_type": "code",
   "execution_count": 37,
   "id": "requested-newton",
   "metadata": {},
   "outputs": [],
   "source": [
    "plot_cols <- c(\n",
    "    paste0('Component', 1:8),\n",
    "    'INI30130', 'INI30140', 'INI30150', 'INI30160', 'INI3062', 'INI3064', 'INI3063'\n",
    ")"
   ]
  },
  {
   "cell_type": "code",
   "execution_count": 38,
   "id": "graduate-poultry",
   "metadata": {},
   "outputs": [
    {
     "data": {
      "text/html": [
       "<style>\n",
       ".list-inline {list-style: none; margin:0; padding: 0}\n",
       ".list-inline>li {display: inline-block}\n",
       ".list-inline>li:not(:last-child)::after {content: \"\\00b7\"; padding: 0 .5ex}\n",
       "</style>\n",
       "<ol class=list-inline><li>'Component1'</li><li>'Component2'</li><li>'Component3'</li><li>'Component4'</li><li>'Component5'</li><li>'Component6'</li><li>'Component7'</li><li>'Component8'</li><li>'INI30130'</li><li>'INI30140'</li><li>'INI30150'</li><li>'INI30160'</li><li>'INI3062'</li><li>'INI3064'</li><li>'INI3063'</li></ol>\n"
      ],
      "text/latex": [
       "\\begin{enumerate*}\n",
       "\\item 'Component1'\n",
       "\\item 'Component2'\n",
       "\\item 'Component3'\n",
       "\\item 'Component4'\n",
       "\\item 'Component5'\n",
       "\\item 'Component6'\n",
       "\\item 'Component7'\n",
       "\\item 'Component8'\n",
       "\\item 'INI30130'\n",
       "\\item 'INI30140'\n",
       "\\item 'INI30150'\n",
       "\\item 'INI30160'\n",
       "\\item 'INI3062'\n",
       "\\item 'INI3064'\n",
       "\\item 'INI3063'\n",
       "\\end{enumerate*}\n"
      ],
      "text/markdown": [
       "1. 'Component1'\n",
       "2. 'Component2'\n",
       "3. 'Component3'\n",
       "4. 'Component4'\n",
       "5. 'Component5'\n",
       "6. 'Component6'\n",
       "7. 'Component7'\n",
       "8. 'Component8'\n",
       "9. 'INI30130'\n",
       "10. 'INI30140'\n",
       "11. 'INI30150'\n",
       "12. 'INI30160'\n",
       "13. 'INI3062'\n",
       "14. 'INI3064'\n",
       "15. 'INI3063'\n",
       "\n",
       "\n"
      ],
      "text/plain": [
       " [1] \"Component1\" \"Component2\" \"Component3\" \"Component4\" \"Component5\"\n",
       " [6] \"Component6\" \"Component7\" \"Component8\" \"INI30130\"   \"INI30140\"  \n",
       "[11] \"INI30150\"   \"INI30160\"   \"INI3062\"    \"INI3064\"    \"INI3063\"   "
      ]
     },
     "metadata": {},
     "output_type": "display_data"
    }
   ],
   "source": [
    "plot_cols"
   ]
  },
  {
   "cell_type": "code",
   "execution_count": 46,
   "id": "global-capacity",
   "metadata": {},
   "outputs": [
    {
     "name": "stdout",
     "output_type": "stream",
     "text": [
      "[1] \"/oak/stanford/groups/mrivas/projects/biobank-methods-dev/20210422_SRRR/Asthma/results_rank_5/output_lambda_67/plots/Component1.png\"\n",
      "[1] \"/oak/stanford/groups/mrivas/projects/biobank-methods-dev/20210422_SRRR/Asthma/results_rank_5/output_lambda_67/plots/Component1.pdf\"\n",
      "[1] \"/oak/stanford/groups/mrivas/projects/biobank-methods-dev/20210422_SRRR/Asthma/results_rank_5/output_lambda_67/plots/Component2.png\"\n",
      "[1] \"/oak/stanford/groups/mrivas/projects/biobank-methods-dev/20210422_SRRR/Asthma/results_rank_5/output_lambda_67/plots/Component2.pdf\"\n",
      "[1] \"/oak/stanford/groups/mrivas/projects/biobank-methods-dev/20210422_SRRR/Asthma/results_rank_5/output_lambda_67/plots/Component3.png\"\n",
      "[1] \"/oak/stanford/groups/mrivas/projects/biobank-methods-dev/20210422_SRRR/Asthma/results_rank_5/output_lambda_67/plots/Component3.pdf\"\n",
      "[1] \"/oak/stanford/groups/mrivas/projects/biobank-methods-dev/20210422_SRRR/Asthma/results_rank_5/output_lambda_67/plots/Component4.png\"\n",
      "[1] \"/oak/stanford/groups/mrivas/projects/biobank-methods-dev/20210422_SRRR/Asthma/results_rank_5/output_lambda_67/plots/Component4.pdf\"\n",
      "[1] \"/oak/stanford/groups/mrivas/projects/biobank-methods-dev/20210422_SRRR/Asthma/results_rank_5/output_lambda_67/plots/Component5.png\"\n",
      "[1] \"/oak/stanford/groups/mrivas/projects/biobank-methods-dev/20210422_SRRR/Asthma/results_rank_5/output_lambda_67/plots/Component5.pdf\"\n"
     ]
    },
    {
     "name": "stderr",
     "output_type": "stream",
     "text": [
      "Warning message:\n",
      "“ggrepel: 21 unlabeled data points (too many overlaps). Consider increasing max.overlaps”\n"
     ]
    },
    {
     "name": "stdout",
     "output_type": "stream",
     "text": [
      "[1] \"/oak/stanford/groups/mrivas/projects/biobank-methods-dev/20210422_SRRR/Asthma/results_rank_5/output_lambda_67/plots/Component6.png\"\n"
     ]
    },
    {
     "name": "stderr",
     "output_type": "stream",
     "text": [
      "Warning message:\n",
      "“ggrepel: 21 unlabeled data points (too many overlaps). Consider increasing max.overlaps”\n"
     ]
    },
    {
     "name": "stdout",
     "output_type": "stream",
     "text": [
      "[1] \"/oak/stanford/groups/mrivas/projects/biobank-methods-dev/20210422_SRRR/Asthma/results_rank_5/output_lambda_67/plots/Component6.pdf\"\n"
     ]
    },
    {
     "name": "stderr",
     "output_type": "stream",
     "text": [
      "Warning message:\n",
      "“ggrepel: 18 unlabeled data points (too many overlaps). Consider increasing max.overlaps”\n"
     ]
    },
    {
     "name": "stdout",
     "output_type": "stream",
     "text": [
      "[1] \"/oak/stanford/groups/mrivas/projects/biobank-methods-dev/20210422_SRRR/Asthma/results_rank_5/output_lambda_67/plots/Component7.png\"\n"
     ]
    },
    {
     "name": "stderr",
     "output_type": "stream",
     "text": [
      "Warning message:\n",
      "“ggrepel: 18 unlabeled data points (too many overlaps). Consider increasing max.overlaps”\n"
     ]
    },
    {
     "name": "stdout",
     "output_type": "stream",
     "text": [
      "[1] \"/oak/stanford/groups/mrivas/projects/biobank-methods-dev/20210422_SRRR/Asthma/results_rank_5/output_lambda_67/plots/Component7.pdf\"\n"
     ]
    },
    {
     "name": "stderr",
     "output_type": "stream",
     "text": [
      "Warning message:\n",
      "“ggrepel: 20 unlabeled data points (too many overlaps). Consider increasing max.overlaps”\n"
     ]
    },
    {
     "name": "stdout",
     "output_type": "stream",
     "text": [
      "[1] \"/oak/stanford/groups/mrivas/projects/biobank-methods-dev/20210422_SRRR/Asthma/results_rank_5/output_lambda_67/plots/Component8.png\"\n"
     ]
    },
    {
     "name": "stderr",
     "output_type": "stream",
     "text": [
      "Warning message:\n",
      "“ggrepel: 21 unlabeled data points (too many overlaps). Consider increasing max.overlaps”\n"
     ]
    },
    {
     "name": "stdout",
     "output_type": "stream",
     "text": [
      "[1] \"/oak/stanford/groups/mrivas/projects/biobank-methods-dev/20210422_SRRR/Asthma/results_rank_5/output_lambda_67/plots/Component8.pdf\"\n",
      "[1] \"/oak/stanford/groups/mrivas/projects/biobank-methods-dev/20210422_SRRR/Asthma/results_rank_5/output_lambda_67/plots/INI30130.png\"\n",
      "[1] \"/oak/stanford/groups/mrivas/projects/biobank-methods-dev/20210422_SRRR/Asthma/results_rank_5/output_lambda_67/plots/INI30130.pdf\"\n",
      "[1] \"/oak/stanford/groups/mrivas/projects/biobank-methods-dev/20210422_SRRR/Asthma/results_rank_5/output_lambda_67/plots/INI30140.png\"\n",
      "[1] \"/oak/stanford/groups/mrivas/projects/biobank-methods-dev/20210422_SRRR/Asthma/results_rank_5/output_lambda_67/plots/INI30140.pdf\"\n",
      "[1] \"/oak/stanford/groups/mrivas/projects/biobank-methods-dev/20210422_SRRR/Asthma/results_rank_5/output_lambda_67/plots/INI30150.png\"\n",
      "[1] \"/oak/stanford/groups/mrivas/projects/biobank-methods-dev/20210422_SRRR/Asthma/results_rank_5/output_lambda_67/plots/INI30150.pdf\"\n",
      "[1] \"/oak/stanford/groups/mrivas/projects/biobank-methods-dev/20210422_SRRR/Asthma/results_rank_5/output_lambda_67/plots/INI30160.png\"\n",
      "[1] \"/oak/stanford/groups/mrivas/projects/biobank-methods-dev/20210422_SRRR/Asthma/results_rank_5/output_lambda_67/plots/INI30160.pdf\"\n",
      "[1] \"/oak/stanford/groups/mrivas/projects/biobank-methods-dev/20210422_SRRR/Asthma/results_rank_5/output_lambda_67/plots/INI3062.png\"\n",
      "[1] \"/oak/stanford/groups/mrivas/projects/biobank-methods-dev/20210422_SRRR/Asthma/results_rank_5/output_lambda_67/plots/INI3062.pdf\"\n",
      "[1] \"/oak/stanford/groups/mrivas/projects/biobank-methods-dev/20210422_SRRR/Asthma/results_rank_5/output_lambda_67/plots/INI3064.png\"\n",
      "[1] \"/oak/stanford/groups/mrivas/projects/biobank-methods-dev/20210422_SRRR/Asthma/results_rank_5/output_lambda_67/plots/INI3064.pdf\"\n",
      "[1] \"/oak/stanford/groups/mrivas/projects/biobank-methods-dev/20210422_SRRR/Asthma/results_rank_5/output_lambda_67/plots/INI3063.png\"\n",
      "[1] \"/oak/stanford/groups/mrivas/projects/biobank-methods-dev/20210422_SRRR/Asthma/results_rank_5/output_lambda_67/plots/INI3063.pdf\"\n"
     ]
    }
   ],
   "source": [
    "for(plot_col in plot_cols){\n",
    "    df %>%\n",
    "    rename(!!'plotCol' := all_of(plot_col)) -> tmp_df\n",
    "    \n",
    "    ggrepel_thr <- tmp_df$plotCol %>% abs() %>% sort() %>% tail(30) %>% head(1)    \n",
    "    \n",
    "    tmp_df %>%\n",
    "    mutate(ggrepel = if_else(abs(plotCol)> ggrepel_thr, ggrepel, '')) %>%\n",
    "    ggplot(aes(x = POS_total, y = plotCol, color=color, label=ggrepel)) +\n",
    "    geom_point() +\n",
    "    theme_bw(base_size=16)+\n",
    "    ggrepel::geom_text_repel(size=3) +\n",
    "    theme(legend.position = 'none') +\n",
    "    labs(title = plot_col, x = 'Genomic position', y = 'BETA') -> p\n",
    "    \n",
    "    for(ext in c('png', 'pdf')){\n",
    "        plot_file_name <- file.path(data_d, str_replace(RData_path, '.RData', ''), 'plots', paste0(plot_col, '.', ext))\n",
    "        ggsave(plot_file_name, p, width=12, height=6)\n",
    "        print(plot_file_name)\n",
    "    }    \n",
    "}\n"
   ]
  },
  {
   "cell_type": "code",
   "execution_count": null,
   "id": "temporal-frost",
   "metadata": {},
   "outputs": [],
   "source": []
  }
 ],
 "metadata": {
  "kernelspec": {
   "display_name": "R",
   "language": "R",
   "name": "ir"
  },
  "language_info": {
   "codemirror_mode": "r",
   "file_extension": ".r",
   "mimetype": "text/x-r-source",
   "name": "R",
   "pygments_lexer": "r",
   "version": "3.6.2"
  }
 },
 "nbformat": 4,
 "nbformat_minor": 5
}
