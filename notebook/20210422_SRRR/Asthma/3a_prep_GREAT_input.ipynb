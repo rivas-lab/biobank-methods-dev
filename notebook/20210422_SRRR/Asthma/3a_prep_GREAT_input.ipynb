{
 "cells": [
  {
   "cell_type": "code",
   "execution_count": 1,
   "id": "supreme-tender",
   "metadata": {},
   "outputs": [],
   "source": [
    "suppressWarnings(suppressPackageStartupMessages({\n",
    "    library(tidyverse)\n",
    "    library(data.table)\n",
    "}))\n"
   ]
  },
  {
   "cell_type": "code",
   "execution_count": 2,
   "id": "outdoor-degree",
   "metadata": {},
   "outputs": [],
   "source": [
    "source('../parameters.sh')\n",
    "source('parameters.sh')\n",
    "\n"
   ]
  },
  {
   "cell_type": "code",
   "execution_count": 3,
   "id": "suburban-things",
   "metadata": {},
   "outputs": [],
   "source": [
    "file.path(data_d, str_replace(RData_path, '.RData', ''), variant_weights_f) %>%\n",
    "fread(colClasses = c('#CHROM'='character', 'POS_total' = 'numeric')) %>%\n",
    "rename('CHROM'='#CHROM') -> df\n"
   ]
  },
  {
   "cell_type": "code",
   "execution_count": 12,
   "id": "generic-delhi",
   "metadata": {},
   "outputs": [
    {
     "data": {
      "text/html": [
       "<table class=\"dataframe\">\n",
       "<caption>A data.table: 6 × 6</caption>\n",
       "<thead>\n",
       "\t<tr><th scope=col>CHROM</th><th scope=col>POS</th><th scope=col>POS_e</th><th scope=col>ID</th><th scope=col>HC382</th><th scope=col>rank_beta</th></tr>\n",
       "\t<tr><th scope=col>&lt;chr&gt;</th><th scope=col>&lt;int&gt;</th><th scope=col>&lt;int&gt;</th><th scope=col>&lt;chr&gt;</th><th scope=col>&lt;dbl&gt;</th><th scope=col>&lt;dbl&gt;</th></tr>\n",
       "</thead>\n",
       "<tbody>\n",
       "\t<tr><td>5 </td><td>131901225</td><td>131901226</td><td>rs2244012 </td><td> 0.02686650</td><td>1</td></tr>\n",
       "\t<tr><td>17</td><td>  4535314</td><td>  4535315</td><td>rs34210653</td><td>-0.02642665</td><td>2</td></tr>\n",
       "\t<tr><td>9 </td><td>  6193455</td><td>  6193456</td><td>rs2381416 </td><td>-0.02515378</td><td>3</td></tr>\n",
       "\t<tr><td>5 </td><td>110401872</td><td>110401873</td><td>rs1837253 </td><td> 0.02483261</td><td>4</td></tr>\n",
       "\t<tr><td>15</td><td> 67442596</td><td> 67442597</td><td>rs17293632</td><td> 0.02451457</td><td>5</td></tr>\n",
       "\t<tr><td>1 </td><td>152179152</td><td>152179153</td><td>rs12123821</td><td> 0.02281375</td><td>6</td></tr>\n",
       "</tbody>\n",
       "</table>\n"
      ],
      "text/latex": [
       "A data.table: 6 × 6\n",
       "\\begin{tabular}{llllll}\n",
       " CHROM & POS & POS\\_e & ID & HC382 & rank\\_beta\\\\\n",
       " <chr> & <int> & <int> & <chr> & <dbl> & <dbl>\\\\\n",
       "\\hline\n",
       "\t 5  & 131901225 & 131901226 & rs2244012  &  0.02686650 & 1\\\\\n",
       "\t 17 &   4535314 &   4535315 & rs34210653 & -0.02642665 & 2\\\\\n",
       "\t 9  &   6193455 &   6193456 & rs2381416  & -0.02515378 & 3\\\\\n",
       "\t 5  & 110401872 & 110401873 & rs1837253  &  0.02483261 & 4\\\\\n",
       "\t 15 &  67442596 &  67442597 & rs17293632 &  0.02451457 & 5\\\\\n",
       "\t 1  & 152179152 & 152179153 & rs12123821 &  0.02281375 & 6\\\\\n",
       "\\end{tabular}\n"
      ],
      "text/markdown": [
       "\n",
       "A data.table: 6 × 6\n",
       "\n",
       "| CHROM &lt;chr&gt; | POS &lt;int&gt; | POS_e &lt;int&gt; | ID &lt;chr&gt; | HC382 &lt;dbl&gt; | rank_beta &lt;dbl&gt; |\n",
       "|---|---|---|---|---|---|\n",
       "| 5  | 131901225 | 131901226 | rs2244012  |  0.02686650 | 1 |\n",
       "| 17 |   4535314 |   4535315 | rs34210653 | -0.02642665 | 2 |\n",
       "| 9  |   6193455 |   6193456 | rs2381416  | -0.02515378 | 3 |\n",
       "| 5  | 110401872 | 110401873 | rs1837253  |  0.02483261 | 4 |\n",
       "| 15 |  67442596 |  67442597 | rs17293632 |  0.02451457 | 5 |\n",
       "| 1  | 152179152 | 152179153 | rs12123821 |  0.02281375 | 6 |\n",
       "\n"
      ],
      "text/plain": [
       "  CHROM POS       POS_e     ID         HC382       rank_beta\n",
       "1 5     131901225 131901226 rs2244012   0.02686650 1        \n",
       "2 17      4535314   4535315 rs34210653 -0.02642665 2        \n",
       "3 9       6193455   6193456 rs2381416  -0.02515378 3        \n",
       "4 5     110401872 110401873 rs1837253   0.02483261 4        \n",
       "5 15     67442596  67442597 rs17293632  0.02451457 5        \n",
       "6 1     152179152 152179153 rs12123821  0.02281375 6        "
      ]
     },
     "metadata": {},
     "output_type": "display_data"
    }
   ],
   "source": [
    "df %>% \n",
    "mutate(rank_beta = rank(-abs(HC382)), POS_e = POS + str_length(REF)) %>%\n",
    "filter(rank_beta <= 5000) %>%\n",
    "select(CHROM, POS, POS_e, ID, HC382, rank_beta) %>%\n",
    "arrange(rank_beta) %>% head()"
   ]
  },
  {
   "cell_type": "code",
   "execution_count": 10,
   "id": "sixth-operations",
   "metadata": {},
   "outputs": [],
   "source": [
    "plot_cols <- c(\n",
    "    'HC382',\n",
    "    'INI30130', 'INI30140', 'INI30150', 'INI30160', 'INI3062', 'INI3064', 'INI3063',\n",
    "    paste0('Component', 1:8)\n",
    ")\n"
   ]
  },
  {
   "cell_type": "code",
   "execution_count": 19,
   "id": "fifteen-ranking",
   "metadata": {},
   "outputs": [],
   "source": [
    "great_ucsc_bed_f <- file.path(data_d, str_replace(RData_path, '.RData', ''), 'GREAT_in_bed', paste0(plot_col, '.bed'))"
   ]
  },
  {
   "cell_type": "code",
   "execution_count": 20,
   "id": "metropolitan-sarah",
   "metadata": {},
   "outputs": [
    {
     "data": {
      "text/html": [
       "'/oak/stanford/groups/mrivas/projects/biobank-methods-dev/20210422_SRRR/Asthma/results_rank_5/output_lambda_67/GREAT_in_bed/HC382.bed'"
      ],
      "text/latex": [
       "'/oak/stanford/groups/mrivas/projects/biobank-methods-dev/20210422\\_SRRR/Asthma/results\\_rank\\_5/output\\_lambda\\_67/GREAT\\_in\\_bed/HC382.bed'"
      ],
      "text/markdown": [
       "'/oak/stanford/groups/mrivas/projects/biobank-methods-dev/20210422_SRRR/Asthma/results_rank_5/output_lambda_67/GREAT_in_bed/HC382.bed'"
      ],
      "text/plain": [
       "[1] \"/oak/stanford/groups/mrivas/projects/biobank-methods-dev/20210422_SRRR/Asthma/results_rank_5/output_lambda_67/GREAT_in_bed/HC382.bed\""
      ]
     },
     "metadata": {},
     "output_type": "display_data"
    }
   ],
   "source": [
    "great_ucsc_bed_f"
   ]
  },
  {
   "cell_type": "code",
   "execution_count": 25,
   "id": "architectural-phoenix",
   "metadata": {},
   "outputs": [],
   "source": [
    "plot_col <- plot_cols[1]\n",
    "\n",
    "\n",
    "df %>%\n",
    "rename(!!'plotCol' := all_of(plot_col)) %>%\n",
    "mutate(rank_beta = rank(-abs(plotCol)), POS_e = POS + str_length(REF)) %>%\n",
    "filter(rank_beta <= 5000) %>%\n",
    "mutate(\n",
    "    CHROM = if_else(CHROM == 'XY', 'X', CHROM),\n",
    "    CHROM = if_else(CHROM == 'MT', 'M', CHROM),\n",
    "    CHROM = paste0('chr', CHROM)\n",
    ") %>%\n",
    "select(CHROM, POS, POS_e, ID) %>%\n",
    "fwrite(great_ucsc_bed_f, sep='\\t', na = \"NA\", quote=F, col.names=F)\n"
   ]
  },
  {
   "cell_type": "code",
   "execution_count": 26,
   "id": "eleven-details",
   "metadata": {},
   "outputs": [],
   "source": [
    "for(plot_col in plot_cols){\n",
    "    great_ucsc_bed_f <- file.path(data_d, str_replace(RData_path, '.RData', ''), 'GREAT_in_bed', paste0(plot_col, '.bed'))\n",
    "    \n",
    "    df %>%\n",
    "    rename(!!'plotCol' := all_of(plot_col)) %>%\n",
    "    mutate(rank_beta = rank(-abs(plotCol)), POS_e = POS + str_length(REF)) %>%\n",
    "    filter(rank_beta <= 5000) %>%\n",
    "    mutate(\n",
    "        CHROM = if_else(CHROM == 'XY', 'X', CHROM),\n",
    "        CHROM = if_else(CHROM == 'MT', 'M', CHROM),\n",
    "        CHROM = paste0('chr', CHROM)\n",
    "    ) %>%\n",
    "    select(CHROM, POS, POS_e, ID) %>%\n",
    "    fwrite(great_ucsc_bed_f, sep='\\t', na = \"NA\", quote=F, col.names=F)\n",
    "}\n",
    "\n",
    "\n"
   ]
  },
  {
   "cell_type": "code",
   "execution_count": null,
   "id": "invalid-ordering",
   "metadata": {},
   "outputs": [],
   "source": []
  }
 ],
 "metadata": {
  "kernelspec": {
   "display_name": "R",
   "language": "R",
   "name": "ir"
  },
  "language_info": {
   "codemirror_mode": "r",
   "file_extension": ".r",
   "mimetype": "text/x-r-source",
   "name": "R",
   "pygments_lexer": "r",
   "version": "3.6.2"
  }
 },
 "nbformat": 4,
 "nbformat_minor": 5
}
