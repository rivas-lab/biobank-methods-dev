{
 "cells": [
  {
   "cell_type": "code",
   "execution_count": 1,
   "id": "purple-schema",
   "metadata": {},
   "outputs": [],
   "source": [
    "suppressWarnings(suppressPackageStartupMessages({\n",
    "    library(tidyverse)\n",
    "    library(data.table)\n",
    "}))\n"
   ]
  },
  {
   "cell_type": "code",
   "execution_count": 48,
   "id": "sized-henry",
   "metadata": {},
   "outputs": [],
   "source": [
    "source('../parameters.sh')\n",
    "source('parameters.sh')\n"
   ]
  },
  {
   "cell_type": "code",
   "execution_count": 20,
   "id": "moral-roman",
   "metadata": {},
   "outputs": [],
   "source": [
    "file.path(data_d, results_sub_d, rdata_base, variant_weights_f) %>%\n",
    "fread(colClasses = c('#CHROM'='character', 'POS_total' = 'numeric')) %>%\n",
    "rename('CHROM'='#CHROM') %>%\n",
    "mutate(\n",
    "    color = if_else(CHROM %in% c(2 * 1:11, 'Y'), \"2_even_chrs\", \"1_odd_chrs\"),\n",
    "    ggrepel = if_else(!is.na(SYMBOL), SYMBOL, '')\n",
    ")-> df\n"
   ]
  },
  {
   "cell_type": "code",
   "execution_count": 37,
   "id": "prepared-chapter",
   "metadata": {},
   "outputs": [],
   "source": [
    "plot_cols <- str_split(samples_str, ',')[[1]]"
   ]
  },
  {
   "cell_type": "code",
   "execution_count": 46,
   "id": "danish-copper",
   "metadata": {},
   "outputs": [
    {
     "name": "stdout",
     "output_type": "stream",
     "text": [
      "[1] \"/oak/stanford/groups/mrivas/projects/biobank-methods-dev/20210422_SRRR/Asthma/results_rank_5/output_lambda_67/plots/Component1.png\"\n",
      "[1] \"/oak/stanford/groups/mrivas/projects/biobank-methods-dev/20210422_SRRR/Asthma/results_rank_5/output_lambda_67/plots/Component1.pdf\"\n",
      "[1] \"/oak/stanford/groups/mrivas/projects/biobank-methods-dev/20210422_SRRR/Asthma/results_rank_5/output_lambda_67/plots/Component2.png\"\n",
      "[1] \"/oak/stanford/groups/mrivas/projects/biobank-methods-dev/20210422_SRRR/Asthma/results_rank_5/output_lambda_67/plots/Component2.pdf\"\n",
      "[1] \"/oak/stanford/groups/mrivas/projects/biobank-methods-dev/20210422_SRRR/Asthma/results_rank_5/output_lambda_67/plots/Component3.png\"\n",
      "[1] \"/oak/stanford/groups/mrivas/projects/biobank-methods-dev/20210422_SRRR/Asthma/results_rank_5/output_lambda_67/plots/Component3.pdf\"\n",
      "[1] \"/oak/stanford/groups/mrivas/projects/biobank-methods-dev/20210422_SRRR/Asthma/results_rank_5/output_lambda_67/plots/Component4.png\"\n",
      "[1] \"/oak/stanford/groups/mrivas/projects/biobank-methods-dev/20210422_SRRR/Asthma/results_rank_5/output_lambda_67/plots/Component4.pdf\"\n",
      "[1] \"/oak/stanford/groups/mrivas/projects/biobank-methods-dev/20210422_SRRR/Asthma/results_rank_5/output_lambda_67/plots/Component5.png\"\n",
      "[1] \"/oak/stanford/groups/mrivas/projects/biobank-methods-dev/20210422_SRRR/Asthma/results_rank_5/output_lambda_67/plots/Component5.pdf\"\n"
     ]
    },
    {
     "name": "stderr",
     "output_type": "stream",
     "text": [
      "Warning message:\n",
      "“ggrepel: 21 unlabeled data points (too many overlaps). Consider increasing max.overlaps”\n"
     ]
    },
    {
     "name": "stdout",
     "output_type": "stream",
     "text": [
      "[1] \"/oak/stanford/groups/mrivas/projects/biobank-methods-dev/20210422_SRRR/Asthma/results_rank_5/output_lambda_67/plots/Component6.png\"\n"
     ]
    },
    {
     "name": "stderr",
     "output_type": "stream",
     "text": [
      "Warning message:\n",
      "“ggrepel: 21 unlabeled data points (too many overlaps). Consider increasing max.overlaps”\n"
     ]
    },
    {
     "name": "stdout",
     "output_type": "stream",
     "text": [
      "[1] \"/oak/stanford/groups/mrivas/projects/biobank-methods-dev/20210422_SRRR/Asthma/results_rank_5/output_lambda_67/plots/Component6.pdf\"\n"
     ]
    },
    {
     "name": "stderr",
     "output_type": "stream",
     "text": [
      "Warning message:\n",
      "“ggrepel: 18 unlabeled data points (too many overlaps). Consider increasing max.overlaps”\n"
     ]
    },
    {
     "name": "stdout",
     "output_type": "stream",
     "text": [
      "[1] \"/oak/stanford/groups/mrivas/projects/biobank-methods-dev/20210422_SRRR/Asthma/results_rank_5/output_lambda_67/plots/Component7.png\"\n"
     ]
    },
    {
     "name": "stderr",
     "output_type": "stream",
     "text": [
      "Warning message:\n",
      "“ggrepel: 18 unlabeled data points (too many overlaps). Consider increasing max.overlaps”\n"
     ]
    },
    {
     "name": "stdout",
     "output_type": "stream",
     "text": [
      "[1] \"/oak/stanford/groups/mrivas/projects/biobank-methods-dev/20210422_SRRR/Asthma/results_rank_5/output_lambda_67/plots/Component7.pdf\"\n"
     ]
    },
    {
     "name": "stderr",
     "output_type": "stream",
     "text": [
      "Warning message:\n",
      "“ggrepel: 20 unlabeled data points (too many overlaps). Consider increasing max.overlaps”\n"
     ]
    },
    {
     "name": "stdout",
     "output_type": "stream",
     "text": [
      "[1] \"/oak/stanford/groups/mrivas/projects/biobank-methods-dev/20210422_SRRR/Asthma/results_rank_5/output_lambda_67/plots/Component8.png\"\n"
     ]
    },
    {
     "name": "stderr",
     "output_type": "stream",
     "text": [
      "Warning message:\n",
      "“ggrepel: 21 unlabeled data points (too many overlaps). Consider increasing max.overlaps”\n"
     ]
    },
    {
     "name": "stdout",
     "output_type": "stream",
     "text": [
      "[1] \"/oak/stanford/groups/mrivas/projects/biobank-methods-dev/20210422_SRRR/Asthma/results_rank_5/output_lambda_67/plots/Component8.pdf\"\n",
      "[1] \"/oak/stanford/groups/mrivas/projects/biobank-methods-dev/20210422_SRRR/Asthma/results_rank_5/output_lambda_67/plots/INI30130.png\"\n",
      "[1] \"/oak/stanford/groups/mrivas/projects/biobank-methods-dev/20210422_SRRR/Asthma/results_rank_5/output_lambda_67/plots/INI30130.pdf\"\n",
      "[1] \"/oak/stanford/groups/mrivas/projects/biobank-methods-dev/20210422_SRRR/Asthma/results_rank_5/output_lambda_67/plots/INI30140.png\"\n",
      "[1] \"/oak/stanford/groups/mrivas/projects/biobank-methods-dev/20210422_SRRR/Asthma/results_rank_5/output_lambda_67/plots/INI30140.pdf\"\n",
      "[1] \"/oak/stanford/groups/mrivas/projects/biobank-methods-dev/20210422_SRRR/Asthma/results_rank_5/output_lambda_67/plots/INI30150.png\"\n",
      "[1] \"/oak/stanford/groups/mrivas/projects/biobank-methods-dev/20210422_SRRR/Asthma/results_rank_5/output_lambda_67/plots/INI30150.pdf\"\n",
      "[1] \"/oak/stanford/groups/mrivas/projects/biobank-methods-dev/20210422_SRRR/Asthma/results_rank_5/output_lambda_67/plots/INI30160.png\"\n",
      "[1] \"/oak/stanford/groups/mrivas/projects/biobank-methods-dev/20210422_SRRR/Asthma/results_rank_5/output_lambda_67/plots/INI30160.pdf\"\n",
      "[1] \"/oak/stanford/groups/mrivas/projects/biobank-methods-dev/20210422_SRRR/Asthma/results_rank_5/output_lambda_67/plots/INI3062.png\"\n",
      "[1] \"/oak/stanford/groups/mrivas/projects/biobank-methods-dev/20210422_SRRR/Asthma/results_rank_5/output_lambda_67/plots/INI3062.pdf\"\n",
      "[1] \"/oak/stanford/groups/mrivas/projects/biobank-methods-dev/20210422_SRRR/Asthma/results_rank_5/output_lambda_67/plots/INI3064.png\"\n",
      "[1] \"/oak/stanford/groups/mrivas/projects/biobank-methods-dev/20210422_SRRR/Asthma/results_rank_5/output_lambda_67/plots/INI3064.pdf\"\n",
      "[1] \"/oak/stanford/groups/mrivas/projects/biobank-methods-dev/20210422_SRRR/Asthma/results_rank_5/output_lambda_67/plots/INI3063.png\"\n",
      "[1] \"/oak/stanford/groups/mrivas/projects/biobank-methods-dev/20210422_SRRR/Asthma/results_rank_5/output_lambda_67/plots/INI3063.pdf\"\n"
     ]
    }
   ],
   "source": [
    "for(plot_col in plot_cols){\n",
    "    df %>%\n",
    "    rename(!!'plotCol' := all_of(plot_col)) -> tmp_df\n",
    "    \n",
    "    ggrepel_thr <- tmp_df$plotCol %>% abs() %>% sort() %>% tail(30) %>% head(1)    \n",
    "    \n",
    "    tmp_df %>%\n",
    "    mutate(ggrepel = if_else(abs(plotCol)> ggrepel_thr, ggrepel, '')) %>%\n",
    "    ggplot(aes(x = POS_total, y = plotCol, color=color, label=ggrepel)) +\n",
    "    geom_point() +\n",
    "    theme_bw(base_size=16)+\n",
    "    ggrepel::geom_text_repel(size=3) +\n",
    "    theme(legend.position = 'none') +\n",
    "    labs(title = plot_col, x = 'Genomic position', y = 'BETA') -> p\n",
    "    \n",
    "    for(ext in c('png', 'pdf')){        \n",
    "        plot_file_name <- file.path(data_d, results_sub_d, rdata_base, 'plots', paste0(plot_col, '.', ext))\n",
    "        ggsave(plot_file_name, p, width=12, height=6)\n",
    "        print(plot_file_name)\n",
    "    }    \n",
    "}\n"
   ]
  },
  {
   "cell_type": "code",
   "execution_count": null,
   "id": "healthy-failing",
   "metadata": {},
   "outputs": [],
   "source": []
  }
 ],
 "metadata": {
  "kernelspec": {
   "display_name": "R",
   "language": "R",
   "name": "ir"
  },
  "language_info": {
   "codemirror_mode": "r",
   "file_extension": ".r",
   "mimetype": "text/x-r-source",
   "name": "R",
   "pygments_lexer": "r",
   "version": "3.6.2"
  }
 },
 "nbformat": 4,
 "nbformat_minor": 5
}
