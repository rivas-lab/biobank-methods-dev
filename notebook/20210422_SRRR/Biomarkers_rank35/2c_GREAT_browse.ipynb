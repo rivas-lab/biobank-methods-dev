{
 "cells": [
  {
   "cell_type": "code",
   "execution_count": 1,
   "id": "handmade-legend",
   "metadata": {},
   "outputs": [],
   "source": [
    "suppressWarnings(suppressPackageStartupMessages({\n",
    "    library(tidyverse)\n",
    "    library(data.table)\n",
    "}))\n"
   ]
  },
  {
   "cell_type": "code",
   "execution_count": 2,
   "id": "beautiful-thousand",
   "metadata": {},
   "outputs": [],
   "source": [
    "source('../functions.R')\n",
    "source('../parameters.sh')\n",
    "source('parameters.sh')\n"
   ]
  },
  {
   "cell_type": "code",
   "execution_count": 9,
   "id": "engaging-prediction",
   "metadata": {},
   "outputs": [],
   "source": [
    "Sys.glob(file.path(ref_d, 'ontology', paste0('*.', onto_terms))) %>%\n",
    "lapply(function(f){\n",
    "    fread(f, col.names=c('term_ID', 'term_desc', 'onto_P', 'onto_lvl'), sep='\\t', colClasses = 'character') %>% \n",
    "    select(term_ID, term_desc)    \n",
    "}) %>% bind_rows() %>% unique() -> ontoTerms_df\n"
   ]
  },
  {
   "cell_type": "code",
   "execution_count": 20,
   "id": "activated-trade",
   "metadata": {},
   "outputs": [],
   "source": [
    "ontology <- 'MGIPhenoSingleKO'\n",
    "\n",
    "file.path(data_d, results_sub_d, rdata_base, 'GREAT', '3_out_by_onto', paste0(ontology, '.tsv.gz')) %>%\n",
    "fread() %>%\n",
    "rename('sample_ID'='#sample_ID') %>%\n",
    "group_by(sample_ID) %>%\n",
    "mutate(BRank = 1:n()) %>%\n",
    "ungroup() %>%\n",
    "left_join(ontoTerms_df, by='term_ID') -> great_res_df\n"
   ]
  },
  {
   "cell_type": "code",
   "execution_count": 23,
   "id": "blocked-wrist",
   "metadata": {},
   "outputs": [
    {
     "data": {
      "text/html": [
       "<table class=\"dataframe\">\n",
       "<caption>A tibble: 22 × 2</caption>\n",
       "<thead>\n",
       "\t<tr><th></th><th scope=col>term_desc</th><th scope=col>n</th></tr>\n",
       "\t<tr><th></th><th scope=col>&lt;chr&gt;</th><th scope=col>&lt;int&gt;</th></tr>\n",
       "</thead>\n",
       "<tbody>\n",
       "\t<tr><th scope=row>1</th><td>abnormal cellular cholesterol metabolism         </td><td> 1</td></tr>\n",
       "\t<tr><th scope=row>2</th><td>abnormal cholesterol level                       </td><td> 7</td></tr>\n",
       "\t<tr><th scope=row>3</th><td>abnormal circulating cholesterol level           </td><td> 6</td></tr>\n",
       "\t<tr><th scope=row>4</th><td>abnormal circulating HDL cholesterol level       </td><td> 1</td></tr>\n",
       "\t<tr><th scope=row>5</th><td>abnormal circulating phospholipid level          </td><td>22</td></tr>\n",
       "\t<tr><th scope=row>6</th><td>abnormal circulating triglyceride level          </td><td>18</td></tr>\n",
       "\t<tr><th scope=row>7</th><td>abnormal dental pulp morphology                  </td><td> 1</td></tr>\n",
       "\t<tr><th scope=row>8</th><td>abnormal digestive system physiology             </td><td> 3</td></tr>\n",
       "\t<tr><th scope=row>9</th><td>abnormal hepatobiliary system physiology         </td><td>28</td></tr>\n",
       "\t<tr><th scope=row>10</th><td>abnormal immunoglobulin level                    </td><td> 1</td></tr>\n",
       "\t<tr><th scope=row>11</th><td>abnormal kidney physiology                       </td><td> 1</td></tr>\n",
       "\t<tr><th scope=row>12</th><td>abnormal liver physiology                        </td><td>25</td></tr>\n",
       "\t<tr><th scope=row>13</th><td>abnormal nephron morphology                      </td><td> 4</td></tr>\n",
       "\t<tr><th scope=row>14</th><td>abnormal phospholipid level                      </td><td> 3</td></tr>\n",
       "\t<tr><th scope=row>15</th><td>abnormal renal corpuscle morphology              </td><td> 1</td></tr>\n",
       "\t<tr><th scope=row>16</th><td>abnormal triglyceride level                      </td><td>27</td></tr>\n",
       "\t<tr><th scope=row>17</th><td>abnormal urine homeostasis                       </td><td> 2</td></tr>\n",
       "\t<tr><th scope=row>18</th><td>enlarged spleen                                  </td><td>16</td></tr>\n",
       "\t<tr><th scope=row>19</th><td>increased circulating phospholipid level         </td><td> 1</td></tr>\n",
       "\t<tr><th scope=row>20</th><td>increased circulating triglyceride level         </td><td> 1</td></tr>\n",
       "\t<tr><th scope=row>21</th><td>increased triglyceride level                     </td><td> 5</td></tr>\n",
       "\t<tr><th scope=row>22</th><td>lethality throughout fetal growth and development</td><td> 1</td></tr>\n",
       "</tbody>\n",
       "</table>\n"
      ],
      "text/latex": [
       "A tibble: 22 × 2\n",
       "\\begin{tabular}{r|ll}\n",
       "  & term\\_desc & n\\\\\n",
       "  & <chr> & <int>\\\\\n",
       "\\hline\n",
       "\t1 & abnormal cellular cholesterol metabolism          &  1\\\\\n",
       "\t2 & abnormal cholesterol level                        &  7\\\\\n",
       "\t3 & abnormal circulating cholesterol level            &  6\\\\\n",
       "\t4 & abnormal circulating HDL cholesterol level        &  1\\\\\n",
       "\t5 & abnormal circulating phospholipid level           & 22\\\\\n",
       "\t6 & abnormal circulating triglyceride level           & 18\\\\\n",
       "\t7 & abnormal dental pulp morphology                   &  1\\\\\n",
       "\t8 & abnormal digestive system physiology              &  3\\\\\n",
       "\t9 & abnormal hepatobiliary system physiology          & 28\\\\\n",
       "\t10 & abnormal immunoglobulin level                     &  1\\\\\n",
       "\t11 & abnormal kidney physiology                        &  1\\\\\n",
       "\t12 & abnormal liver physiology                         & 25\\\\\n",
       "\t13 & abnormal nephron morphology                       &  4\\\\\n",
       "\t14 & abnormal phospholipid level                       &  3\\\\\n",
       "\t15 & abnormal renal corpuscle morphology               &  1\\\\\n",
       "\t16 & abnormal triglyceride level                       & 27\\\\\n",
       "\t17 & abnormal urine homeostasis                        &  2\\\\\n",
       "\t18 & enlarged spleen                                   & 16\\\\\n",
       "\t19 & increased circulating phospholipid level          &  1\\\\\n",
       "\t20 & increased circulating triglyceride level          &  1\\\\\n",
       "\t21 & increased triglyceride level                      &  5\\\\\n",
       "\t22 & lethality throughout fetal growth and development &  1\\\\\n",
       "\\end{tabular}\n"
      ],
      "text/markdown": [
       "\n",
       "A tibble: 22 × 2\n",
       "\n",
       "| <!--/--> | term_desc &lt;chr&gt; | n &lt;int&gt; |\n",
       "|---|---|---|\n",
       "| 1 | abnormal cellular cholesterol metabolism          |  1 |\n",
       "| 2 | abnormal cholesterol level                        |  7 |\n",
       "| 3 | abnormal circulating cholesterol level            |  6 |\n",
       "| 4 | abnormal circulating HDL cholesterol level        |  1 |\n",
       "| 5 | abnormal circulating phospholipid level           | 22 |\n",
       "| 6 | abnormal circulating triglyceride level           | 18 |\n",
       "| 7 | abnormal dental pulp morphology                   |  1 |\n",
       "| 8 | abnormal digestive system physiology              |  3 |\n",
       "| 9 | abnormal hepatobiliary system physiology          | 28 |\n",
       "| 10 | abnormal immunoglobulin level                     |  1 |\n",
       "| 11 | abnormal kidney physiology                        |  1 |\n",
       "| 12 | abnormal liver physiology                         | 25 |\n",
       "| 13 | abnormal nephron morphology                       |  4 |\n",
       "| 14 | abnormal phospholipid level                       |  3 |\n",
       "| 15 | abnormal renal corpuscle morphology               |  1 |\n",
       "| 16 | abnormal triglyceride level                       | 27 |\n",
       "| 17 | abnormal urine homeostasis                        |  2 |\n",
       "| 18 | enlarged spleen                                   | 16 |\n",
       "| 19 | increased circulating phospholipid level          |  1 |\n",
       "| 20 | increased circulating triglyceride level          |  1 |\n",
       "| 21 | increased triglyceride level                      |  5 |\n",
       "| 22 | lethality throughout fetal growth and development |  1 |\n",
       "\n"
      ],
      "text/plain": [
       "   term_desc                                         n \n",
       "1  abnormal cellular cholesterol metabolism           1\n",
       "2  abnormal cholesterol level                         7\n",
       "3  abnormal circulating cholesterol level             6\n",
       "4  abnormal circulating HDL cholesterol level         1\n",
       "5  abnormal circulating phospholipid level           22\n",
       "6  abnormal circulating triglyceride level           18\n",
       "7  abnormal dental pulp morphology                    1\n",
       "8  abnormal digestive system physiology               3\n",
       "9  abnormal hepatobiliary system physiology          28\n",
       "10 abnormal immunoglobulin level                      1\n",
       "11 abnormal kidney physiology                         1\n",
       "12 abnormal liver physiology                         25\n",
       "13 abnormal nephron morphology                        4\n",
       "14 abnormal phospholipid level                        3\n",
       "15 abnormal renal corpuscle morphology                1\n",
       "16 abnormal triglyceride level                       27\n",
       "17 abnormal urine homeostasis                         2\n",
       "18 enlarged spleen                                   16\n",
       "19 increased circulating phospholipid level           1\n",
       "20 increased circulating triglyceride level           1\n",
       "21 increased triglyceride level                       5\n",
       "22 lethality throughout fetal growth and development  1"
      ]
     },
     "metadata": {},
     "output_type": "display_data"
    }
   ],
   "source": [
    "great_res_df %>% filter(BRank <= 5) %>% count(term_desc)"
   ]
  },
  {
   "cell_type": "code",
   "execution_count": null,
   "id": "blessed-element",
   "metadata": {},
   "outputs": [],
   "source": [
    "file.path(data_d, results_sub_d, rdata_base, 'GREAT_out', paste0(ontology, '.tsv.gz')) %>%\n",
    "fread() %>%\n",
    "rename('sample_ID'='#sample_ID') %>%\n",
    "group_by(sample_ID) %>%\n",
    "mutate(BRank = 1:n()) %>%\n",
    "ungroup() -> great_res_df\n"
   ]
  },
  {
   "cell_type": "code",
   "execution_count": null,
   "id": "opened-telephone",
   "metadata": {},
   "outputs": [],
   "source": []
  },
  {
   "cell_type": "code",
   "execution_count": null,
   "id": "alternate-speech",
   "metadata": {},
   "outputs": [],
   "source": []
  }
 ],
 "metadata": {
  "kernelspec": {
   "display_name": "R",
   "language": "R",
   "name": "ir"
  },
  "language_info": {
   "codemirror_mode": "r",
   "file_extension": ".r",
   "mimetype": "text/x-r-source",
   "name": "R",
   "pygments_lexer": "r",
   "version": "3.6.2"
  }
 },
 "nbformat": 4,
 "nbformat_minor": 5
}
