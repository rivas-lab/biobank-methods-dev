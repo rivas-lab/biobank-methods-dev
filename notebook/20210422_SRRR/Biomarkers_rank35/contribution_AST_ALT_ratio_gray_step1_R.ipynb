{
 "cells": [
  {
   "cell_type": "code",
   "execution_count": 1,
   "id": "iraqi-ordering",
   "metadata": {},
   "outputs": [],
   "source": [
    "suppressWarnings(suppressPackageStartupMessages({\n",
    "    library(tidyverse)\n",
    "    library(data.table)\n",
    "}))\n"
   ]
  },
  {
   "cell_type": "code",
   "execution_count": 2,
   "id": "occupational-female",
   "metadata": {},
   "outputs": [],
   "source": [
    "source('parameters.sh')\n"
   ]
  },
  {
   "cell_type": "code",
   "execution_count": 3,
   "id": "robust-zimbabwe",
   "metadata": {},
   "outputs": [],
   "source": [
    "ct_df <- file.path(\n",
    "    RData_d, results_sub_d,\n",
    "    sprintf('%s.%s.tsv', rdata_base, 'score_contribution')\n",
    ") %>%\n",
    "fread() %>%\n",
    "rename_with(function(x){str_replace(x, '#', '')}, starts_with(\"#\")) %>%\n",
    "mutate(rowname = str_replace(rowname, '_adjstatins', '')) %>%\n",
    "mutate(rowname = str_replace(rowname, '_adjstatin', '')) %>%\n",
    "mutate(component = str_replace(component, '^Component', ''))\n",
    "\n",
    "sq_df <- file.path(\n",
    "    RData_d, results_sub_d,\n",
    "    sprintf('%s.%s.tsv', rdata_base, 'score_squared_cosine')\n",
    ") %>%\n",
    "fread() %>%\n",
    "rename_with(function(x){str_replace(x, '#', '')}, starts_with(\"#\"))  %>%\n",
    "mutate(rowname = str_replace(rowname, '_adjstatins', '')) %>%\n",
    "mutate(rowname = str_replace(rowname, '_adjstatin', '')) %>%\n",
    "mutate(component = str_replace(component, '^Component', ''))\n",
    "\n"
   ]
  },
  {
   "cell_type": "code",
   "execution_count": 4,
   "id": "equal-newcastle",
   "metadata": {},
   "outputs": [],
   "source": [
    "# get the list of traits\n",
    "\n",
    "traits <- sq_df %>% arrange(rowname) %>% pull(rowname) %>% unique\n",
    "data.frame(\n",
    "    trait_order = 1:length(traits),\n",
    "    trait = traits\n",
    ") %>% \n",
    "mutate(\n",
    "    trait_label = str_replace_all(traits, '_', ' ')\n",
    ") -> traits_df\n"
   ]
  },
  {
   "cell_type": "code",
   "execution_count": 5,
   "id": "fuzzy-ethics",
   "metadata": {},
   "outputs": [],
   "source": [
    "# get the list of components\n",
    "\n",
    "sq_df %>% filter(rowname == 'AST_ALT_ratio') %>%\n",
    "mutate(component_order = rank(-squared_cosine_score)) %>%\n",
    "arrange(component_order) %>%\n",
    "select(component, component_order) -> components_df\n"
   ]
  },
  {
   "cell_type": "code",
   "execution_count": 6,
   "id": "opposite-reach",
   "metadata": {},
   "outputs": [],
   "source": [
    "ct_df %>%\n",
    "left_join(\n",
    "    sq_df %>%\n",
    "    filter(rowname == 'AST_ALT_ratio') %>%\n",
    "    select(-rowname),\n",
    "    by=\"component\"\n",
    ") %>%\n",
    "rename('trait'='rowname') %>%\n",
    "mutate(\n",
    "    # scaled contribution score\n",
    "    scaled_ct_score = contribution_score * squared_cosine_score\n",
    ")  %>%\n",
    "select(-contribution_score, -squared_cosine_score) %>%\n",
    "left_join(\n",
    "    traits_df, by=\"trait\"\n",
    ") %>%\n",
    "left_join(\n",
    "    components_df, by=\"component\"\n",
    ") %>%\n",
    "group_by(component_order) %>%\n",
    "arrange(-scaled_ct_score) %>%\n",
    "mutate(cumsum_scaled = cumsum(scaled_ct_score) - scaled_ct_score) %>%\n",
    "ungroup() %>%\n",
    "arrange(component_order, trait_order) %>%\n",
    "select(\n",
    "    component_order, component,\n",
    "    trait_order, trait, trait_label,\n",
    "    scaled_ct_score, cumsum_scaled\n",
    ")-> full_df\n"
   ]
  },
  {
   "cell_type": "code",
   "execution_count": 7,
   "id": "falling-flash",
   "metadata": {},
   "outputs": [],
   "source": [
    "full_df %>% \n",
    "fwrite('AST_ALT_ratio_plot_data.tsv', sep='\\t', na = \"NA\", quote=F)\n"
   ]
  },
  {
   "cell_type": "code",
   "execution_count": null,
   "id": "hawaiian-insurance",
   "metadata": {},
   "outputs": [],
   "source": []
  }
 ],
 "metadata": {
  "kernelspec": {
   "display_name": "R",
   "language": "R",
   "name": "ir"
  },
  "language_info": {
   "codemirror_mode": "r",
   "file_extension": ".r",
   "mimetype": "text/x-r-source",
   "name": "R",
   "pygments_lexer": "r",
   "version": "3.6.2"
  }
 },
 "nbformat": 4,
 "nbformat_minor": 5
}
