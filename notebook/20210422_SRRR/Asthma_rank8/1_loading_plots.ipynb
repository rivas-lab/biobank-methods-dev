{
 "cells": [
  {
   "cell_type": "code",
   "execution_count": 1,
   "id": "thousand-cleanup",
   "metadata": {},
   "outputs": [],
   "source": [
    "suppressWarnings(suppressPackageStartupMessages({\n",
    "    library(tidyverse)\n",
    "    library(data.table)\n",
    "}))\n"
   ]
  },
  {
   "cell_type": "code",
   "execution_count": 2,
   "id": "particular-magnet",
   "metadata": {},
   "outputs": [],
   "source": [
    "source('../functions.R')\n",
    "source('../parameters.sh')\n",
    "source('parameters.sh')\n"
   ]
  },
  {
   "cell_type": "code",
   "execution_count": 3,
   "id": "bottom-aquatic",
   "metadata": {},
   "outputs": [
    {
     "name": "stderr",
     "output_type": "stream",
     "text": [
      "Loading multiSnpnet\n",
      "\n"
     ]
    }
   ],
   "source": [
    "devtools::load_all(multiSnpnet_src_d)\n"
   ]
  },
  {
   "cell_type": "code",
   "execution_count": 4,
   "id": "social-budapest",
   "metadata": {},
   "outputs": [
    {
     "name": "stdout",
     "output_type": "stream",
     "text": [
      "[1] 60\n",
      "[1] \"output_lambda_60\"\n"
     ]
    }
   ],
   "source": [
    "# check if the config file has the correct lambda index\n",
    "find_argmax_lambda_idx(file.path(RData_d, results_sub_d)) %>% print()\n",
    "rdata_base %>% print()\n"
   ]
  },
  {
   "cell_type": "code",
   "execution_count": 5,
   "id": "numerous-ranking",
   "metadata": {},
   "outputs": [],
   "source": [
    "# read R Data file\n",
    "load(file.path(RData_d, results_sub_d, paste0(rdata_base, '.RData')))\n"
   ]
  },
  {
   "cell_type": "code",
   "execution_count": 6,
   "id": "oriented-defensive",
   "metadata": {},
   "outputs": [],
   "source": [
    "# read the trait names\n",
    "trait_names %>% fread() %>%\n",
    "rename('GBE_ID'='#GBE_ID') -> trait_names_df\n"
   ]
  },
  {
   "cell_type": "code",
   "execution_count": 7,
   "id": "sixth-trademark",
   "metadata": {},
   "outputs": [
    {
     "name": "stdout",
     "output_type": "stream",
     "text": [
      "[1] \"Monocyte count\"    \"Neutrophill count\" \"Eosinophill count\"\n",
      "[4] \"Basophill count\"   \"FVC\"               \"PEF\"              \n",
      "[7] \"FEV1\"              \"Asthma\"           \n"
     ]
    }
   ],
   "source": [
    "# update the trait names\n",
    "fit$C %>% colnames() %>%\n",
    "lapply(function(x){\n",
    "    setNames(trait_names_df$phenotype_name, trait_names_df$GBE_ID)[[x]]\n",
    "}) -> colnames_new\n",
    "\n",
    "colnames(fit$C) <- colnames_new\n",
    "\n",
    "fit$C %>% colnames() %>% print()\n"
   ]
  },
  {
   "cell_type": "code",
   "execution_count": 8,
   "id": "swiss-nation",
   "metadata": {},
   "outputs": [],
   "source": [
    "svd_C <- tsvd_of_C_with_names(fit, rank=rank)\n"
   ]
  },
  {
   "cell_type": "code",
   "execution_count": 82,
   "id": "cellular-people",
   "metadata": {},
   "outputs": [],
   "source": [
    "plot_biplot(\n",
    "    svd_C, \n",
    "    component=list('x'=1, 'y'=2),\n",
    "    color=list('phenotype'='#FF0000', 'variant'='#0000FF'),\n",
    "#     color=list('phenotype'='red', 'variant'='blue'),\n",
    "    label=list('phenotype'=colnames(fit$C), 'variant'=rownames(fit$C)),\n",
    "    n_labels=list('phenotype'=8, 'variant'=10)\n",
    ") -> p_biplot\n"
   ]
  },
  {
   "cell_type": "code",
   "execution_count": 83,
   "id": "separate-experiment",
   "metadata": {},
   "outputs": [],
   "source": [
    "ggsave('biplot.pdf',  p_biplot, width=7, height=7)\n"
   ]
  },
  {
   "cell_type": "code",
   "execution_count": 62,
   "id": "fluid-passion",
   "metadata": {},
   "outputs": [
    {
     "data": {
      "text/html": [
       "<style>\n",
       ".dl-inline {width: auto; margin:0; padding: 0}\n",
       ".dl-inline>dt, .dl-inline>dd {float: none; width: auto; display: inline-block}\n",
       ".dl-inline>dt::after {content: \":\\0020\"; padding-right: .5ex}\n",
       ".dl-inline>dt:not(:first-of-type) {padding-left: .5ex}\n",
       "</style><dl class=dl-inline><dt>Component1</dt><dd>0.354609691121628</dd><dt>Component2</dt><dd>0.178585829182637</dd><dt>Component3</dt><dd>0.171531598287322</dd><dt>Component4</dt><dd>0.121169140896093</dd><dt>Component5</dt><dd>0.0813924591132611</dd><dt>Component6</dt><dd>0.0673962579678007</dd><dt>Component7</dt><dd>0.022277664696897</dd><dt>Component8</dt><dd>0.00303735873436175</dd></dl>\n"
      ],
      "text/latex": [
       "\\begin{description*}\n",
       "\\item[Component1] 0.354609691121628\n",
       "\\item[Component2] 0.178585829182637\n",
       "\\item[Component3] 0.171531598287322\n",
       "\\item[Component4] 0.121169140896093\n",
       "\\item[Component5] 0.0813924591132611\n",
       "\\item[Component6] 0.0673962579678007\n",
       "\\item[Component7] 0.022277664696897\n",
       "\\item[Component8] 0.00303735873436175\n",
       "\\end{description*}\n"
      ],
      "text/markdown": [
       "Component1\n",
       ":   0.354609691121628Component2\n",
       ":   0.178585829182637Component3\n",
       ":   0.171531598287322Component4\n",
       ":   0.121169140896093Component5\n",
       ":   0.0813924591132611Component6\n",
       ":   0.0673962579678007Component7\n",
       ":   0.022277664696897Component8\n",
       ":   0.00303735873436175\n",
       "\n"
      ],
      "text/plain": [
       " Component1  Component2  Component3  Component4  Component5  Component6 \n",
       "0.354609691 0.178585829 0.171531598 0.121169141 0.081392459 0.067396258 \n",
       " Component7  Component8 \n",
       "0.022277665 0.003037359 "
      ]
     },
     "metadata": {},
     "output_type": "display_data"
    }
   ],
   "source": [
    "((svd_C$d ** 2) / sum(svd_C$d ** 2) )"
   ]
  },
  {
   "cell_type": "markdown",
   "id": "divided-flexibility",
   "metadata": {},
   "source": [
    "## Trait contribution score"
   ]
  },
  {
   "cell_type": "code",
   "execution_count": 90,
   "id": "elementary-invite",
   "metadata": {},
   "outputs": [],
   "source": [
    "svd_C %>% score_contribution() %>%\n",
    "left_join(\n",
    "#     ((svd_C$d ** 2) / (svd_C$d[1] ** 2) ) %>%\n",
    "    ((svd_C$d ** 2) / sum(svd_C$d ** 2) ) %>%\n",
    "    enframe(name = 'component', value='scree'),\n",
    "    by='component'\n",
    ") %>%\n",
    "mutate(contribution_score_scaled = contribution_score * scree) %>%\n",
    "mutate(component = str_replace(component, '^Component', '')) %>%\n",
    "mutate(component_order = as.integer(component)) %>%\n",
    "ggplot(aes(fill=rowname, y=contribution_score_scaled, x=reorder(component, component_order))) + \n",
    "geom_bar(position=\"stack\", stat=\"identity\", color='black') +\n",
    "theme_bw(base_size=16) +\n",
    "# theme(axis.text.x = element_text(angle = 90, vjust = 0.5, hjust=1)) +\n",
    "theme(legend.position='bottom') +\n",
    "labs(\n",
    "    x = 'Component',\n",
    "    y = 'Relative variance explained in each component (sum)\\n(Relative importance of phenotype to each component)',\n",
    "    fill=''\n",
    ") + guides(fill=guide_legend(ncol=3)) -> p_contribution\n"
   ]
  },
  {
   "cell_type": "code",
   "execution_count": 91,
   "id": "limited-cathedral",
   "metadata": {},
   "outputs": [],
   "source": [
    "ggsave('contribution.pdf', p_contribution, width=8, height=8)\n"
   ]
  },
  {
   "cell_type": "markdown",
   "id": "imported-spain",
   "metadata": {},
   "source": [
    "## Importance of the components (scree plot and trait squared cosine score)\n"
   ]
  },
  {
   "cell_type": "code",
   "execution_count": 12,
   "id": "processed-northeast",
   "metadata": {},
   "outputs": [],
   "source": [
    "svd_C %>% score_squared_cosine() %>%\n",
    "bind_rows(\n",
    "    ((svd_C$d ** 2) / sum(svd_C$d ** 2) ) %>%\n",
    "    enframe(name = 'component', value='squared_cosine_score') %>%\n",
    "    mutate(rowname = '(all traits combined)')\n",
    ") %>%\n",
    "mutate(component_order=as.numeric(str_replace_all(component, '^Component', ''))) %>%\n",
    "ggplot(aes(fill=reorder(component, component_order), y=squared_cosine_score, x=rowname)) + \n",
    "geom_bar(position=\"stack\", stat=\"identity\", color='black') +\n",
    "theme_bw(base_size=16) +\n",
    "coord_flip() + scale_y_reverse() +\n",
    "theme(legend.position='bottom') +\n",
    "labs(x = 'Phenotype', y = 'Relative importance of the components for each phenotype', fill='') -> p_squared_cosine\n"
   ]
  },
  {
   "cell_type": "code",
   "execution_count": 13,
   "id": "viral-variation",
   "metadata": {},
   "outputs": [],
   "source": [
    "ggsave('squared_cosine.pdf', p_squared_cosine, width=12, height=12)\n"
   ]
  },
  {
   "cell_type": "code",
   "execution_count": 14,
   "id": "alternative-marina",
   "metadata": {},
   "outputs": [
    {
     "data": {
      "text/html": [
       "<table class=\"dataframe\">\n",
       "<caption>A data.frame: 5 × 3</caption>\n",
       "<thead>\n",
       "\t<tr><th></th><th scope=col>rowname</th><th scope=col>component</th><th scope=col>squared_cosine_score</th></tr>\n",
       "\t<tr><th></th><th scope=col>&lt;chr&gt;</th><th scope=col>&lt;chr&gt;</th><th scope=col>&lt;dbl&gt;</th></tr>\n",
       "</thead>\n",
       "<tbody>\n",
       "\t<tr><th scope=row>1</th><td>Asthma</td><td>Component6</td><td>0.4434955</td></tr>\n",
       "\t<tr><th scope=row>2</th><td>Asthma</td><td>Component5</td><td>0.1807995</td></tr>\n",
       "\t<tr><th scope=row>3</th><td>Asthma</td><td>Component3</td><td>0.1511274</td></tr>\n",
       "\t<tr><th scope=row>4</th><td>Asthma</td><td>Component1</td><td>0.1184972</td></tr>\n",
       "\t<tr><th scope=row>5</th><td>Asthma</td><td>Component2</td><td>0.1057382</td></tr>\n",
       "</tbody>\n",
       "</table>\n"
      ],
      "text/latex": [
       "A data.frame: 5 × 3\n",
       "\\begin{tabular}{r|lll}\n",
       "  & rowname & component & squared\\_cosine\\_score\\\\\n",
       "  & <chr> & <chr> & <dbl>\\\\\n",
       "\\hline\n",
       "\t1 & Asthma & Component6 & 0.4434955\\\\\n",
       "\t2 & Asthma & Component5 & 0.1807995\\\\\n",
       "\t3 & Asthma & Component3 & 0.1511274\\\\\n",
       "\t4 & Asthma & Component1 & 0.1184972\\\\\n",
       "\t5 & Asthma & Component2 & 0.1057382\\\\\n",
       "\\end{tabular}\n"
      ],
      "text/markdown": [
       "\n",
       "A data.frame: 5 × 3\n",
       "\n",
       "| <!--/--> | rowname &lt;chr&gt; | component &lt;chr&gt; | squared_cosine_score &lt;dbl&gt; |\n",
       "|---|---|---|---|\n",
       "| 1 | Asthma | Component6 | 0.4434955 |\n",
       "| 2 | Asthma | Component5 | 0.1807995 |\n",
       "| 3 | Asthma | Component3 | 0.1511274 |\n",
       "| 4 | Asthma | Component1 | 0.1184972 |\n",
       "| 5 | Asthma | Component2 | 0.1057382 |\n",
       "\n"
      ],
      "text/plain": [
       "  rowname component  squared_cosine_score\n",
       "1 Asthma  Component6 0.4434955           \n",
       "2 Asthma  Component5 0.1807995           \n",
       "3 Asthma  Component3 0.1511274           \n",
       "4 Asthma  Component1 0.1184972           \n",
       "5 Asthma  Component2 0.1057382           "
      ]
     },
     "metadata": {},
     "output_type": "display_data"
    }
   ],
   "source": [
    "svd_C %>% score_squared_cosine() %>% \n",
    "filter(rowname == 'Asthma') %>%\n",
    "arrange(-squared_cosine_score) %>%\n",
    "head(5)"
   ]
  },
  {
   "cell_type": "code",
   "execution_count": 15,
   "id": "friendly-potter",
   "metadata": {},
   "outputs": [
    {
     "data": {
      "text/html": [
       "<table class=\"dataframe\">\n",
       "<caption>A data.frame: 5 × 3</caption>\n",
       "<thead>\n",
       "\t<tr><th></th><th scope=col>rowname</th><th scope=col>component</th><th scope=col>squared_cosine_score</th></tr>\n",
       "\t<tr><th></th><th scope=col>&lt;chr&gt;</th><th scope=col>&lt;chr&gt;</th><th scope=col>&lt;dbl&gt;</th></tr>\n",
       "</thead>\n",
       "<tbody>\n",
       "\t<tr><th scope=row>1</th><td>Basophill count</td><td>Component5</td><td>0.499749419</td></tr>\n",
       "\t<tr><th scope=row>2</th><td>Basophill count</td><td>Component4</td><td>0.192503051</td></tr>\n",
       "\t<tr><th scope=row>3</th><td>Basophill count</td><td>Component1</td><td>0.190316832</td></tr>\n",
       "\t<tr><th scope=row>4</th><td>Basophill count</td><td>Component6</td><td>0.115219874</td></tr>\n",
       "\t<tr><th scope=row>5</th><td>Basophill count</td><td>Component2</td><td>0.001839606</td></tr>\n",
       "</tbody>\n",
       "</table>\n"
      ],
      "text/latex": [
       "A data.frame: 5 × 3\n",
       "\\begin{tabular}{r|lll}\n",
       "  & rowname & component & squared\\_cosine\\_score\\\\\n",
       "  & <chr> & <chr> & <dbl>\\\\\n",
       "\\hline\n",
       "\t1 & Basophill count & Component5 & 0.499749419\\\\\n",
       "\t2 & Basophill count & Component4 & 0.192503051\\\\\n",
       "\t3 & Basophill count & Component1 & 0.190316832\\\\\n",
       "\t4 & Basophill count & Component6 & 0.115219874\\\\\n",
       "\t5 & Basophill count & Component2 & 0.001839606\\\\\n",
       "\\end{tabular}\n"
      ],
      "text/markdown": [
       "\n",
       "A data.frame: 5 × 3\n",
       "\n",
       "| <!--/--> | rowname &lt;chr&gt; | component &lt;chr&gt; | squared_cosine_score &lt;dbl&gt; |\n",
       "|---|---|---|---|\n",
       "| 1 | Basophill count | Component5 | 0.499749419 |\n",
       "| 2 | Basophill count | Component4 | 0.192503051 |\n",
       "| 3 | Basophill count | Component1 | 0.190316832 |\n",
       "| 4 | Basophill count | Component6 | 0.115219874 |\n",
       "| 5 | Basophill count | Component2 | 0.001839606 |\n",
       "\n"
      ],
      "text/plain": [
       "  rowname         component  squared_cosine_score\n",
       "1 Basophill count Component5 0.499749419         \n",
       "2 Basophill count Component4 0.192503051         \n",
       "3 Basophill count Component1 0.190316832         \n",
       "4 Basophill count Component6 0.115219874         \n",
       "5 Basophill count Component2 0.001839606         "
      ]
     },
     "metadata": {},
     "output_type": "display_data"
    }
   ],
   "source": [
    "svd_C %>% score_squared_cosine() %>% \n",
    "filter(rowname == 'Basophill count') %>%\n",
    "arrange(-squared_cosine_score) %>%\n",
    "head(5)"
   ]
  },
  {
   "cell_type": "markdown",
   "id": "looking-alloy",
   "metadata": {},
   "source": [
    "## variant contribution score"
   ]
  },
  {
   "cell_type": "code",
   "execution_count": 16,
   "id": "permanent-brave",
   "metadata": {},
   "outputs": [],
   "source": [
    "svd_C %>% score_contribution(right_singular_vectors = T) %>%\n",
    "filter(contribution_score > 0) %>%\n",
    "group_by(component) %>%\n",
    "arrange(-contribution_score) %>%\n",
    "mutate(\n",
    "    rank = rank(-contribution_score), cum_sum = cumsum(contribution_score)\n",
    ") -> var_contribution_df\n"
   ]
  },
  {
   "cell_type": "code",
   "execution_count": 17,
   "id": "binary-string",
   "metadata": {},
   "outputs": [],
   "source": [
    "var_contribution_df %>%\n",
    "mutate(component_idx = as.integer(str_replace(component, '^Component', ''))) %>%\n",
    "group_by(component) %>% mutate(row_idx = 1:n()) %>%\n",
    "filter(contribution_score > 1e-4 | rank <= 5000 | row_idx %% 50 == 0) %>%\n",
    "# do not plot all the points at the tail of the distribution so that\n",
    "# to speed up the rendering\n",
    "ggplot(aes(x = rank, y = cum_sum)) + \n",
    "geom_point() + facet_wrap( ~ reorder(component, component_idx), ncol=3) +\n",
    "theme_bw(base_size=16) + ylim(0, 1) -> p_var_contribution_cumsum\n"
   ]
  },
  {
   "cell_type": "code",
   "execution_count": 18,
   "id": "extensive-leonard",
   "metadata": {},
   "outputs": [],
   "source": [
    "ggsave('var_contribution_cumsum.pdf', p_var_contribution_cumsum, width=16, height=16)\n"
   ]
  },
  {
   "cell_type": "markdown",
   "id": "sixth-layout",
   "metadata": {},
   "source": [
    "## prepare input files for GREAT enrichment"
   ]
  },
  {
   "cell_type": "code",
   "execution_count": 19,
   "id": "promising-anime",
   "metadata": {},
   "outputs": [],
   "source": [
    "# read variant annotation files\n",
    "var_annot_f %>%\n",
    "read_var_annot() %>%\n",
    "filter(\n",
    "    ID_ALT %in% rownames(fit$C)\n",
    ") -> var_annot_df\n"
   ]
  },
  {
   "cell_type": "code",
   "execution_count": 20,
   "id": "sound-shelter",
   "metadata": {},
   "outputs": [
    {
     "data": {
      "text/html": [
       "<style>\n",
       ".list-inline {list-style: none; margin:0; padding: 0}\n",
       ".list-inline>li {display: inline-block}\n",
       ".list-inline>li:not(:last-child)::after {content: \"\\00b7\"; padding: 0 .5ex}\n",
       "</style>\n",
       "<ol class=list-inline><li>40152</li><li>30</li></ol>\n"
      ],
      "text/latex": [
       "\\begin{enumerate*}\n",
       "\\item 40152\n",
       "\\item 30\n",
       "\\end{enumerate*}\n"
      ],
      "text/markdown": [
       "1. 40152\n",
       "2. 30\n",
       "\n",
       "\n"
      ],
      "text/plain": [
       "[1] 40152    30"
      ]
     },
     "metadata": {},
     "output_type": "display_data"
    }
   ],
   "source": [
    "var_annot_df %>% dim()\n"
   ]
  },
  {
   "cell_type": "code",
   "execution_count": 21,
   "id": "intermediate-prediction",
   "metadata": {},
   "outputs": [],
   "source": [
    "d_GREAT_in <- file.path(data_d, results_sub_d, rdata_base, 'GREAT', '1_in_bed')\n"
   ]
  },
  {
   "cell_type": "code",
   "execution_count": 22,
   "id": "little-converter",
   "metadata": {},
   "outputs": [],
   "source": [
    "mkdir_p_if_not_exist(d_GREAT_in)"
   ]
  },
  {
   "cell_type": "code",
   "execution_count": 24,
   "id": "genetic-opportunity",
   "metadata": {},
   "outputs": [],
   "source": [
    "mkdir_p_if_not_exist(file.path(dirname(d_GREAT_in), '3_out_by_onto'))\n"
   ]
  },
  {
   "cell_type": "code",
   "execution_count": 23,
   "id": "proper-jersey",
   "metadata": {},
   "outputs": [],
   "source": [
    "for(component_idx in 1:rank){\n",
    "    var_annot_df %>% \n",
    "    filter(ID_ALT %in% get_top_k_variants(var_contribution_df, component_idx)) %>% \n",
    "    select(CHROM, POS, POS_e, ID) %>%\n",
    "    fwrite(file.path(d_GREAT_in, paste0(component_idx, '.bed')), sep='\\t', na = \"NA\", quote=F, col.names=F)    \n",
    "}\n"
   ]
  },
  {
   "cell_type": "code",
   "execution_count": 31,
   "id": "talented-shade",
   "metadata": {},
   "outputs": [
    {
     "data": {
      "text/html": [
       "<table class=\"dataframe\">\n",
       "<caption>A grouped_df: 5 × 7</caption>\n",
       "<thead>\n",
       "\t<tr><th scope=col>rowname</th><th scope=col>component</th><th scope=col>contribution_score</th><th scope=col>rank</th><th scope=col>cum_sum</th><th scope=col>SYMBOL</th><th scope=col>Csq</th></tr>\n",
       "\t<tr><th scope=col>&lt;chr&gt;</th><th scope=col>&lt;chr&gt;</th><th scope=col>&lt;dbl&gt;</th><th scope=col>&lt;dbl&gt;</th><th scope=col>&lt;dbl&gt;</th><th scope=col>&lt;chr&gt;</th><th scope=col>&lt;chr&gt;</th></tr>\n",
       "</thead>\n",
       "<tbody>\n",
       "\t<tr><td>rs6662383_T </td><td>Component5</td><td>0.05973796</td><td>1</td><td>0.05973796</td><td>RP5-940F7.2</td><td>others</td></tr>\n",
       "\t<tr><td>rs74472890_C</td><td>Component5</td><td>0.02657894</td><td>2</td><td>0.08631689</td><td>P2RY2      </td><td>pav   </td></tr>\n",
       "\t<tr><td>rs4328821_G </td><td>Component5</td><td>0.02586639</td><td>3</td><td>0.11218328</td><td>NA         </td><td>others</td></tr>\n",
       "\t<tr><td>rs11775560_G</td><td>Component5</td><td>0.01497919</td><td>4</td><td>0.12716247</td><td>CHD7       </td><td>intron</td></tr>\n",
       "\t<tr><td>rs445_T     </td><td>Component5</td><td>0.01268530</td><td>5</td><td>0.13984778</td><td>CDK6       </td><td>intron</td></tr>\n",
       "</tbody>\n",
       "</table>\n"
      ],
      "text/latex": [
       "A grouped\\_df: 5 × 7\n",
       "\\begin{tabular}{lllllll}\n",
       " rowname & component & contribution\\_score & rank & cum\\_sum & SYMBOL & Csq\\\\\n",
       " <chr> & <chr> & <dbl> & <dbl> & <dbl> & <chr> & <chr>\\\\\n",
       "\\hline\n",
       "\t rs6662383\\_T  & Component5 & 0.05973796 & 1 & 0.05973796 & RP5-940F7.2 & others\\\\\n",
       "\t rs74472890\\_C & Component5 & 0.02657894 & 2 & 0.08631689 & P2RY2       & pav   \\\\\n",
       "\t rs4328821\\_G  & Component5 & 0.02586639 & 3 & 0.11218328 & NA          & others\\\\\n",
       "\t rs11775560\\_G & Component5 & 0.01497919 & 4 & 0.12716247 & CHD7        & intron\\\\\n",
       "\t rs445\\_T      & Component5 & 0.01268530 & 5 & 0.13984778 & CDK6        & intron\\\\\n",
       "\\end{tabular}\n"
      ],
      "text/markdown": [
       "\n",
       "A grouped_df: 5 × 7\n",
       "\n",
       "| rowname &lt;chr&gt; | component &lt;chr&gt; | contribution_score &lt;dbl&gt; | rank &lt;dbl&gt; | cum_sum &lt;dbl&gt; | SYMBOL &lt;chr&gt; | Csq &lt;chr&gt; |\n",
       "|---|---|---|---|---|---|---|\n",
       "| rs6662383_T  | Component5 | 0.05973796 | 1 | 0.05973796 | RP5-940F7.2 | others |\n",
       "| rs74472890_C | Component5 | 0.02657894 | 2 | 0.08631689 | P2RY2       | pav    |\n",
       "| rs4328821_G  | Component5 | 0.02586639 | 3 | 0.11218328 | NA          | others |\n",
       "| rs11775560_G | Component5 | 0.01497919 | 4 | 0.12716247 | CHD7        | intron |\n",
       "| rs445_T      | Component5 | 0.01268530 | 5 | 0.13984778 | CDK6        | intron |\n",
       "\n"
      ],
      "text/plain": [
       "  rowname      component  contribution_score rank cum_sum    SYMBOL      Csq   \n",
       "1 rs6662383_T  Component5 0.05973796         1    0.05973796 RP5-940F7.2 others\n",
       "2 rs74472890_C Component5 0.02657894         2    0.08631689 P2RY2       pav   \n",
       "3 rs4328821_G  Component5 0.02586639         3    0.11218328 NA          others\n",
       "4 rs11775560_G Component5 0.01497919         4    0.12716247 CHD7        intron\n",
       "5 rs445_T      Component5 0.01268530         5    0.13984778 CDK6        intron"
      ]
     },
     "metadata": {},
     "output_type": "display_data"
    }
   ],
   "source": [
    "var_contribution_df %>% filter(component == 'Component5') %>% head(5) %>%\n",
    "left_join(\n",
    "    var_annot_df %>% select(SYMBOL, ID_ALT, Csq),\n",
    "    by=c('rowname'='ID_ALT')\n",
    ")"
   ]
  },
  {
   "cell_type": "code",
   "execution_count": null,
   "id": "uniform-little",
   "metadata": {},
   "outputs": [],
   "source": []
  }
 ],
 "metadata": {
  "kernelspec": {
   "display_name": "R",
   "language": "R",
   "name": "ir"
  },
  "language_info": {
   "codemirror_mode": "r",
   "file_extension": ".r",
   "mimetype": "text/x-r-source",
   "name": "R",
   "pygments_lexer": "r",
   "version": "3.6.2"
  }
 },
 "nbformat": 4,
 "nbformat_minor": 5
}
