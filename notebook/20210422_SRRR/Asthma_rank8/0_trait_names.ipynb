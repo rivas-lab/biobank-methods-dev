{
 "cells": [
  {
   "cell_type": "code",
   "execution_count": 1,
   "id": "planned-announcement",
   "metadata": {},
   "outputs": [],
   "source": [
    "suppressWarnings(suppressPackageStartupMessages({\n",
    "    library(tidyverse)\n",
    "    library(data.table)\n",
    "}))\n"
   ]
  },
  {
   "cell_type": "code",
   "execution_count": 2,
   "id": "legislative-tiffany",
   "metadata": {},
   "outputs": [],
   "source": [
    "'/oak/stanford/groups/mrivas/users/ytanigaw/repos/rivas-lab/ukbb-tools/05_gbe/extras/20200812_GBE_category/GBE_category.20201024.tsv' %>%\n",
    "fread() -> df"
   ]
  },
  {
   "cell_type": "code",
   "execution_count": 13,
   "id": "raised-reputation",
   "metadata": {},
   "outputs": [],
   "source": [
    "df %>% select(GBE_ID, GBE_NAME, GBE_short_name) %>% \n",
    "filter(GBE_ID %in% \n",
    "      \n",
    "      c(\n",
    "\n",
    "    'INI30130','INI30140','INI30150','INI30160','INI3062','INI3064','INI3063','HC382'\n",
    "\n",
    ")\n",
    " ) %>%\n",
    "rename('phenotype_name_full'='GBE_NAME', 'phenotype_name'='GBE_short_name') %>%\n",
    "select(GBE_ID, phenotype_name, phenotype_name_full) %>%\n",
    "arrange(GBE_ID) %>%\n",
    "rename('#GBE_ID' = 'GBE_ID') %>%\n",
    "fwrite('trait_names.tsv', sep='\\t', na = \"NA\", quote=F)\n"
   ]
  },
  {
   "cell_type": "code",
   "execution_count": 5,
   "id": "royal-portrait",
   "metadata": {},
   "outputs": [
    {
     "data": {
      "text/html": [
       "<style>\n",
       ".list-inline {list-style: none; margin:0; padding: 0}\n",
       ".list-inline>li {display: inline-block}\n",
       ".list-inline>li:not(:last-child)::after {content: \"\\00b7\"; padding: 0 .5ex}\n",
       "</style>\n",
       "<ol class=list-inline><li>'INI30130'</li><li>'INI30140'</li><li>'INI30150'</li><li>'INI30160'</li><li>'INI3062'</li><li>'INI3064'</li><li>'INI3063'</li><li>'HC382'</li></ol>\n"
      ],
      "text/latex": [
       "\\begin{enumerate*}\n",
       "\\item 'INI30130'\n",
       "\\item 'INI30140'\n",
       "\\item 'INI30150'\n",
       "\\item 'INI30160'\n",
       "\\item 'INI3062'\n",
       "\\item 'INI3064'\n",
       "\\item 'INI3063'\n",
       "\\item 'HC382'\n",
       "\\end{enumerate*}\n"
      ],
      "text/markdown": [
       "1. 'INI30130'\n",
       "2. 'INI30140'\n",
       "3. 'INI30150'\n",
       "4. 'INI30160'\n",
       "5. 'INI3062'\n",
       "6. 'INI3064'\n",
       "7. 'INI3063'\n",
       "8. 'HC382'\n",
       "\n",
       "\n"
      ],
      "text/plain": [
       "[1] \"INI30130\" \"INI30140\" \"INI30150\" \"INI30160\" \"INI3062\"  \"INI3064\"  \"INI3063\" \n",
       "[8] \"HC382\"   "
      ]
     },
     "metadata": {},
     "output_type": "display_data"
    }
   ],
   "source": []
  },
  {
   "cell_type": "code",
   "execution_count": null,
   "id": "arabic-budapest",
   "metadata": {},
   "outputs": [],
   "source": []
  }
 ],
 "metadata": {
  "kernelspec": {
   "display_name": "R",
   "language": "R",
   "name": "ir"
  },
  "language_info": {
   "codemirror_mode": "r",
   "file_extension": ".r",
   "mimetype": "text/x-r-source",
   "name": "R",
   "pygments_lexer": "r",
   "version": "3.6.2"
  }
 },
 "nbformat": 4,
 "nbformat_minor": 5
}
