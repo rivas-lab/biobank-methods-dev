{
 "cells": [
  {
   "cell_type": "code",
   "execution_count": 5,
   "id": "settled-richmond",
   "metadata": {},
   "outputs": [],
   "source": [
    "suppressWarnings(suppressPackageStartupMessages({\n",
    "    library(tidyverse)\n",
    "    library(data.table)\n",
    "}))\n"
   ]
  },
  {
   "cell_type": "code",
   "execution_count": 6,
   "id": "accessible-anderson",
   "metadata": {},
   "outputs": [],
   "source": [
    "source('../functions.R')\n",
    "source('../parameters.sh')\n",
    "source('parameters.sh')\n"
   ]
  },
  {
   "cell_type": "code",
   "execution_count": 7,
   "id": "wired-identity",
   "metadata": {},
   "outputs": [
    {
     "name": "stderr",
     "output_type": "stream",
     "text": [
      "Loading multiSnpnet\n",
      "\n"
     ]
    }
   ],
   "source": [
    "devtools::load_all(multiSnpnet_src_d)\n"
   ]
  },
  {
   "cell_type": "code",
   "execution_count": 22,
   "id": "forced-myanmar",
   "metadata": {},
   "outputs": [
    {
     "data": {
      "text/html": [
       "60"
      ],
      "text/latex": [
       "60"
      ],
      "text/markdown": [
       "60"
      ],
      "text/plain": [
       "[1] 60"
      ]
     },
     "metadata": {},
     "output_type": "display_data"
    }
   ],
   "source": [
    "find_argmax_lambda_idx(file.path(RData_d, 'results_rank_8'))\n"
   ]
  },
  {
   "cell_type": "code",
   "execution_count": 23,
   "id": "resistant-retention",
   "metadata": {},
   "outputs": [
    {
     "data": {
      "text/html": [
       "60"
      ],
      "text/latex": [
       "60"
      ],
      "text/markdown": [
       "60"
      ],
      "text/plain": [
       "[1] 60"
      ]
     },
     "metadata": {},
     "output_type": "display_data"
    }
   ],
   "source": [
    "find_argmax_lambda_idx(file.path(RData_d, 'results_rank_7'))\n"
   ]
  },
  {
   "cell_type": "code",
   "execution_count": 25,
   "id": "moral-psychiatry",
   "metadata": {},
   "outputs": [],
   "source": [
    "load(file.path(RData_d, 'results_rank_7', paste0('output_lambda_60', '.RData')))\n"
   ]
  },
  {
   "cell_type": "code",
   "execution_count": 26,
   "id": "nonprofit-teach",
   "metadata": {},
   "outputs": [
    {
     "data": {
      "text/html": [
       "1.71141576140352"
      ],
      "text/latex": [
       "1.71141576140352"
      ],
      "text/markdown": [
       "1.71141576140352"
      ],
      "text/plain": [
       "[1] 1.711416"
      ]
     },
     "metadata": {},
     "output_type": "display_data"
    }
   ],
   "source": [
    "rowSums(metric_val)[60]\n"
   ]
  },
  {
   "cell_type": "code",
   "execution_count": 27,
   "id": "superb-parker",
   "metadata": {},
   "outputs": [],
   "source": [
    "load(file.path(RData_d, 'results_rank_8', paste0('output_lambda_60', '.RData')))\n"
   ]
  },
  {
   "cell_type": "code",
   "execution_count": 28,
   "id": "greek-devices",
   "metadata": {},
   "outputs": [
    {
     "data": {
      "text/html": [
       "1.71378093378386"
      ],
      "text/latex": [
       "1.71378093378386"
      ],
      "text/markdown": [
       "1.71378093378386"
      ],
      "text/plain": [
       "[1] 1.713781"
      ]
     },
     "metadata": {},
     "output_type": "display_data"
    }
   ],
   "source": [
    "rowSums(metric_val)[60]\n"
   ]
  },
  {
   "cell_type": "code",
   "execution_count": null,
   "id": "proprietary-action",
   "metadata": {},
   "outputs": [],
   "source": []
  }
 ],
 "metadata": {
  "kernelspec": {
   "display_name": "R",
   "language": "R",
   "name": "ir"
  },
  "language_info": {
   "codemirror_mode": "r",
   "file_extension": ".r",
   "mimetype": "text/x-r-source",
   "name": "R",
   "pygments_lexer": "r",
   "version": "3.6.2"
  }
 },
 "nbformat": 4,
 "nbformat_minor": 5
}
