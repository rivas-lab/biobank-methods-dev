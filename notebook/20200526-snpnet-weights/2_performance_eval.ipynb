{
 "cells": [
  {
   "cell_type": "code",
   "execution_count": 1,
   "metadata": {},
   "outputs": [],
   "source": [
    "suppressWarnings(suppressPackageStartupMessages({\n",
    "    library(tidyverse)\n",
    "    library(data.table)\n",
    "}))\n"
   ]
  },
  {
   "cell_type": "code",
   "execution_count": 2,
   "metadata": {},
   "outputs": [],
   "source": [
    "# input\n",
    "data_d <- '/scratch/groups/mrivas/projects/biobank-methods-dev/20200526-snpnet-weights'\n",
    "phe_f  <- '/oak/stanford/groups/mrivas/ukbb24983/phenotypedata/master_phe/master.20200522.phe'\n",
    "\n",
    "# constants\n",
    "covars <- c('age', 'sex', paste0('PC', 1:10))\n",
    "alphas <- c('weightedF', 'weightedT')\n",
    "\n",
    "# output\n",
    "out_f <- 'snpnet-weighted.eval.tsv'\n"
   ]
  },
  {
   "cell_type": "code",
   "execution_count": 3,
   "metadata": {},
   "outputs": [],
   "source": [
    "read_PRS <- function(GBE_ID, alpha, data_dir=data_d){\n",
    "    sscore_f <- file.path(\n",
    "        data_dir,\n",
    "        sprintf('%s_%s', GBE_ID, alpha),\n",
    "        sprintf('%s.sscore.zst', GBE_ID)\n",
    "    )\n",
    "    fread(\n",
    "        cmd=paste('zstdcat', sscore_f),\n",
    "        select=c('#FID', 'IID', 'SCORE1_SUM'),\n",
    "        colClasses=c('#FID'='character', 'IID'='character')\n",
    "    ) %>%\n",
    "    rename('FID'='#FID', 'geno_score'='SCORE1_SUM')\n",
    "}\n"
   ]
  },
  {
   "cell_type": "code",
   "execution_count": 4,
   "metadata": {},
   "outputs": [],
   "source": [
    "read_covars <- function(GBE_ID, alpha, data_dir=data_d){\n",
    "    file.path(\n",
    "        data_dir,\n",
    "        sprintf('%s_%s', GBE_ID, alpha),\n",
    "        'snpnet.covars.tsv'\n",
    "    ) %>%\n",
    "    fread(colClasses=c('ID'='character')) %>%\n",
    "    column_to_rownames('ID')\n",
    "}\n"
   ]
  },
  {
   "cell_type": "code",
   "execution_count": 5,
   "metadata": {},
   "outputs": [],
   "source": [
    "read_BETAs <- function(GBE_ID, alpha, data_dir=data_d){\n",
    "    file.path(\n",
    "        data_dir,\n",
    "        sprintf('%s_%s', GBE_ID, alpha),\n",
    "        'snpnet.tsv'\n",
    "    ) %>%\n",
    "    fread(colClasses=c('ID'='character'))\n",
    "}\n"
   ]
  },
  {
   "cell_type": "code",
   "execution_count": 6,
   "metadata": {},
   "outputs": [],
   "source": [
    "read_predicted_scores <- function(phe_df, GBE_ID, alpha, covariates=covars){\n",
    "    covar_df <- read_covars(GBE_ID, alpha)\n",
    "    as.matrix(\n",
    "        phe_df %>% select(all_of(covariates))\n",
    "    ) %*% as.matrix(covar_df) %>%\n",
    "    as.data.frame() %>%\n",
    "    rownames_to_column('ID') %>%\n",
    "    separate(ID, c('FID', 'IID'), sep='_') %>% \n",
    "    rename('covar_score'='BETA') %>%\n",
    "    left_join(\n",
    "        phe_df %>% select(FID, IID, split, all_of(GBE_ID)),\n",
    "        by=c('FID', 'IID')\n",
    "    ) %>%\n",
    "    left_join(\n",
    "        read_PRS(GBE_ID, alpha),\n",
    "        by=c('FID', 'IID')\n",
    "    ) %>%\n",
    "    mutate(\n",
    "        geno_covar_score = geno_score + covar_score\n",
    "    )\n",
    "}\n"
   ]
  },
  {
   "cell_type": "code",
   "execution_count": 7,
   "metadata": {},
   "outputs": [],
   "source": [
    "perform_eval <- function(response, pred, metric.type){\n",
    "    if(metric.type == 'r2'){\n",
    "        summary(lm(response ~ 1 + pred))$r.squared\n",
    "    }else{\n",
    "#         pROC::auc(pROC::roc(response, pred))        \n",
    "        pred.obj <- ROCR::prediction(pred, factor(response - 1))\n",
    "        auc.obj <- ROCR::performance(pred.obj, measure = 'auc')\n",
    "        auc.obj@y.values[[1]]\n",
    "    }\n",
    "}\n"
   ]
  },
  {
   "cell_type": "code",
   "execution_count": 8,
   "metadata": {},
   "outputs": [],
   "source": [
    "build_eval_df <- function(phe_df, GBE_ID, alpha, split_string, metric.type){\n",
    "    score_test_df <- phe_df %>%\n",
    "    read_predicted_scores(GBE_ID, alpha) %>%\n",
    "    filter(split == split_string) %>%\n",
    "    drop_na(all_of(GBE_ID)) %>%\n",
    "    filter(GBE_ID != -9)\n",
    "\n",
    "    data.frame(\n",
    "        GBE_ID     = GBE_ID,\n",
    "        alpha      = alpha,\n",
    "        n_variables = read_BETAs(GBE_ID, alpha) %>% nrow(),\n",
    "        geno       = perform_eval(\n",
    "            score_test_df[[GBE_ID]],\n",
    "            score_test_df$geno_score,\n",
    "            metric.type\n",
    "        ),\n",
    "        covar      = perform_eval(\n",
    "            score_test_df[[GBE_ID]],\n",
    "            score_test_df$covar_score,\n",
    "            metric.type\n",
    "        ),\n",
    "        geno_covar = perform_eval(\n",
    "            score_test_df[[GBE_ID]],\n",
    "            score_test_df$geno_covar_score,\n",
    "            metric.type\n",
    "        ),\n",
    "        stringsAsFactors = F\n",
    "    )    \n",
    "}\n"
   ]
  },
  {
   "cell_type": "code",
   "execution_count": 9,
   "metadata": {},
   "outputs": [],
   "source": [
    "get_eval_df <- function(phe_df, alphas, split_string){\n",
    "    eval_df <- bind_rows(\n",
    "        alphas %>% lapply(function(alpha){ tryCatch({ \n",
    "            phe_df %>% build_eval_df('INI30780', alpha, split_string, 'r2')\n",
    "        }, error=function(e){})}) %>% bind_rows(),\n",
    "\n",
    "        alphas %>% lapply(function(alpha){ tryCatch({ \n",
    "            phe_df %>% build_eval_df('HC382', alpha, split_string, 'auc')\n",
    "        }, error=function(e){})}) %>% bind_rows()\n",
    "    )\n",
    "}\n"
   ]
  },
  {
   "cell_type": "markdown",
   "metadata": {},
   "source": [
    "## compute the performance metric"
   ]
  },
  {
   "cell_type": "code",
   "execution_count": 10,
   "metadata": {},
   "outputs": [],
   "source": [
    "phe_df <- fread(\n",
    "    phe_f,\n",
    "    colClasses=c('#FID'='character', 'IID'='character'),\n",
    "    select=c('#FID','IID','split','INI30780','HC382', covars)\n",
    ") %>%\n",
    "rename('FID'='#FID') %>%\n",
    "mutate(ID = paste(FID, IID, sep='_')) %>%\n",
    "column_to_rownames('ID')\n"
   ]
  },
  {
   "cell_type": "code",
   "execution_count": 11,
   "metadata": {},
   "outputs": [],
   "source": [
    "eval_df <- bind_rows(\n",
    "    phe_df %>% get_eval_df(alphas, 'train') %>% mutate(split = 'train'),\n",
    "    phe_df %>% get_eval_df(alphas, 'val')   %>% mutate(split = 'val'),\n",
    "    phe_df %>% get_eval_df(alphas, 'test')  %>% mutate(split = 'test')\n",
    ")\n"
   ]
  },
  {
   "cell_type": "code",
   "execution_count": 12,
   "metadata": {},
   "outputs": [
    {
     "data": {
      "text/html": [
       "<table>\n",
       "<caption>A data.frame: 12 × 7</caption>\n",
       "<thead>\n",
       "\t<tr><th scope=col>GBE_ID</th><th scope=col>alpha</th><th scope=col>n_variables</th><th scope=col>geno</th><th scope=col>covar</th><th scope=col>geno_covar</th><th scope=col>split</th></tr>\n",
       "\t<tr><th scope=col>&lt;chr&gt;</th><th scope=col>&lt;chr&gt;</th><th scope=col>&lt;int&gt;</th><th scope=col>&lt;dbl&gt;</th><th scope=col>&lt;dbl&gt;</th><th scope=col>&lt;dbl&gt;</th><th scope=col>&lt;chr&gt;</th></tr>\n",
       "</thead>\n",
       "<tbody>\n",
       "\t<tr><td>INI30780</td><td>weightedF</td><td>8193</td><td>0.016055464</td><td>0.0007244732</td><td>0.016579870</td><td>train</td></tr>\n",
       "\t<tr><td>INI30780</td><td>weightedT</td><td>7462</td><td>0.015377055</td><td>0.0007214101</td><td>0.015919461</td><td>train</td></tr>\n",
       "\t<tr><td>HC382   </td><td>weightedF</td><td>7991</td><td>0.779754072</td><td>0.5350311154</td><td>0.779130590</td><td>train</td></tr>\n",
       "\t<tr><td>HC382   </td><td>weightedT</td><td>7353</td><td>0.769813141</td><td>0.5350172997</td><td>0.769193036</td><td>train</td></tr>\n",
       "\t<tr><td>INI30780</td><td>weightedF</td><td>8193</td><td>0.009579811</td><td>0.0008147192</td><td>0.010376733</td><td>val  </td></tr>\n",
       "\t<tr><td>INI30780</td><td>weightedT</td><td>7462</td><td>0.009805914</td><td>0.0008203262</td><td>0.010609883</td><td>val  </td></tr>\n",
       "\t<tr><td>HC382   </td><td>weightedF</td><td>7991</td><td>0.615238387</td><td>0.5312761804</td><td>0.619462029</td><td>val  </td></tr>\n",
       "\t<tr><td>HC382   </td><td>weightedT</td><td>7353</td><td>0.614893415</td><td>0.5312988135</td><td>0.619250174</td><td>val  </td></tr>\n",
       "\t<tr><td>INI30780</td><td>weightedF</td><td>8193</td><td>0.008047230</td><td>0.0007022184</td><td>0.008745148</td><td>test </td></tr>\n",
       "\t<tr><td>INI30780</td><td>weightedT</td><td>7462</td><td>0.008141208</td><td>0.0007031181</td><td>0.008839905</td><td>test </td></tr>\n",
       "\t<tr><td>HC382   </td><td>weightedF</td><td>7991</td><td>0.611708456</td><td>0.5317199534</td><td>0.615831729</td><td>test </td></tr>\n",
       "\t<tr><td>HC382   </td><td>weightedT</td><td>7353</td><td>0.612180270</td><td>0.5317797953</td><td>0.616184374</td><td>test </td></tr>\n",
       "</tbody>\n",
       "</table>\n"
      ],
      "text/latex": [
       "A data.frame: 12 × 7\n",
       "\\begin{tabular}{lllllll}\n",
       " GBE\\_ID & alpha & n\\_variables & geno & covar & geno\\_covar & split\\\\\n",
       " <chr> & <chr> & <int> & <dbl> & <dbl> & <dbl> & <chr>\\\\\n",
       "\\hline\n",
       "\t INI30780 & weightedF & 8193 & 0.016055464 & 0.0007244732 & 0.016579870 & train\\\\\n",
       "\t INI30780 & weightedT & 7462 & 0.015377055 & 0.0007214101 & 0.015919461 & train\\\\\n",
       "\t HC382    & weightedF & 7991 & 0.779754072 & 0.5350311154 & 0.779130590 & train\\\\\n",
       "\t HC382    & weightedT & 7353 & 0.769813141 & 0.5350172997 & 0.769193036 & train\\\\\n",
       "\t INI30780 & weightedF & 8193 & 0.009579811 & 0.0008147192 & 0.010376733 & val  \\\\\n",
       "\t INI30780 & weightedT & 7462 & 0.009805914 & 0.0008203262 & 0.010609883 & val  \\\\\n",
       "\t HC382    & weightedF & 7991 & 0.615238387 & 0.5312761804 & 0.619462029 & val  \\\\\n",
       "\t HC382    & weightedT & 7353 & 0.614893415 & 0.5312988135 & 0.619250174 & val  \\\\\n",
       "\t INI30780 & weightedF & 8193 & 0.008047230 & 0.0007022184 & 0.008745148 & test \\\\\n",
       "\t INI30780 & weightedT & 7462 & 0.008141208 & 0.0007031181 & 0.008839905 & test \\\\\n",
       "\t HC382    & weightedF & 7991 & 0.611708456 & 0.5317199534 & 0.615831729 & test \\\\\n",
       "\t HC382    & weightedT & 7353 & 0.612180270 & 0.5317797953 & 0.616184374 & test \\\\\n",
       "\\end{tabular}\n"
      ],
      "text/markdown": [
       "\n",
       "A data.frame: 12 × 7\n",
       "\n",
       "| GBE_ID &lt;chr&gt; | alpha &lt;chr&gt; | n_variables &lt;int&gt; | geno &lt;dbl&gt; | covar &lt;dbl&gt; | geno_covar &lt;dbl&gt; | split &lt;chr&gt; |\n",
       "|---|---|---|---|---|---|---|\n",
       "| INI30780 | weightedF | 8193 | 0.016055464 | 0.0007244732 | 0.016579870 | train |\n",
       "| INI30780 | weightedT | 7462 | 0.015377055 | 0.0007214101 | 0.015919461 | train |\n",
       "| HC382    | weightedF | 7991 | 0.779754072 | 0.5350311154 | 0.779130590 | train |\n",
       "| HC382    | weightedT | 7353 | 0.769813141 | 0.5350172997 | 0.769193036 | train |\n",
       "| INI30780 | weightedF | 8193 | 0.009579811 | 0.0008147192 | 0.010376733 | val   |\n",
       "| INI30780 | weightedT | 7462 | 0.009805914 | 0.0008203262 | 0.010609883 | val   |\n",
       "| HC382    | weightedF | 7991 | 0.615238387 | 0.5312761804 | 0.619462029 | val   |\n",
       "| HC382    | weightedT | 7353 | 0.614893415 | 0.5312988135 | 0.619250174 | val   |\n",
       "| INI30780 | weightedF | 8193 | 0.008047230 | 0.0007022184 | 0.008745148 | test  |\n",
       "| INI30780 | weightedT | 7462 | 0.008141208 | 0.0007031181 | 0.008839905 | test  |\n",
       "| HC382    | weightedF | 7991 | 0.611708456 | 0.5317199534 | 0.615831729 | test  |\n",
       "| HC382    | weightedT | 7353 | 0.612180270 | 0.5317797953 | 0.616184374 | test  |\n",
       "\n"
      ],
      "text/plain": [
       "   GBE_ID   alpha     n_variables geno        covar        geno_covar  split\n",
       "1  INI30780 weightedF 8193        0.016055464 0.0007244732 0.016579870 train\n",
       "2  INI30780 weightedT 7462        0.015377055 0.0007214101 0.015919461 train\n",
       "3  HC382    weightedF 7991        0.779754072 0.5350311154 0.779130590 train\n",
       "4  HC382    weightedT 7353        0.769813141 0.5350172997 0.769193036 train\n",
       "5  INI30780 weightedF 8193        0.009579811 0.0008147192 0.010376733 val  \n",
       "6  INI30780 weightedT 7462        0.009805914 0.0008203262 0.010609883 val  \n",
       "7  HC382    weightedF 7991        0.615238387 0.5312761804 0.619462029 val  \n",
       "8  HC382    weightedT 7353        0.614893415 0.5312988135 0.619250174 val  \n",
       "9  INI30780 weightedF 8193        0.008047230 0.0007022184 0.008745148 test \n",
       "10 INI30780 weightedT 7462        0.008141208 0.0007031181 0.008839905 test \n",
       "11 HC382    weightedF 7991        0.611708456 0.5317199534 0.615831729 test \n",
       "12 HC382    weightedT 7353        0.612180270 0.5317797953 0.616184374 test "
      ]
     },
     "metadata": {},
     "output_type": "display_data"
    }
   ],
   "source": [
    "eval_df"
   ]
  },
  {
   "cell_type": "code",
   "execution_count": 13,
   "metadata": {},
   "outputs": [],
   "source": [
    "eval_df %>%\n",
    "fwrite(out_f, sep='\\t', na = \"NA\", quote=F)\n"
   ]
  },
  {
   "cell_type": "markdown",
   "metadata": {},
   "source": [
    "## visualization"
   ]
  },
  {
   "cell_type": "code",
   "execution_count": 16,
   "metadata": {},
   "outputs": [],
   "source": [
    "trait_names <- data.frame(\n",
    "    trait  = c('LDL cholesterol', 'Asthma'),\n",
    "    GBE_ID = c('INI30780', 'HC382'),\n",
    "    stringsAsFactors=F\n",
    ")\n"
   ]
  },
  {
   "cell_type": "code",
   "execution_count": 17,
   "metadata": {},
   "outputs": [],
   "source": [
    "p_pred <- eval_df %>%\n",
    "filter(split == 'test') %>%\n",
    "left_join(trait_names, by='GBE_ID') %>%\n",
    "mutate(label = sprintf('%.4f\\n(%d)', geno_covar, n_variables))%>%\n",
    "ggplot(aes(x=as.factor(alpha), y=geno_covar, color=as.factor(alpha), fill=as.factor(alpha))) +\n",
    "geom_bar(stat=\"identity\") + \n",
    "theme_bw() +\n",
    "geom_text(aes(label=label), vjust=1.2, color=\"white\", size=3.5)+\n",
    "theme(legend.position='none')+\n",
    "labs(\n",
    "    x = 'alpha parameter in elastic net',\n",
    "    y = 'Predictive performance (w/ genetics + covariates) on the test set (R2 or AUC)',\n",
    "    title = 'Predictive performance and the number of genetic features in snpnet-elasticnet'\n",
    ")+\n",
    "# geom_text(aes(label=round(geno_covar, 4)), vjust=1.6, color=\"white\", size=3.5)+\n",
    "facet_wrap(~trait)\n"
   ]
  },
  {
   "cell_type": "code",
   "execution_count": 18,
   "metadata": {},
   "outputs": [],
   "source": [
    "p_size <- eval_df %>%\n",
    "filter(split == 'test') %>%\n",
    "left_join(trait_names, by='GBE_ID') %>%\n",
    "mutate(label = sprintf('%d\\n(%.4f)', n_variables, geno_covar))%>%\n",
    "ggplot(aes(x=as.factor(alpha), y=n_variables, color=as.factor(alpha), fill=as.factor(alpha))) +\n",
    "geom_bar(stat=\"identity\") + \n",
    "theme_bw() +\n",
    "geom_text(aes(label=label), vjust=0.65, color=\"black\", size=3.5)+\n",
    "theme(legend.position='none')+\n",
    "labs(\n",
    "    x = 'alpha parameter in elastic net',\n",
    "    y = 'The number of non-zero BETAs in genetic features',\n",
    "    title = 'Predictive performance and the number of genetic features in snpnet-elasticnet'\n",
    ")+\n",
    "# geom_text(aes(label=round(geno_covar, 4)), vjust=1.6, color=\"white\", size=3.5)+\n",
    "facet_wrap(~trait)\n"
   ]
  },
  {
   "cell_type": "code",
   "execution_count": 19,
   "metadata": {},
   "outputs": [
    {
     "data": {
      "image/png": "[encoded data removed]",
      "text/plain": [
       "plot without title"
      ]
     },
     "metadata": {},
     "output_type": "display_data"
    }
   ],
   "source": [
    "p_pred"
   ]
  },
  {
   "cell_type": "code",
   "execution_count": null,
   "metadata": {},
   "outputs": [],
   "source": []
  }
 ],
 "metadata": {
  "kernelspec": {
   "display_name": "R",
   "language": "R",
   "name": "ir"
  },
  "language_info": {
   "codemirror_mode": "r",
   "file_extension": ".r",
   "mimetype": "text/x-r-source",
   "name": "R",
   "pygments_lexer": "r",
   "version": "3.6.1"
  }
 },
 "nbformat": 4,
 "nbformat_minor": 4
}
