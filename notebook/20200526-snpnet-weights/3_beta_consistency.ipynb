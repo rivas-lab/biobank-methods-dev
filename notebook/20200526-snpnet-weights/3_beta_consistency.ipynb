{
 "cells": [
  {
   "cell_type": "code",
   "execution_count": 1,
   "metadata": {},
   "outputs": [],
   "source": [
    "suppressWarnings(suppressPackageStartupMessages({\n",
    "    library(tidyverse)\n",
    "    library(data.table)\n",
    "}))\n"
   ]
  },
  {
   "cell_type": "code",
   "execution_count": 2,
   "metadata": {},
   "outputs": [
    {
     "name": "stderr",
     "output_type": "stream",
     "text": [
      "Loading required package: grid\n",
      "Loading required package: futile.logger\n"
     ]
    }
   ],
   "source": [
    "library(\"VennDiagram\")\n"
   ]
  },
  {
   "cell_type": "code",
   "execution_count": 3,
   "metadata": {},
   "outputs": [],
   "source": [
    "data_d <- '/scratch/groups/mrivas/projects/biobank-methods-dev/20200526-snpnet-weights'\n",
    "penalty_f <- '/oak/stanford/groups/mrivas/ukbb24983/array_combined/snpnet/penalty.rds'\n"
   ]
  },
  {
   "cell_type": "code",
   "execution_count": 4,
   "metadata": {},
   "outputs": [],
   "source": [
    "count_csq <- function(beta_df, p_df=penalty_df){\n",
    "    beta_df %>% \n",
    "    mutate(ID_A1 = paste(ID, ALT, sep='_')) %>%\n",
    "    left_join(p_df, by='ID_A1') %>% count(Csq)\n",
    "}\n"
   ]
  },
  {
   "cell_type": "code",
   "execution_count": 5,
   "metadata": {},
   "outputs": [],
   "source": [
    "plot_csq_cnt <- function(df){\n",
    "    df %>%\n",
    "    ggplot(aes(x=as.factor(weighted),y=n, fill=as.factor(Csq), color=as.factor(Csq))) +\n",
    "    geom_bar(stat=\"identity\") +\n",
    "    theme_bw() +\n",
    "    theme(legend.position = \"bottom\") +\n",
    "    labs(\n",
    "        x = 'w/ penalty factor?',\n",
    "        y = 'Number of non-zero BETAs',\n",
    "        fill = 'variant annotation',\n",
    "        color = 'variant annotation'\n",
    "    )\n",
    "}\n"
   ]
  },
  {
   "cell_type": "code",
   "execution_count": 6,
   "metadata": {},
   "outputs": [],
   "source": [
    "penalty <- readRDS(penalty_f)\n"
   ]
  },
  {
   "cell_type": "code",
   "execution_count": 7,
   "metadata": {},
   "outputs": [],
   "source": [
    "penalty_df <- data.frame(\n",
    "    ID_A1 = names(penalty),\n",
    "    penalty = penalty,\n",
    "    stringsAsFactors=F\n",
    ") %>%\n",
    "mutate(\n",
    "    Csq = if_else(\n",
    "        penalty == .5, 'PTVs',\n",
    "        if_else(\n",
    "            penalty == .75, 'PAVs', 'Others'\n",
    "        )    \n",
    "    )\n",
    ")"
   ]
  },
  {
   "cell_type": "code",
   "execution_count": 8,
   "metadata": {},
   "outputs": [
    {
     "data": {
      "text/html": [
       "<table>\n",
       "<caption>A tibble: 3 × 2</caption>\n",
       "<thead>\n",
       "\t<tr><th scope=col>Csq</th><th scope=col>n</th></tr>\n",
       "\t<tr><th scope=col>&lt;chr&gt;</th><th scope=col>&lt;int&gt;</th></tr>\n",
       "</thead>\n",
       "<tbody>\n",
       "\t<tr><td>Others</td><td>965722</td></tr>\n",
       "\t<tr><td>PAVs  </td><td> 87430</td></tr>\n",
       "\t<tr><td>PTVs  </td><td> 27816</td></tr>\n",
       "</tbody>\n",
       "</table>\n"
      ],
      "text/latex": [
       "A tibble: 3 × 2\n",
       "\\begin{tabular}{ll}\n",
       " Csq & n\\\\\n",
       " <chr> & <int>\\\\\n",
       "\\hline\n",
       "\t Others & 965722\\\\\n",
       "\t PAVs   &  87430\\\\\n",
       "\t PTVs   &  27816\\\\\n",
       "\\end{tabular}\n"
      ],
      "text/markdown": [
       "\n",
       "A tibble: 3 × 2\n",
       "\n",
       "| Csq &lt;chr&gt; | n &lt;int&gt; |\n",
       "|---|---|\n",
       "| Others | 965722 |\n",
       "| PAVs   |  87430 |\n",
       "| PTVs   |  27816 |\n",
       "\n"
      ],
      "text/plain": [
       "  Csq    n     \n",
       "1 Others 965722\n",
       "2 PAVs    87430\n",
       "3 PTVs    27816"
      ]
     },
     "metadata": {},
     "output_type": "display_data"
    }
   ],
   "source": [
    "penalty_df %>% count(Csq)"
   ]
  },
  {
   "cell_type": "code",
   "execution_count": 8,
   "metadata": {},
   "outputs": [],
   "source": [
    "GBE_ID <- 'INI30780'\n",
    "\n",
    "beta_wT <- file.path(data_d, sprintf('%s_weightedT', GBE_ID), 'snpnet.tsv') %>% fread()\n",
    "beta_wF <- file.path(data_d, sprintf('%s_weightedF', GBE_ID), 'snpnet.tsv') %>% fread()\n"
   ]
  },
  {
   "cell_type": "code",
   "execution_count": 9,
   "metadata": {},
   "outputs": [
    {
     "data": {
      "text/plain": [
       "(polygon[GRID.polygon.11], polygon[GRID.polygon.12], polygon[GRID.polygon.13], polygon[GRID.polygon.14], text[GRID.text.15], text[GRID.text.16], text[GRID.text.17], text[GRID.text.18], text[GRID.text.19]) "
      ]
     },
     "metadata": {},
     "output_type": "display_data"
    },
    {
     "data": {
      "image/png": "[encoded data removed]",
      "text/plain": [
       "plot without title"
      ]
     },
     "metadata": {},
     "output_type": "display_data"
    }
   ],
   "source": [
    "options(repr.plot.width=4, repr.plot.height=4)\n",
    "draw.pairwise.venn(\n",
    "    area1 = beta_wT %>% pull(ID) %>% length(),\n",
    "    area2 = beta_wF %>% pull(ID) %>% length(),\n",
    "    cross.area = intersect(\n",
    "        beta_wT %>% pull(ID), \n",
    "        beta_wF %>% pull(ID)\n",
    "    ) %>% length()\n",
    "\n",
    ")\n"
   ]
  },
  {
   "cell_type": "code",
   "execution_count": 10,
   "metadata": {},
   "outputs": [
    {
     "data": {
      "text/html": [
       "<table>\n",
       "<caption>A tibble: 3 × 3</caption>\n",
       "<thead>\n",
       "\t<tr><th scope=col>Csq</th><th scope=col>FALSE</th><th scope=col>TRUE</th></tr>\n",
       "\t<tr><th scope=col>&lt;chr&gt;</th><th scope=col>&lt;int&gt;</th><th scope=col>&lt;int&gt;</th></tr>\n",
       "</thead>\n",
       "<tbody>\n",
       "\t<tr><td>Others</td><td>7864</td><td>6295</td></tr>\n",
       "\t<tr><td>PAVs  </td><td> 319</td><td>1055</td></tr>\n",
       "\t<tr><td>PTVs  </td><td>  10</td><td> 112</td></tr>\n",
       "</tbody>\n",
       "</table>\n"
      ],
      "text/latex": [
       "A tibble: 3 × 3\n",
       "\\begin{tabular}{lll}\n",
       " Csq & FALSE & TRUE\\\\\n",
       " <chr> & <int> & <int>\\\\\n",
       "\\hline\n",
       "\t Others & 7864 & 6295\\\\\n",
       "\t PAVs   &  319 & 1055\\\\\n",
       "\t PTVs   &   10 &  112\\\\\n",
       "\\end{tabular}\n"
      ],
      "text/markdown": [
       "\n",
       "A tibble: 3 × 3\n",
       "\n",
       "| Csq &lt;chr&gt; | FALSE &lt;int&gt; | TRUE &lt;int&gt; |\n",
       "|---|---|---|\n",
       "| Others | 7864 | 6295 |\n",
       "| PAVs   |  319 | 1055 |\n",
       "| PTVs   |   10 |  112 |\n",
       "\n"
      ],
      "text/plain": [
       "  Csq    FALSE TRUE\n",
       "1 Others 7864  6295\n",
       "2 PAVs    319  1055\n",
       "3 PTVs     10   112"
      ]
     },
     "metadata": {},
     "output_type": "display_data"
    }
   ],
   "source": [
    "bind_rows(\n",
    "    beta_wF %>% count_csq() %>% mutate(weighted=F),\n",
    "    beta_wT %>% count_csq() %>% mutate(weighted=T)\n",
    ") %>%\n",
    "spread(weighted, n)\n"
   ]
  },
  {
   "cell_type": "code",
   "execution_count": 11,
   "metadata": {},
   "outputs": [],
   "source": [
    "p_LDL <- bind_rows(\n",
    "    beta_wF %>% count_csq() %>% mutate(weighted=F),\n",
    "    beta_wT %>% count_csq() %>% mutate(weighted=T)\n",
    ") %>%\n",
    "plot_csq_cnt() +\n",
    "labs(title='LDL cholesterol (INI30780)')\n"
   ]
  },
  {
   "cell_type": "code",
   "execution_count": 12,
   "metadata": {},
   "outputs": [
    {
     "name": "stderr",
     "output_type": "stream",
     "text": [
      "Saving 6.67 x 6.67 in image\n"
     ]
    }
   ],
   "source": [
    "ggsave('beta.count.LDL.png', p_LDL)\n"
   ]
  },
  {
   "cell_type": "code",
   "execution_count": 13,
   "metadata": {},
   "outputs": [],
   "source": [
    "GBE_ID <- 'HC382'\n",
    "\n",
    "beta_wT <- file.path(data_d, sprintf('%s_weightedT', GBE_ID), 'snpnet.tsv') %>% fread()\n",
    "beta_wF <- file.path(data_d, sprintf('%s_weightedF', GBE_ID), 'snpnet.tsv') %>% fread()\n"
   ]
  },
  {
   "cell_type": "code",
   "execution_count": 14,
   "metadata": {},
   "outputs": [
    {
     "data": {
      "text/plain": [
       "(polygon[GRID.polygon.88], polygon[GRID.polygon.89], polygon[GRID.polygon.90], polygon[GRID.polygon.91], text[GRID.text.92], text[GRID.text.93], text[GRID.text.94], text[GRID.text.95], text[GRID.text.96]) "
      ]
     },
     "metadata": {},
     "output_type": "display_data"
    },
    {
     "data": {
      "image/png": "[encoded data removed]",
      "text/plain": [
       "plot without title"
      ]
     },
     "metadata": {},
     "output_type": "display_data"
    }
   ],
   "source": [
    "options(repr.plot.width=4, repr.plot.height=4)\n",
    "draw.pairwise.venn(\n",
    "    area1 = beta_wT %>% pull(ID) %>% length(),\n",
    "    area2 = beta_wF %>% pull(ID) %>% length(),\n",
    "    cross.area = intersect(\n",
    "        beta_wT %>% pull(ID), \n",
    "        beta_wF %>% pull(ID)\n",
    "    ) %>% length()\n",
    "\n",
    ")\n"
   ]
  },
  {
   "cell_type": "code",
   "execution_count": 15,
   "metadata": {},
   "outputs": [
    {
     "data": {
      "text/html": [
       "<table>\n",
       "<caption>A tibble: 3 × 3</caption>\n",
       "<thead>\n",
       "\t<tr><th scope=col>Csq</th><th scope=col>FALSE</th><th scope=col>TRUE</th></tr>\n",
       "\t<tr><th scope=col>&lt;chr&gt;</th><th scope=col>&lt;int&gt;</th><th scope=col>&lt;int&gt;</th></tr>\n",
       "</thead>\n",
       "<tbody>\n",
       "\t<tr><td>Others</td><td>7731</td><td>6289</td></tr>\n",
       "\t<tr><td>PAVs  </td><td> 252</td><td> 922</td></tr>\n",
       "\t<tr><td>PTVs  </td><td>   8</td><td> 142</td></tr>\n",
       "</tbody>\n",
       "</table>\n"
      ],
      "text/latex": [
       "A tibble: 3 × 3\n",
       "\\begin{tabular}{lll}\n",
       " Csq & FALSE & TRUE\\\\\n",
       " <chr> & <int> & <int>\\\\\n",
       "\\hline\n",
       "\t Others & 7731 & 6289\\\\\n",
       "\t PAVs   &  252 &  922\\\\\n",
       "\t PTVs   &    8 &  142\\\\\n",
       "\\end{tabular}\n"
      ],
      "text/markdown": [
       "\n",
       "A tibble: 3 × 3\n",
       "\n",
       "| Csq &lt;chr&gt; | FALSE &lt;int&gt; | TRUE &lt;int&gt; |\n",
       "|---|---|---|\n",
       "| Others | 7731 | 6289 |\n",
       "| PAVs   |  252 |  922 |\n",
       "| PTVs   |    8 |  142 |\n",
       "\n"
      ],
      "text/plain": [
       "  Csq    FALSE TRUE\n",
       "1 Others 7731  6289\n",
       "2 PAVs    252   922\n",
       "3 PTVs      8   142"
      ]
     },
     "metadata": {},
     "output_type": "display_data"
    }
   ],
   "source": [
    "bind_rows(\n",
    "    beta_wF %>% count_csq() %>% mutate(weighted=F),\n",
    "    beta_wT %>% count_csq() %>% mutate(weighted=T)\n",
    ") %>%\n",
    "spread(weighted, n)\n"
   ]
  },
  {
   "cell_type": "code",
   "execution_count": 16,
   "metadata": {},
   "outputs": [],
   "source": [
    "p_Asthma <- bind_rows(\n",
    "    beta_wF %>% count_csq() %>% mutate(weighted=F),\n",
    "    beta_wT %>% count_csq() %>% mutate(weighted=T)\n",
    ") %>%\n",
    "plot_csq_cnt() +\n",
    "labs(title='Asthma (HC382)')\n"
   ]
  },
  {
   "cell_type": "code",
   "execution_count": 17,
   "metadata": {},
   "outputs": [
    {
     "name": "stderr",
     "output_type": "stream",
     "text": [
      "Saving 6.67 x 6.67 in image\n"
     ]
    }
   ],
   "source": [
    "ggsave('beta.count.Asthma.png', p_Asthma)\n"
   ]
  },
  {
   "cell_type": "code",
   "execution_count": null,
   "metadata": {},
   "outputs": [],
   "source": []
  }
 ],
 "metadata": {
  "kernelspec": {
   "display_name": "R",
   "language": "R",
   "name": "ir"
  },
  "language_info": {
   "codemirror_mode": "r",
   "file_extension": ".r",
   "mimetype": "text/x-r-source",
   "name": "R",
   "pygments_lexer": "r",
   "version": "3.6.1"
  }
 },
 "nbformat": 4,
 "nbformat_minor": 4
}
