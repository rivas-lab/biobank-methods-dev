{
 "cells": [
  {
   "cell_type": "code",
   "execution_count": 1,
   "metadata": {},
   "outputs": [],
   "source": [
    "suppressWarnings(suppressPackageStartupMessages({\n",
    "    library(tidyverse)\n",
    "    library(data.table)\n",
    "}))\n"
   ]
  },
  {
   "cell_type": "code",
   "execution_count": 2,
   "metadata": {},
   "outputs": [],
   "source": [
    "# input\n",
    "phe_f <- '/oak/stanford/groups/mrivas/projects/biobank-methods-dev/snpnet-elastic-net/phenotype.phe'\n",
    "PRS_d <- '/oak/stanford/groups/mrivas/projects/biobank-methods-dev/snpnet-SBayesR/SBayesR-chr_merge-exclude-mhc'\n",
    "covar_score_d <- '/oak/stanford/groups/mrivas/projects/biobank-methods-dev/snpnet-PRScs/covar_betas_train_val'\n",
    "\n",
    "# constants\n",
    "covars <- c('age', 'sex', paste0('PC', 1:10))\n",
    "\n",
    "# output\n",
    "out_f <- 'SBayesR.eval.SBayesR-chr_merge-exclude-mhc.tsv'\n"
   ]
  },
  {
   "cell_type": "code",
   "execution_count": 3,
   "metadata": {},
   "outputs": [],
   "source": [
    "read_BETAs <- function(beta_f){\n",
    "    fread(beta_f)\n",
    "}\n"
   ]
  },
  {
   "cell_type": "code",
   "execution_count": 4,
   "metadata": {},
   "outputs": [],
   "source": [
    "read_PRS <- function(sscore_f){\n",
    "    fread(\n",
    "        cmd=paste('zstdcat', sscore_f),\n",
    "        select=c('#FID', 'IID', 'SCORE1_SUM'),\n",
    "        colClasses=c('#FID'='character', 'IID'='character')\n",
    "    ) %>%\n",
    "    rename('FID'='#FID', 'geno_score'='SCORE1_SUM')\n",
    "}\n"
   ]
  },
  {
   "cell_type": "code",
   "execution_count": 5,
   "metadata": {},
   "outputs": [],
   "source": [
    "read_covar_score <- function(covar_score_f){\n",
    "    fread(\n",
    "        cmd=paste('zstdcat', covar_score_f),\n",
    "        select=c('#FID', 'IID', 'Estimate'),\n",
    "        colClasses=c('#FID'='character', 'IID'='character')\n",
    "    ) %>%\n",
    "    rename('FID'='#FID', 'covar_score'='Estimate')\n",
    "    \n",
    "}\n"
   ]
  },
  {
   "cell_type": "code",
   "execution_count": 6,
   "metadata": {},
   "outputs": [],
   "source": [
    "perform_eval <- function(response, pred, metric.type){\n",
    "    if(metric.type == 'r2'){\n",
    "        summary(lm(response ~ 1 + pred))$r.squared\n",
    "    }else{\n",
    "#         pROC::auc(pROC::roc(response, pred))        \n",
    "        pred.obj <- ROCR::prediction(pred, factor(response - 1))\n",
    "        auc.obj <- ROCR::performance(pred.obj, measure = 'auc')\n",
    "        auc.obj@y.values[[1]]\n",
    "    }\n",
    "}\n"
   ]
  },
  {
   "cell_type": "code",
   "execution_count": 8,
   "metadata": {},
   "outputs": [],
   "source": [
    "eval_line_build <- function(score_test_df, phe, PRS_d, metric.type, split_string){\n",
    "    data.frame(\n",
    "        phe     = phe,\n",
    "        n_variables = read_BETAs(\n",
    "            file.path(PRS_d, sprintf('%s.snpRes.plink.tsv', phe))\n",
    "        ) %>% nrow(),\n",
    "        geno       = perform_eval(\n",
    "            score_test_df$phe,\n",
    "            score_test_df$geno_score,\n",
    "            metric.type\n",
    "        ),\n",
    "        covar      = perform_eval(\n",
    "            score_test_df$phe,\n",
    "            score_test_df$covar_score,\n",
    "            metric.type\n",
    "        ),\n",
    "        geno_covar = perform_eval(\n",
    "            score_test_df$phe,\n",
    "            score_test_df$geno_covar_score,\n",
    "            metric.type\n",
    "        ),\n",
    "        split=split_string,\n",
    "        stringsAsFactors = F\n",
    "    )    \n",
    "}\n"
   ]
  },
  {
   "cell_type": "code",
   "execution_count": 7,
   "metadata": {},
   "outputs": [],
   "source": [
    "phe_df <- fread(phe_f, colClasses=c('FID'='character', 'IID'='character')) %>%\n",
    "mutate(ID = paste(FID, IID, sep='_')) %>%\n",
    "column_to_rownames('ID')\n"
   ]
  },
  {
   "cell_type": "code",
   "execution_count": 12,
   "metadata": {},
   "outputs": [],
   "source": [
    "eval_df <- c('INI50', 'INI21001', 'HC269', 'HC382') %>%\n",
    "lapply(function(phe){\n",
    "    metric.type <- ifelse(str_replace_all(phe, '[0-9]', '') %in% c('INI', 'QT_FC'), 'r2', 'auc')\n",
    "\n",
    "    df <- phe_df %>% \n",
    "    select(all_of(c('FID', 'IID', phe, 'split'))) %>%\n",
    "    rename(!!'phe' := all_of(phe)) %>%\n",
    "    left_join(\n",
    "        read_PRS(file.path(PRS_d, sprintf('%s.sscore.zst', phe))),\n",
    "        by=c(\"FID\", \"IID\")\n",
    "    ) %>%\n",
    "    left_join(\n",
    "        read_covar_score(file.path(covar_score_d, sprintf('%s.covar.scores.tsv', phe))), \n",
    "        by=c(\"FID\", \"IID\")\n",
    "    ) %>%\n",
    "    mutate(geno_covar_score = geno_score + covar_score) %>%\n",
    "    drop_na(phe) %>%\n",
    "    filter(phe != -9)\n",
    "    \n",
    "    bind_rows(\n",
    "        df %>%\n",
    "        filter(split %in% c('train', 'val'))%>%\n",
    "        eval_line_build(phe, PRS_d, metric.type, 'train+val'),\n",
    "        \n",
    "        df %>%\n",
    "        filter(split == 'test')%>%\n",
    "        eval_line_build(phe, PRS_d, metric.type, 'test')\n",
    "    )\n",
    "}) %>% bind_rows()\n"
   ]
  },
  {
   "cell_type": "code",
   "execution_count": 13,
   "metadata": {},
   "outputs": [
    {
     "data": {
      "text/html": [
       "<table>\n",
       "<caption>A data.frame: 8 × 6</caption>\n",
       "<thead>\n",
       "\t<tr><th scope=col>phe</th><th scope=col>n_variables</th><th scope=col>geno</th><th scope=col>covar</th><th scope=col>geno_covar</th><th scope=col>split</th></tr>\n",
       "\t<tr><th scope=col>&lt;chr&gt;</th><th scope=col>&lt;int&gt;</th><th scope=col>&lt;dbl&gt;</th><th scope=col>&lt;dbl&gt;</th><th scope=col>&lt;dbl&gt;</th><th scope=col>&lt;chr&gt;</th></tr>\n",
       "</thead>\n",
       "<tbody>\n",
       "\t<tr><td>INI50   </td><td>658693</td><td>0.2830452</td><td>0.533439410</td><td>0.8138138</td><td>train+val</td></tr>\n",
       "\t<tr><td>INI50   </td><td>658693</td><td>0.1663268</td><td>0.533574168</td><td>0.7011915</td><td>test     </td></tr>\n",
       "\t<tr><td>INI21001</td><td>658693</td><td>0.4797278</td><td>0.010430321</td><td>0.4853468</td><td>train+val</td></tr>\n",
       "\t<tr><td>INI21001</td><td>658693</td><td>0.1151966</td><td>0.009921578</td><td>0.1241868</td><td>test     </td></tr>\n",
       "\t<tr><td>HC269   </td><td>658693</td><td>0.8653378</td><td>0.693475033</td><td>0.8721270</td><td>train+val</td></tr>\n",
       "\t<tr><td>HC269   </td><td>658693</td><td>0.6333911</td><td>0.688961985</td><td>0.7324951</td><td>test     </td></tr>\n",
       "\t<tr><td>HC382   </td><td>658693</td><td>0.8869417</td><td>0.534422190</td><td>0.8837693</td><td>train+val</td></tr>\n",
       "\t<tr><td>HC382   </td><td>658693</td><td>0.6233613</td><td>0.537067630</td><td>0.6277625</td><td>test     </td></tr>\n",
       "</tbody>\n",
       "</table>\n"
      ],
      "text/latex": [
       "A data.frame: 8 × 6\n",
       "\\begin{tabular}{llllll}\n",
       " phe & n\\_variables & geno & covar & geno\\_covar & split\\\\\n",
       " <chr> & <int> & <dbl> & <dbl> & <dbl> & <chr>\\\\\n",
       "\\hline\n",
       "\t INI50    & 658693 & 0.2830452 & 0.533439410 & 0.8138138 & train+val\\\\\n",
       "\t INI50    & 658693 & 0.1663268 & 0.533574168 & 0.7011915 & test     \\\\\n",
       "\t INI21001 & 658693 & 0.4797278 & 0.010430321 & 0.4853468 & train+val\\\\\n",
       "\t INI21001 & 658693 & 0.1151966 & 0.009921578 & 0.1241868 & test     \\\\\n",
       "\t HC269    & 658693 & 0.8653378 & 0.693475033 & 0.8721270 & train+val\\\\\n",
       "\t HC269    & 658693 & 0.6333911 & 0.688961985 & 0.7324951 & test     \\\\\n",
       "\t HC382    & 658693 & 0.8869417 & 0.534422190 & 0.8837693 & train+val\\\\\n",
       "\t HC382    & 658693 & 0.6233613 & 0.537067630 & 0.6277625 & test     \\\\\n",
       "\\end{tabular}\n"
      ],
      "text/markdown": [
       "\n",
       "A data.frame: 8 × 6\n",
       "\n",
       "| phe &lt;chr&gt; | n_variables &lt;int&gt; | geno &lt;dbl&gt; | covar &lt;dbl&gt; | geno_covar &lt;dbl&gt; | split &lt;chr&gt; |\n",
       "|---|---|---|---|---|---|\n",
       "| INI50    | 658693 | 0.2830452 | 0.533439410 | 0.8138138 | train+val |\n",
       "| INI50    | 658693 | 0.1663268 | 0.533574168 | 0.7011915 | test      |\n",
       "| INI21001 | 658693 | 0.4797278 | 0.010430321 | 0.4853468 | train+val |\n",
       "| INI21001 | 658693 | 0.1151966 | 0.009921578 | 0.1241868 | test      |\n",
       "| HC269    | 658693 | 0.8653378 | 0.693475033 | 0.8721270 | train+val |\n",
       "| HC269    | 658693 | 0.6333911 | 0.688961985 | 0.7324951 | test      |\n",
       "| HC382    | 658693 | 0.8869417 | 0.534422190 | 0.8837693 | train+val |\n",
       "| HC382    | 658693 | 0.6233613 | 0.537067630 | 0.6277625 | test      |\n",
       "\n"
      ],
      "text/plain": [
       "  phe      n_variables geno      covar       geno_covar split    \n",
       "1 INI50    658693      0.2830452 0.533439410 0.8138138  train+val\n",
       "2 INI50    658693      0.1663268 0.533574168 0.7011915  test     \n",
       "3 INI21001 658693      0.4797278 0.010430321 0.4853468  train+val\n",
       "4 INI21001 658693      0.1151966 0.009921578 0.1241868  test     \n",
       "5 HC269    658693      0.8653378 0.693475033 0.8721270  train+val\n",
       "6 HC269    658693      0.6333911 0.688961985 0.7324951  test     \n",
       "7 HC382    658693      0.8869417 0.534422190 0.8837693  train+val\n",
       "8 HC382    658693      0.6233613 0.537067630 0.6277625  test     "
      ]
     },
     "metadata": {},
     "output_type": "display_data"
    }
   ],
   "source": [
    "eval_df"
   ]
  },
  {
   "cell_type": "code",
   "execution_count": 14,
   "metadata": {},
   "outputs": [],
   "source": [
    "eval_df %>%\n",
    "fwrite(out_f, sep='\\t', na = \"NA\", quote=F)\n"
   ]
  },
  {
   "cell_type": "code",
   "execution_count": null,
   "metadata": {},
   "outputs": [],
   "source": []
  }
 ],
 "metadata": {
  "kernelspec": {
   "display_name": "R",
   "language": "R",
   "name": "ir"
  },
  "language_info": {
   "codemirror_mode": "r",
   "file_extension": ".r",
   "mimetype": "text/x-r-source",
   "name": "R",
   "pygments_lexer": "r",
   "version": "3.6.2"
  }
 },
 "nbformat": 4,
 "nbformat_minor": 4
}
