{
 "cells": [
  {
   "cell_type": "code",
   "execution_count": 1,
   "metadata": {},
   "outputs": [],
   "source": [
    "suppressWarnings(suppressPackageStartupMessages({\n",
    "    library(tidyverse)\n",
    "    library(data.table)\n",
    "}))\n"
   ]
  },
  {
   "cell_type": "code",
   "execution_count": 2,
   "metadata": {},
   "outputs": [],
   "source": [
    "data_d=\"/oak/stanford/groups/mrivas/projects/biobank-methods-dev/snpnet-SBayesR\"\n"
   ]
  },
  {
   "cell_type": "code",
   "execution_count": 3,
   "metadata": {},
   "outputs": [],
   "source": [
    "GBE_ID <- 'INI50'"
   ]
  },
  {
   "cell_type": "code",
   "execution_count": 7,
   "metadata": {},
   "outputs": [],
   "source": [
    "sumstats <- file.path(data_d, 'sumstats_train_val', sprintf('%s.ma', GBE_ID))\n",
    "sbayesr  <- file.path(data_d, 'SBayesR', sprintf('%s.snpRes', GBE_ID))\n"
   ]
  },
  {
   "cell_type": "code",
   "execution_count": 5,
   "metadata": {},
   "outputs": [],
   "source": [
    "sumstats_df <- fread(sumstats)"
   ]
  },
  {
   "cell_type": "code",
   "execution_count": 8,
   "metadata": {},
   "outputs": [],
   "source": [
    "sbayesr_df <- fread(sbayesr)\n"
   ]
  },
  {
   "cell_type": "code",
   "execution_count": 9,
   "metadata": {},
   "outputs": [
    {
     "data": {
      "text/html": [
       "<table>\n",
       "<caption>A data.table: 6 × 11</caption>\n",
       "<thead>\n",
       "\t<tr><th scope=col>Id</th><th scope=col>Name</th><th scope=col>Chrom</th><th scope=col>Position</th><th scope=col>A1</th><th scope=col>A2</th><th scope=col>A1Frq</th><th scope=col>A1Effect</th><th scope=col>SE</th><th scope=col>PIP</th><th scope=col>LastSampleEff</th></tr>\n",
       "\t<tr><th scope=col>&lt;int&gt;</th><th scope=col>&lt;chr&gt;</th><th scope=col>&lt;int&gt;</th><th scope=col>&lt;int&gt;</th><th scope=col>&lt;chr&gt;</th><th scope=col>&lt;chr&gt;</th><th scope=col>&lt;dbl&gt;</th><th scope=col>&lt;dbl&gt;</th><th scope=col>&lt;dbl&gt;</th><th scope=col>&lt;dbl&gt;</th><th scope=col>&lt;dbl&gt;</th></tr>\n",
       "</thead>\n",
       "<tbody>\n",
       "\t<tr><td>1</td><td>rs116720794</td><td>1</td><td>729632</td><td>T</td><td>C</td><td>0.036705</td><td>-0.007978</td><td>0.023310</td><td>0.290</td><td>0.000000</td></tr>\n",
       "\t<tr><td>2</td><td>rs3131972  </td><td>1</td><td>752721</td><td>G</td><td>A</td><td>0.843120</td><td> 0.004491</td><td>0.012342</td><td>0.252</td><td>0.000000</td></tr>\n",
       "\t<tr><td>3</td><td>rs12184325 </td><td>1</td><td>754105</td><td>T</td><td>C</td><td>0.036618</td><td>-0.009922</td><td>0.025595</td><td>0.277</td><td>0.000000</td></tr>\n",
       "\t<tr><td>4</td><td>rs3131962  </td><td>1</td><td>756604</td><td>G</td><td>A</td><td>0.870207</td><td> 0.002562</td><td>0.009625</td><td>0.208</td><td>0.004263</td></tr>\n",
       "\t<tr><td>5</td><td>rs114525117</td><td>1</td><td>759036</td><td>A</td><td>G</td><td>0.035360</td><td>-0.004306</td><td>0.015622</td><td>0.192</td><td>0.000000</td></tr>\n",
       "\t<tr><td>6</td><td>rs3115850  </td><td>1</td><td>761147</td><td>C</td><td>T</td><td>0.860797</td><td> 0.007514</td><td>0.016983</td><td>0.292</td><td>0.000000</td></tr>\n",
       "</tbody>\n",
       "</table>\n"
      ],
      "text/latex": [
       "A data.table: 6 × 11\n",
       "\\begin{tabular}{lllllllllll}\n",
       " Id & Name & Chrom & Position & A1 & A2 & A1Frq & A1Effect & SE & PIP & LastSampleEff\\\\\n",
       " <int> & <chr> & <int> & <int> & <chr> & <chr> & <dbl> & <dbl> & <dbl> & <dbl> & <dbl>\\\\\n",
       "\\hline\n",
       "\t 1 & rs116720794 & 1 & 729632 & T & C & 0.036705 & -0.007978 & 0.023310 & 0.290 & 0.000000\\\\\n",
       "\t 2 & rs3131972   & 1 & 752721 & G & A & 0.843120 &  0.004491 & 0.012342 & 0.252 & 0.000000\\\\\n",
       "\t 3 & rs12184325  & 1 & 754105 & T & C & 0.036618 & -0.009922 & 0.025595 & 0.277 & 0.000000\\\\\n",
       "\t 4 & rs3131962   & 1 & 756604 & G & A & 0.870207 &  0.002562 & 0.009625 & 0.208 & 0.004263\\\\\n",
       "\t 5 & rs114525117 & 1 & 759036 & A & G & 0.035360 & -0.004306 & 0.015622 & 0.192 & 0.000000\\\\\n",
       "\t 6 & rs3115850   & 1 & 761147 & C & T & 0.860797 &  0.007514 & 0.016983 & 0.292 & 0.000000\\\\\n",
       "\\end{tabular}\n"
      ],
      "text/markdown": [
       "\n",
       "A data.table: 6 × 11\n",
       "\n",
       "| Id &lt;int&gt; | Name &lt;chr&gt; | Chrom &lt;int&gt; | Position &lt;int&gt; | A1 &lt;chr&gt; | A2 &lt;chr&gt; | A1Frq &lt;dbl&gt; | A1Effect &lt;dbl&gt; | SE &lt;dbl&gt; | PIP &lt;dbl&gt; | LastSampleEff &lt;dbl&gt; |\n",
       "|---|---|---|---|---|---|---|---|---|---|---|\n",
       "| 1 | rs116720794 | 1 | 729632 | T | C | 0.036705 | -0.007978 | 0.023310 | 0.290 | 0.000000 |\n",
       "| 2 | rs3131972   | 1 | 752721 | G | A | 0.843120 |  0.004491 | 0.012342 | 0.252 | 0.000000 |\n",
       "| 3 | rs12184325  | 1 | 754105 | T | C | 0.036618 | -0.009922 | 0.025595 | 0.277 | 0.000000 |\n",
       "| 4 | rs3131962   | 1 | 756604 | G | A | 0.870207 |  0.002562 | 0.009625 | 0.208 | 0.004263 |\n",
       "| 5 | rs114525117 | 1 | 759036 | A | G | 0.035360 | -0.004306 | 0.015622 | 0.192 | 0.000000 |\n",
       "| 6 | rs3115850   | 1 | 761147 | C | T | 0.860797 |  0.007514 | 0.016983 | 0.292 | 0.000000 |\n",
       "\n"
      ],
      "text/plain": [
       "  Id Name        Chrom Position A1 A2 A1Frq    A1Effect  SE       PIP  \n",
       "1 1  rs116720794 1     729632   T  C  0.036705 -0.007978 0.023310 0.290\n",
       "2 2  rs3131972   1     752721   G  A  0.843120  0.004491 0.012342 0.252\n",
       "3 3  rs12184325  1     754105   T  C  0.036618 -0.009922 0.025595 0.277\n",
       "4 4  rs3131962   1     756604   G  A  0.870207  0.002562 0.009625 0.208\n",
       "5 5  rs114525117 1     759036   A  G  0.035360 -0.004306 0.015622 0.192\n",
       "6 6  rs3115850   1     761147   C  T  0.860797  0.007514 0.016983 0.292\n",
       "  LastSampleEff\n",
       "1 0.000000     \n",
       "2 0.000000     \n",
       "3 0.000000     \n",
       "4 0.004263     \n",
       "5 0.000000     \n",
       "6 0.000000     "
      ]
     },
     "metadata": {},
     "output_type": "display_data"
    }
   ],
   "source": [
    "sbayesr_df %>% head()"
   ]
  },
  {
   "cell_type": "code",
   "execution_count": 10,
   "metadata": {},
   "outputs": [
    {
     "data": {
      "text/html": [
       "<table>\n",
       "<caption>A data.table: 6 × 8</caption>\n",
       "<thead>\n",
       "\t<tr><th scope=col>SNP</th><th scope=col>A1</th><th scope=col>A2</th><th scope=col>freq</th><th scope=col>b</th><th scope=col>se</th><th scope=col>p</th><th scope=col>N</th></tr>\n",
       "\t<tr><th scope=col>&lt;chr&gt;</th><th scope=col>&lt;chr&gt;</th><th scope=col>&lt;chr&gt;</th><th scope=col>&lt;dbl&gt;</th><th scope=col>&lt;dbl&gt;</th><th scope=col>&lt;dbl&gt;</th><th scope=col>&lt;dbl&gt;</th><th scope=col>&lt;int&gt;</th></tr>\n",
       "</thead>\n",
       "<tbody>\n",
       "\t<tr><td>rs116720794</td><td>T</td><td>C</td><td>0.0367049</td><td>-0.0899750</td><td>0.0477413</td><td>0.0594802</td><td>257356</td></tr>\n",
       "\t<tr><td>rs3131972  </td><td>G</td><td>A</td><td>0.8431200</td><td> 0.0494331</td><td>0.0244275</td><td>0.0430056</td><td>267959</td></tr>\n",
       "\t<tr><td>rs12184325 </td><td>T</td><td>C</td><td>0.0366177</td><td>-0.0996870</td><td>0.0467261</td><td>0.0328904</td><td>269071</td></tr>\n",
       "\t<tr><td>rs3131962  </td><td>G</td><td>A</td><td>0.8702070</td><td> 0.0357259</td><td>0.0256590</td><td>0.1638230</td><td>268847</td></tr>\n",
       "\t<tr><td>rs114525117</td><td>A</td><td>G</td><td>0.0353601</td><td>-0.0732809</td><td>0.0480658</td><td>0.1273610</td><td>262713</td></tr>\n",
       "\t<tr><td>rs3115850  </td><td>C</td><td>T</td><td>0.8607970</td><td> 0.0574040</td><td>0.0257059</td><td>0.0255427</td><td>257397</td></tr>\n",
       "</tbody>\n",
       "</table>\n"
      ],
      "text/latex": [
       "A data.table: 6 × 8\n",
       "\\begin{tabular}{llllllll}\n",
       " SNP & A1 & A2 & freq & b & se & p & N\\\\\n",
       " <chr> & <chr> & <chr> & <dbl> & <dbl> & <dbl> & <dbl> & <int>\\\\\n",
       "\\hline\n",
       "\t rs116720794 & T & C & 0.0367049 & -0.0899750 & 0.0477413 & 0.0594802 & 257356\\\\\n",
       "\t rs3131972   & G & A & 0.8431200 &  0.0494331 & 0.0244275 & 0.0430056 & 267959\\\\\n",
       "\t rs12184325  & T & C & 0.0366177 & -0.0996870 & 0.0467261 & 0.0328904 & 269071\\\\\n",
       "\t rs3131962   & G & A & 0.8702070 &  0.0357259 & 0.0256590 & 0.1638230 & 268847\\\\\n",
       "\t rs114525117 & A & G & 0.0353601 & -0.0732809 & 0.0480658 & 0.1273610 & 262713\\\\\n",
       "\t rs3115850   & C & T & 0.8607970 &  0.0574040 & 0.0257059 & 0.0255427 & 257397\\\\\n",
       "\\end{tabular}\n"
      ],
      "text/markdown": [
       "\n",
       "A data.table: 6 × 8\n",
       "\n",
       "| SNP &lt;chr&gt; | A1 &lt;chr&gt; | A2 &lt;chr&gt; | freq &lt;dbl&gt; | b &lt;dbl&gt; | se &lt;dbl&gt; | p &lt;dbl&gt; | N &lt;int&gt; |\n",
       "|---|---|---|---|---|---|---|---|\n",
       "| rs116720794 | T | C | 0.0367049 | -0.0899750 | 0.0477413 | 0.0594802 | 257356 |\n",
       "| rs3131972   | G | A | 0.8431200 |  0.0494331 | 0.0244275 | 0.0430056 | 267959 |\n",
       "| rs12184325  | T | C | 0.0366177 | -0.0996870 | 0.0467261 | 0.0328904 | 269071 |\n",
       "| rs3131962   | G | A | 0.8702070 |  0.0357259 | 0.0256590 | 0.1638230 | 268847 |\n",
       "| rs114525117 | A | G | 0.0353601 | -0.0732809 | 0.0480658 | 0.1273610 | 262713 |\n",
       "| rs3115850   | C | T | 0.8607970 |  0.0574040 | 0.0257059 | 0.0255427 | 257397 |\n",
       "\n"
      ],
      "text/plain": [
       "  SNP         A1 A2 freq      b          se        p         N     \n",
       "1 rs116720794 T  C  0.0367049 -0.0899750 0.0477413 0.0594802 257356\n",
       "2 rs3131972   G  A  0.8431200  0.0494331 0.0244275 0.0430056 267959\n",
       "3 rs12184325  T  C  0.0366177 -0.0996870 0.0467261 0.0328904 269071\n",
       "4 rs3131962   G  A  0.8702070  0.0357259 0.0256590 0.1638230 268847\n",
       "5 rs114525117 A  G  0.0353601 -0.0732809 0.0480658 0.1273610 262713\n",
       "6 rs3115850   C  T  0.8607970  0.0574040 0.0257059 0.0255427 257397"
      ]
     },
     "metadata": {},
     "output_type": "display_data"
    }
   ],
   "source": [
    "sumstats_df %>% head()"
   ]
  },
  {
   "cell_type": "code",
   "execution_count": 11,
   "metadata": {},
   "outputs": [],
   "source": [
    "sbayesr_df %>%\n",
    "left_join(sumstats_df, by=c('Name'='SNP', 'A1'='A1', 'A2'='A2')) -> df"
   ]
  },
  {
   "cell_type": "code",
   "execution_count": 12,
   "metadata": {},
   "outputs": [],
   "source": [
    "df %>%\n",
    "ggplot(aes(x=b, y=A1Effect)) +\n",
    "geom_abline(slope=1, intercept=0, color='gray') +\n",
    "theme_bw() +\n",
    "labs(x = 'PLINK 2.0 GWAS effect', y = 'SBayesR effect') +\n",
    "geom_bin2d(binwidth=c(0.02, 0.005)) -> p\n"
   ]
  },
  {
   "cell_type": "code",
   "execution_count": 13,
   "metadata": {},
   "outputs": [
    {
     "data": {
      "image/png": "[encoded data removed]",
      "text/plain": [
       "plot without title"
      ]
     },
     "metadata": {
      "image/png": {
       "height": 420,
       "width": 420
      },
      "text/plain": {
       "height": 420,
       "width": 420
      }
     },
     "output_type": "display_data"
    }
   ],
   "source": [
    "p + theme(legend.position = c(0.2, 0.8))"
   ]
  },
  {
   "cell_type": "code",
   "execution_count": 14,
   "metadata": {},
   "outputs": [
    {
     "name": "stderr",
     "output_type": "stream",
     "text": [
      "Saving 6.67 x 6.67 in image\n",
      "\n"
     ]
    }
   ],
   "source": [
    "ggsave('11a_convergence_check.INI50.png', p + theme(legend.position = c(0.2, 0.8)))"
   ]
  },
  {
   "cell_type": "code",
   "execution_count": null,
   "metadata": {},
   "outputs": [],
   "source": []
  }
 ],
 "metadata": {
  "kernelspec": {
   "display_name": "R",
   "language": "R",
   "name": "ir"
  },
  "language_info": {
   "codemirror_mode": "r",
   "file_extension": ".r",
   "mimetype": "text/x-r-source",
   "name": "R",
   "pygments_lexer": "r",
   "version": "3.6.2"
  }
 },
 "nbformat": 4,
 "nbformat_minor": 4
}
