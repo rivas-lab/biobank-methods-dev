{
 "cells": [
  {
   "cell_type": "code",
   "execution_count": 1,
   "metadata": {
    "collapsed": true
   },
   "outputs": [],
   "source": [
    "%matplotlib inline\n",
    "\n",
    "import numpy as np\n",
    "import pandas as pd\n",
    "import matplotlib, collections, itertools, os, re, textwrap, logging\n",
    "import matplotlib.pyplot as plt\n",
    "import matplotlib.gridspec as gridspec\n",
    "import matplotlib.patches as mpatches\n",
    "from functools import reduce\n",
    "\n",
    "from logging.config import dictConfig\n",
    "from logging import getLogger\n",
    "\n",
    "dictConfig(dict(\n",
    "    version = 1,\n",
    "    formatters = {'f': {'format': '%(asctime)s %(name)-12s %(levelname)-8s %(message)s'}},\n",
    "    handlers = {\n",
    "        'h': {'class': 'logging.StreamHandler','formatter': 'f',\n",
    "              'level': logging.DEBUG}},\n",
    "    root = {'handlers': ['h'], 'level': logging.DEBUG,},\n",
    "))\n",
    "\n",
    "matplotlib.rc('font',**{'size':16, 'family':'sans-serif','sans-serif':['HelveticaNeue', 'Helvetica']})\n",
    "\n",
    "logger = getLogger('notebook')\n",
    "\n",
    "repo_dir=os.path.realpath(\n",
    "    os.path.join('..', '..')\n",
    ")\n",
    "private_data_dir=os.path.realpath(\n",
    "    os.path.join(repo_dir, 'private_data', os.path.basename(os.path.realpath(os.getcwd()))))\n",
    "public_data_dir=os.path.realpath(\n",
    "    os.path.join(repo_dir, 'public_data', os.path.basename(os.path.realpath(os.getcwd()))))\n"
   ]
  },
  {
   "cell_type": "markdown",
   "metadata": {},
   "source": [
    "## read InBio dataset"
   ]
  },
  {
   "cell_type": "code",
   "execution_count": 2,
   "metadata": {
    "collapsed": true
   },
   "outputs": [],
   "source": [
    "inbio_df = pd.read_csv(\n",
    "    os.path.join(\n",
    "        '/oak/stanford/groups/mrivas/public_data',\n",
    "        'InWeb_InBioMap_2016_09_12/downloads',\n",
    "        'InBio_Map_core_2016_09_12/core.psimitab.gz'\n",
    "    ),\n",
    "    sep='\\t',\n",
    "    compression='gzip',\n",
    "    names=np.arange(16)\n",
    ")\n"
   ]
  },
  {
   "cell_type": "code",
   "execution_count": 3,
   "metadata": {
    "collapsed": true
   },
   "outputs": [],
   "source": [
    "def extract_ensembl_id(x):\n",
    "    try:\n",
    "        return dict([key_val_pair.split(':') for key_val_pair in x.split('|')])['ensembl']\n",
    "    except:\n",
    "        return np.nan"
   ]
  },
  {
   "cell_type": "code",
   "execution_count": 4,
   "metadata": {},
   "outputs": [],
   "source": [
    "inbio_df['0_Ensembl_Protein'] = inbio_df[2].map(lambda x: extract_ensembl_id(x))\n",
    "inbio_df['1_Ensembl_Protein'] = inbio_df[3].map(lambda x: extract_ensembl_id(x))\n"
   ]
  },
  {
   "cell_type": "code",
   "execution_count": 5,
   "metadata": {
    "collapsed": true
   },
   "outputs": [],
   "source": [
    "inbio_df['score0'] = inbio_df[14].map(\n",
    "    lambda x: np.nan if x.split('|')[0] == '-' else float(x.split('|')[0])\n",
    ")\n",
    "\n",
    "inbio_df['score1'] = inbio_df[14].map(\n",
    "    lambda x: np.nan if x.split('|')[1] == '-' else float(x.split('|')[1])\n",
    ")\n"
   ]
  },
  {
   "cell_type": "code",
   "execution_count": 6,
   "metadata": {
    "collapsed": true
   },
   "outputs": [],
   "source": [
    "inbio_df_scores = inbio_df[['0_Ensembl_Protein', '1_Ensembl_Protein', 'score0', 'score1']].dropna()"
   ]
  },
  {
   "cell_type": "code",
   "execution_count": 7,
   "metadata": {},
   "outputs": [
    {
     "name": "stdout",
     "output_type": "stream",
     "text": [
      "(495330, 4)\n"
     ]
    },
    {
     "data": {
      "text/html": [
       "<div>\n",
       "<style>\n",
       "    .dataframe thead tr:only-child th {\n",
       "        text-align: right;\n",
       "    }\n",
       "\n",
       "    .dataframe thead th {\n",
       "        text-align: left;\n",
       "    }\n",
       "\n",
       "    .dataframe tbody tr th {\n",
       "        vertical-align: top;\n",
       "    }\n",
       "</style>\n",
       "<table border=\"1\" class=\"dataframe\">\n",
       "  <thead>\n",
       "    <tr style=\"text-align: right;\">\n",
       "      <th></th>\n",
       "      <th>0_Ensembl_Protein</th>\n",
       "      <th>1_Ensembl_Protein</th>\n",
       "      <th>score0</th>\n",
       "      <th>score1</th>\n",
       "    </tr>\n",
       "  </thead>\n",
       "  <tbody>\n",
       "    <tr>\n",
       "      <th>1</th>\n",
       "      <td>ENSP00000405724</td>\n",
       "      <td>ENSP00000368040</td>\n",
       "      <td>0.155</td>\n",
       "      <td>0.0761</td>\n",
       "    </tr>\n",
       "    <tr>\n",
       "      <th>2</th>\n",
       "      <td>ENSP00000418783</td>\n",
       "      <td>ENSP00000266970</td>\n",
       "      <td>0.156</td>\n",
       "      <td>0.0783</td>\n",
       "    </tr>\n",
       "    <tr>\n",
       "      <th>3</th>\n",
       "      <td>ENSP00000418783</td>\n",
       "      <td>ENSP00000410561</td>\n",
       "      <td>0.157</td>\n",
       "      <td>0.0821</td>\n",
       "    </tr>\n",
       "    <tr>\n",
       "      <th>4</th>\n",
       "      <td>ENSP00000371214</td>\n",
       "      <td>ENSP00000441543</td>\n",
       "      <td>0.144</td>\n",
       "      <td>0.0494</td>\n",
       "    </tr>\n",
       "    <tr>\n",
       "      <th>5</th>\n",
       "      <td>ENSP00000371214</td>\n",
       "      <td>ENSP00000388058</td>\n",
       "      <td>0.141</td>\n",
       "      <td>0.0410</td>\n",
       "    </tr>\n",
       "  </tbody>\n",
       "</table>\n",
       "</div>"
      ],
      "text/plain": [
       "  0_Ensembl_Protein 1_Ensembl_Protein  score0  score1\n",
       "1   ENSP00000405724   ENSP00000368040   0.155  0.0761\n",
       "2   ENSP00000418783   ENSP00000266970   0.156  0.0783\n",
       "3   ENSP00000418783   ENSP00000410561   0.157  0.0821\n",
       "4   ENSP00000371214   ENSP00000441543   0.144  0.0494\n",
       "5   ENSP00000371214   ENSP00000388058   0.141  0.0410"
      ]
     },
     "execution_count": 7,
     "metadata": {},
     "output_type": "execute_result"
    }
   ],
   "source": [
    "print(inbio_df_scores.shape)\n",
    "inbio_df_scores.head()\n"
   ]
  },
  {
   "cell_type": "markdown",
   "metadata": {},
   "source": [
    "## read biomart mapping table"
   ]
  },
  {
   "cell_type": "code",
   "execution_count": 8,
   "metadata": {
    "collapsed": true
   },
   "outputs": [],
   "source": [
    "biomart_df=pd.read_csv(\n",
    "    os.path.join(\n",
    "        public_data_dir,\n",
    "        'HumanEnsembl.HumanEnsemblProtein.biomart93.map.gz',\n",
    "    ),\n",
    "    sep='\\t',\n",
    "    compression='gzip',\n",
    ").dropna()\n"
   ]
  },
  {
   "cell_type": "code",
   "execution_count": 9,
   "metadata": {},
   "outputs": [
    {
     "name": "stdout",
     "output_type": "stream",
     "text": [
      "(107844, 2)\n"
     ]
    },
    {
     "data": {
      "text/html": [
       "<div>\n",
       "<style>\n",
       "    .dataframe thead tr:only-child th {\n",
       "        text-align: right;\n",
       "    }\n",
       "\n",
       "    .dataframe thead th {\n",
       "        text-align: left;\n",
       "    }\n",
       "\n",
       "    .dataframe tbody tr th {\n",
       "        vertical-align: top;\n",
       "    }\n",
       "</style>\n",
       "<table border=\"1\" class=\"dataframe\">\n",
       "  <thead>\n",
       "    <tr style=\"text-align: right;\">\n",
       "      <th></th>\n",
       "      <th>Gene stable ID</th>\n",
       "      <th>Protein stable ID</th>\n",
       "    </tr>\n",
       "  </thead>\n",
       "  <tbody>\n",
       "    <tr>\n",
       "      <th>50</th>\n",
       "      <td>ENSG00000257215</td>\n",
       "      <td>ENSP00000447114</td>\n",
       "    </tr>\n",
       "    <tr>\n",
       "      <th>149</th>\n",
       "      <td>ENSG00000273875</td>\n",
       "      <td>ENSP00000479374</td>\n",
       "    </tr>\n",
       "    <tr>\n",
       "      <th>202</th>\n",
       "      <td>ENSG00000282035</td>\n",
       "      <td>ENSP00000487458</td>\n",
       "    </tr>\n",
       "    <tr>\n",
       "      <th>292</th>\n",
       "      <td>ENSG00000276256</td>\n",
       "      <td>ENSP00000484596</td>\n",
       "    </tr>\n",
       "    <tr>\n",
       "      <th>300</th>\n",
       "      <td>ENSG00000275746</td>\n",
       "      <td>ENSP00000484904</td>\n",
       "    </tr>\n",
       "  </tbody>\n",
       "</table>\n",
       "</div>"
      ],
      "text/plain": [
       "      Gene stable ID Protein stable ID\n",
       "50   ENSG00000257215   ENSP00000447114\n",
       "149  ENSG00000273875   ENSP00000479374\n",
       "202  ENSG00000282035   ENSP00000487458\n",
       "292  ENSG00000276256   ENSP00000484596\n",
       "300  ENSG00000275746   ENSP00000484904"
      ]
     },
     "execution_count": 9,
     "metadata": {},
     "output_type": "execute_result"
    }
   ],
   "source": [
    "print(biomart_df.shape)\n",
    "biomart_df.head()"
   ]
  },
  {
   "cell_type": "markdown",
   "metadata": {},
   "source": [
    "## read UK Biobank annotation files"
   ]
  },
  {
   "cell_type": "code",
   "execution_count": 10,
   "metadata": {
    "collapsed": true
   },
   "outputs": [],
   "source": [
    "ukbb_df=pd.read_csv(\n",
    "    os.path.join(\n",
    "        '/oak/stanford/groups/mrivas/private_data',\n",
    "        'ukbb/array_annotation_500k',\n",
    "        'bims_combined.vep.cf.tsv.gz'\n",
    "    ),\n",
    "    sep='\\t',\n",
    "    compression='gzip',\n",
    ")[['CHROM', 'POS', 'REF', 'ALT', 'Gene']].dropna()\n"
   ]
  },
  {
   "cell_type": "code",
   "execution_count": 11,
   "metadata": {},
   "outputs": [
    {
     "name": "stdout",
     "output_type": "stream",
     "text": [
      "(551600, 5)\n"
     ]
    },
    {
     "data": {
      "text/html": [
       "<div>\n",
       "<style>\n",
       "    .dataframe thead tr:only-child th {\n",
       "        text-align: right;\n",
       "    }\n",
       "\n",
       "    .dataframe thead th {\n",
       "        text-align: left;\n",
       "    }\n",
       "\n",
       "    .dataframe tbody tr th {\n",
       "        vertical-align: top;\n",
       "    }\n",
       "</style>\n",
       "<table border=\"1\" class=\"dataframe\">\n",
       "  <thead>\n",
       "    <tr style=\"text-align: right;\">\n",
       "      <th></th>\n",
       "      <th>CHROM</th>\n",
       "      <th>POS</th>\n",
       "      <th>REF</th>\n",
       "      <th>ALT</th>\n",
       "      <th>Gene</th>\n",
       "    </tr>\n",
       "  </thead>\n",
       "  <tbody>\n",
       "    <tr>\n",
       "      <th>0</th>\n",
       "      <td>1</td>\n",
       "      <td>723307</td>\n",
       "      <td>C</td>\n",
       "      <td>G</td>\n",
       "      <td>ENSG00000237491</td>\n",
       "    </tr>\n",
       "    <tr>\n",
       "      <th>1</th>\n",
       "      <td>1</td>\n",
       "      <td>727841</td>\n",
       "      <td>G</td>\n",
       "      <td>A</td>\n",
       "      <td>ENSG00000237491</td>\n",
       "    </tr>\n",
       "    <tr>\n",
       "      <th>2</th>\n",
       "      <td>1</td>\n",
       "      <td>729632</td>\n",
       "      <td>C</td>\n",
       "      <td>T</td>\n",
       "      <td>ENSG00000237491</td>\n",
       "    </tr>\n",
       "    <tr>\n",
       "      <th>3</th>\n",
       "      <td>1</td>\n",
       "      <td>752721</td>\n",
       "      <td>A</td>\n",
       "      <td>G</td>\n",
       "      <td>ENSG00000240453</td>\n",
       "    </tr>\n",
       "    <tr>\n",
       "      <th>4</th>\n",
       "      <td>1</td>\n",
       "      <td>754105</td>\n",
       "      <td>C</td>\n",
       "      <td>T</td>\n",
       "      <td>ENSG00000177757</td>\n",
       "    </tr>\n",
       "  </tbody>\n",
       "</table>\n",
       "</div>"
      ],
      "text/plain": [
       "   CHROM     POS REF ALT             Gene\n",
       "0      1  723307   C   G  ENSG00000237491\n",
       "1      1  727841   G   A  ENSG00000237491\n",
       "2      1  729632   C   T  ENSG00000237491\n",
       "3      1  752721   A   G  ENSG00000240453\n",
       "4      1  754105   C   T  ENSG00000177757"
      ]
     },
     "execution_count": 11,
     "metadata": {},
     "output_type": "execute_result"
    }
   ],
   "source": [
    "print(ukbb_df.shape)\n",
    "ukbb_df.head()"
   ]
  },
  {
   "cell_type": "markdown",
   "metadata": {},
   "source": [
    "## Map InWeb_InBio to Ensemble Genes"
   ]
  },
  {
   "cell_type": "code",
   "execution_count": 12,
   "metadata": {},
   "outputs": [],
   "source": [
    "inbio_EnsemblGenes_df = inbio_df_scores.merge(\n",
    "    biomart_df,\n",
    "    left_on='0_Ensembl_Protein',\n",
    "    right_on='Protein stable ID'\n",
    ").merge(\n",
    "    biomart_df,\n",
    "    left_on='1_Ensembl_Protein',\n",
    "    right_on='Protein stable ID'\n",
    ")[['Gene stable ID_x', 'Gene stable ID_y', 'score0', 'score1']].dropna()"
   ]
  },
  {
   "cell_type": "code",
   "execution_count": 13,
   "metadata": {},
   "outputs": [
    {
     "name": "stdout",
     "output_type": "stream",
     "text": [
      "(486902, 4)\n"
     ]
    },
    {
     "data": {
      "text/html": [
       "<div>\n",
       "<style>\n",
       "    .dataframe thead tr:only-child th {\n",
       "        text-align: right;\n",
       "    }\n",
       "\n",
       "    .dataframe thead th {\n",
       "        text-align: left;\n",
       "    }\n",
       "\n",
       "    .dataframe tbody tr th {\n",
       "        vertical-align: top;\n",
       "    }\n",
       "</style>\n",
       "<table border=\"1\" class=\"dataframe\">\n",
       "  <thead>\n",
       "    <tr style=\"text-align: right;\">\n",
       "      <th></th>\n",
       "      <th>Gene stable ID_x</th>\n",
       "      <th>Gene stable ID_y</th>\n",
       "      <th>score0</th>\n",
       "      <th>score1</th>\n",
       "    </tr>\n",
       "  </thead>\n",
       "  <tbody>\n",
       "    <tr>\n",
       "      <th>0</th>\n",
       "      <td>ENSG00000144445</td>\n",
       "      <td>ENSG00000123240</td>\n",
       "      <td>0.155</td>\n",
       "      <td>0.0761</td>\n",
       "    </tr>\n",
       "    <tr>\n",
       "      <th>1</th>\n",
       "      <td>ENSG00000104365</td>\n",
       "      <td>ENSG00000123240</td>\n",
       "      <td>0.216</td>\n",
       "      <td>0.2050</td>\n",
       "    </tr>\n",
       "    <tr>\n",
       "      <th>2</th>\n",
       "      <td>ENSG00000164405</td>\n",
       "      <td>ENSG00000123240</td>\n",
       "      <td>0.149</td>\n",
       "      <td>0.0622</td>\n",
       "    </tr>\n",
       "    <tr>\n",
       "      <th>3</th>\n",
       "      <td>ENSG00000036672</td>\n",
       "      <td>ENSG00000123240</td>\n",
       "      <td>0.184</td>\n",
       "      <td>0.1430</td>\n",
       "    </tr>\n",
       "    <tr>\n",
       "      <th>4</th>\n",
       "      <td>ENSG00000135636</td>\n",
       "      <td>ENSG00000123240</td>\n",
       "      <td>0.153</td>\n",
       "      <td>0.0704</td>\n",
       "    </tr>\n",
       "  </tbody>\n",
       "</table>\n",
       "</div>"
      ],
      "text/plain": [
       "  Gene stable ID_x Gene stable ID_y  score0  score1\n",
       "0  ENSG00000144445  ENSG00000123240   0.155  0.0761\n",
       "1  ENSG00000104365  ENSG00000123240   0.216  0.2050\n",
       "2  ENSG00000164405  ENSG00000123240   0.149  0.0622\n",
       "3  ENSG00000036672  ENSG00000123240   0.184  0.1430\n",
       "4  ENSG00000135636  ENSG00000123240   0.153  0.0704"
      ]
     },
     "execution_count": 13,
     "metadata": {},
     "output_type": "execute_result"
    }
   ],
   "source": [
    "print(inbio_EnsemblGenes_df.shape)\n",
    "inbio_EnsemblGenes_df.head()"
   ]
  },
  {
   "cell_type": "code",
   "execution_count": 15,
   "metadata": {
    "collapsed": true
   },
   "outputs": [],
   "source": [
    "inbio_EnsemblGenes_df.to_csv(\n",
    "    os.path.join(\n",
    "        public_data_dir, 'InWeb_InBio.Ensembl.tsv.gz'\n",
    "    ),\n",
    "    sep='\\t',\n",
    "    compression='gzip',\n",
    "    index=False\n",
    ")"
   ]
  },
  {
   "cell_type": "markdown",
   "metadata": {},
   "source": [
    "### creat a dict from Ensembl Gene ID to list of SNPs"
   ]
  },
  {
   "cell_type": "code",
   "execution_count": 49,
   "metadata": {
    "collapsed": true
   },
   "outputs": [],
   "source": [
    "ukbb_df['Genes'] = ukbb_df['Gene'].map(lambda x: x.split(','))"
   ]
  },
  {
   "cell_type": "code",
   "execution_count": 56,
   "metadata": {},
   "outputs": [],
   "source": [
    "ukbb_df['SNP'] = [\n",
    "    '{}:{}{}/{}'.format(x[0], x[1], x[2], x[3]) for x in \n",
    "    zip(ukbb_df['CHROM'], ukbb_df['POS'], ukbb_df['REF'], ukbb_df['ALT'])\n",
    "]"
   ]
  },
  {
   "cell_type": "code",
   "execution_count": 57,
   "metadata": {},
   "outputs": [],
   "source": [
    "EnsemblGene2SNPs = collections.defaultdict(list)"
   ]
  },
  {
   "cell_type": "code",
   "execution_count": 58,
   "metadata": {
    "collapsed": true
   },
   "outputs": [],
   "source": [
    "for genes, snp in zip(ukbb_df['Genes'], ukbb_df['SNP']):\n",
    "    for gene in genes:\n",
    "        EnsemblGene2SNPs[gene].append(snp)"
   ]
  },
  {
   "cell_type": "code",
   "execution_count": 59,
   "metadata": {},
   "outputs": [
    {
     "data": {
      "text/plain": [
       "(39055, 590940)"
      ]
     },
     "execution_count": 59,
     "metadata": {},
     "output_type": "execute_result"
    }
   ],
   "source": [
    "len(EnsemblGene2SNPs), np.sum([len(x) for x in EnsemblGene2SNPs.values()])"
   ]
  },
  {
   "cell_type": "code",
   "execution_count": 60,
   "metadata": {},
   "outputs": [
    {
     "data": {
      "text/plain": [
       "['1:723307C/G', '1:727841G/A', '1:729632C/T']"
      ]
     },
     "execution_count": 60,
     "metadata": {},
     "output_type": "execute_result"
    }
   ],
   "source": [
    "EnsemblGene2SNPs['ENSG00000237491']"
   ]
  },
  {
   "cell_type": "code",
   "execution_count": 61,
   "metadata": {
    "collapsed": true
   },
   "outputs": [],
   "source": [
    "inbio_EnsemblGenes_df['SNPs_x']=inbio_EnsemblGenes_df['Gene stable ID_x'].map(lambda x: EnsemblGene2SNPs[x])\n",
    "inbio_EnsemblGenes_df['SNPs_y']=inbio_EnsemblGenes_df['Gene stable ID_y'].map(lambda x: EnsemblGene2SNPs[x])\n"
   ]
  },
  {
   "cell_type": "code",
   "execution_count": 63,
   "metadata": {},
   "outputs": [
    {
     "name": "stdout",
     "output_type": "stream",
     "text": [
      "(486902, 6)\n"
     ]
    },
    {
     "data": {
      "text/html": [
       "<div>\n",
       "<style>\n",
       "    .dataframe thead tr:only-child th {\n",
       "        text-align: right;\n",
       "    }\n",
       "\n",
       "    .dataframe thead th {\n",
       "        text-align: left;\n",
       "    }\n",
       "\n",
       "    .dataframe tbody tr th {\n",
       "        vertical-align: top;\n",
       "    }\n",
       "</style>\n",
       "<table border=\"1\" class=\"dataframe\">\n",
       "  <thead>\n",
       "    <tr style=\"text-align: right;\">\n",
       "      <th></th>\n",
       "      <th>Gene stable ID_x</th>\n",
       "      <th>Gene stable ID_y</th>\n",
       "      <th>score0</th>\n",
       "      <th>score1</th>\n",
       "      <th>SNPs_x</th>\n",
       "      <th>SNPs_y</th>\n",
       "    </tr>\n",
       "  </thead>\n",
       "  <tbody>\n",
       "    <tr>\n",
       "      <th>0</th>\n",
       "      <td>ENSG00000144445</td>\n",
       "      <td>ENSG00000123240</td>\n",
       "      <td>0.155</td>\n",
       "      <td>0.0761</td>\n",
       "      <td>[2:210887737G/A, 2:210894606T/A, 2:210897931C/...</td>\n",
       "      <td>[10:13141608G/A, 10:13142087G/T, 10:13142251G/...</td>\n",
       "    </tr>\n",
       "    <tr>\n",
       "      <th>1</th>\n",
       "      <td>ENSG00000104365</td>\n",
       "      <td>ENSG00000123240</td>\n",
       "      <td>0.216</td>\n",
       "      <td>0.2050</td>\n",
       "      <td>[8:42140549G/T, 8:42143087A/G, 8:42145305A/G, ...</td>\n",
       "      <td>[10:13141608G/A, 10:13142087G/T, 10:13142251G/...</td>\n",
       "    </tr>\n",
       "    <tr>\n",
       "      <th>2</th>\n",
       "      <td>ENSG00000164405</td>\n",
       "      <td>ENSG00000123240</td>\n",
       "      <td>0.149</td>\n",
       "      <td>0.0622</td>\n",
       "      <td>[5:132202539C/T, 5:132203057G/T, 5:132203272T/G]</td>\n",
       "      <td>[10:13141608G/A, 10:13142087G/T, 10:13142251G/...</td>\n",
       "    </tr>\n",
       "    <tr>\n",
       "      <th>3</th>\n",
       "      <td>ENSG00000036672</td>\n",
       "      <td>ENSG00000123240</td>\n",
       "      <td>0.184</td>\n",
       "      <td>0.1430</td>\n",
       "      <td>[11:119227996T/A, 11:119228834C/T, 11:11922937...</td>\n",
       "      <td>[10:13141608G/A, 10:13142087G/T, 10:13142251G/...</td>\n",
       "    </tr>\n",
       "    <tr>\n",
       "      <th>4</th>\n",
       "      <td>ENSG00000135636</td>\n",
       "      <td>ENSG00000123240</td>\n",
       "      <td>0.153</td>\n",
       "      <td>0.0704</td>\n",
       "      <td>[2:71677701C/T, 2:71681139T/G, 2:71686337A/G, ...</td>\n",
       "      <td>[10:13141608G/A, 10:13142087G/T, 10:13142251G/...</td>\n",
       "    </tr>\n",
       "  </tbody>\n",
       "</table>\n",
       "</div>"
      ],
      "text/plain": [
       "  Gene stable ID_x Gene stable ID_y  score0  score1  \\\n",
       "0  ENSG00000144445  ENSG00000123240   0.155  0.0761   \n",
       "1  ENSG00000104365  ENSG00000123240   0.216  0.2050   \n",
       "2  ENSG00000164405  ENSG00000123240   0.149  0.0622   \n",
       "3  ENSG00000036672  ENSG00000123240   0.184  0.1430   \n",
       "4  ENSG00000135636  ENSG00000123240   0.153  0.0704   \n",
       "\n",
       "                                              SNPs_x  \\\n",
       "0  [2:210887737G/A, 2:210894606T/A, 2:210897931C/...   \n",
       "1  [8:42140549G/T, 8:42143087A/G, 8:42145305A/G, ...   \n",
       "2   [5:132202539C/T, 5:132203057G/T, 5:132203272T/G]   \n",
       "3  [11:119227996T/A, 11:119228834C/T, 11:11922937...   \n",
       "4  [2:71677701C/T, 2:71681139T/G, 2:71686337A/G, ...   \n",
       "\n",
       "                                              SNPs_y  \n",
       "0  [10:13141608G/A, 10:13142087G/T, 10:13142251G/...  \n",
       "1  [10:13141608G/A, 10:13142087G/T, 10:13142251G/...  \n",
       "2  [10:13141608G/A, 10:13142087G/T, 10:13142251G/...  \n",
       "3  [10:13141608G/A, 10:13142087G/T, 10:13142251G/...  \n",
       "4  [10:13141608G/A, 10:13142087G/T, 10:13142251G/...  "
      ]
     },
     "execution_count": 63,
     "metadata": {},
     "output_type": "execute_result"
    }
   ],
   "source": [
    "print(inbio_EnsemblGenes_df.shape)\n",
    "inbio_EnsemblGenes_df.head()"
   ]
  },
  {
   "cell_type": "code",
   "execution_count": 64,
   "metadata": {
    "collapsed": true
   },
   "outputs": [],
   "source": [
    "inbio_EnsemblGenes_df[\n",
    "    ['SNPs_x', 'SNPs_y', 'Gene stable ID_x', 'Gene stable ID_y', 'score0', 'score1']\n",
    "].to_csv(\n",
    "    os.path.join(\n",
    "        public_data_dir, 'InWeb_InBio.Ensembl.SNPs.tsv.gz'\n",
    "    ),\n",
    "    sep='\\t',\n",
    "    compression='gzip',\n",
    "    index=False\n",
    ")"
   ]
  },
  {
   "cell_type": "code",
   "execution_count": null,
   "metadata": {
    "collapsed": true
   },
   "outputs": [],
   "source": []
  }
 ],
 "metadata": {
  "kernelspec": {
   "display_name": "dev36",
   "language": "python",
   "name": "dev36"
  },
  "language_info": {
   "codemirror_mode": {
    "name": "ipython",
    "version": 3
   },
   "file_extension": ".py",
   "mimetype": "text/x-python",
   "name": "python",
   "nbconvert_exporter": "python",
   "pygments_lexer": "ipython3",
   "version": "3.6.1"
  }
 },
 "nbformat": 4,
 "nbformat_minor": 2
}
