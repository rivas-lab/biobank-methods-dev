{
 "cells": [
  {
   "cell_type": "code",
   "execution_count": 1,
   "metadata": {},
   "outputs": [],
   "source": [
    "suppressWarnings(suppressPackageStartupMessages({\n",
    "    library(tidyverse)\n",
    "    library(data.table)\n",
    "}))\n"
   ]
  },
  {
   "cell_type": "code",
   "execution_count": 2,
   "metadata": {},
   "outputs": [],
   "source": [
    "# input\n",
    "data_d_root <- '/oak/stanford/groups/mrivas/projects/biobank-methods-dev'\n",
    "phe_f <- file.path(data_d_root, 'snpnet-elastic-net/phenotype.phe')\n",
    "PRS_d <- file.path(data_d_root, 'snpnet-clumping', 'train_val')\n",
    "covar_score_d <- file.path(data_d_root, 'snpnet-PRScs/covar_betas_train_val')\n",
    "\n",
    "# constants\n",
    "covars <- c('age', 'sex', paste0('PC', 1:10))\n",
    "\n",
    "# output\n",
    "out_f <- 'snpnet-clumping.train_val.eval.tsv'\n"
   ]
  },
  {
   "cell_type": "code",
   "execution_count": 3,
   "metadata": {},
   "outputs": [],
   "source": [
    "read_BETAs <- function(beta_f){\n",
    "    fread(beta_f)\n",
    "}\n"
   ]
  },
  {
   "cell_type": "code",
   "execution_count": 4,
   "metadata": {},
   "outputs": [],
   "source": [
    "read_PRS <- function(sscore_f){\n",
    "    fread(\n",
    "        cmd=paste('zstdcat', sscore_f),\n",
    "        select=c('#FID', 'IID', 'SCORE1_SUM'),\n",
    "        colClasses=c('#FID'='character', 'IID'='character')\n",
    "    ) %>%\n",
    "    rename('FID'='#FID', 'geno_score'='SCORE1_SUM')\n",
    "}\n"
   ]
  },
  {
   "cell_type": "code",
   "execution_count": 5,
   "metadata": {},
   "outputs": [],
   "source": [
    "read_covar_score <- function(covar_score_f){\n",
    "    fread(\n",
    "        cmd=paste('zstdcat', covar_score_f),\n",
    "        select=c('#FID', 'IID', 'Estimate'),\n",
    "        colClasses=c('#FID'='character', 'IID'='character')\n",
    "    ) %>%\n",
    "    rename('FID'='#FID', 'covar_score'='Estimate')\n",
    "    \n",
    "}\n"
   ]
  },
  {
   "cell_type": "code",
   "execution_count": 6,
   "metadata": {},
   "outputs": [],
   "source": [
    "perform_eval <- function(response, pred, metric.type){\n",
    "    if(metric.type == 'r2'){\n",
    "        summary(lm(response ~ 1 + pred))$r.squared\n",
    "    }else{\n",
    "#         pROC::auc(pROC::roc(response, pred))        \n",
    "        pred.obj <- ROCR::prediction(pred, factor(response - 1))\n",
    "        auc.obj <- ROCR::performance(pred.obj, measure = 'auc')\n",
    "        auc.obj@y.values[[1]]\n",
    "    }\n",
    "}\n"
   ]
  },
  {
   "cell_type": "code",
   "execution_count": 7,
   "metadata": {},
   "outputs": [],
   "source": [
    "phe_df <- fread(phe_f, colClasses=c('FID'='character', 'IID'='character')) %>%\n",
    "mutate(ID = paste(FID, IID, sep='_')) %>%\n",
    "column_to_rownames('ID')\n"
   ]
  },
  {
   "cell_type": "code",
   "execution_count": 8,
   "metadata": {},
   "outputs": [],
   "source": [
    "eval_line_build <- function(score_test_df, phe, metric.type, split_string){\n",
    "    data.frame(\n",
    "        phe        = phe,\n",
    "        split      = split_string,\n",
    "        geno       = perform_eval(\n",
    "            score_test_df$phe,\n",
    "            score_test_df$geno_score,\n",
    "            metric.type\n",
    "        ),\n",
    "        covar      = perform_eval(\n",
    "            score_test_df$phe,\n",
    "            score_test_df$covar_score,\n",
    "            metric.type\n",
    "        ),\n",
    "        geno_covar = perform_eval(\n",
    "            score_test_df$phe,\n",
    "            score_test_df$geno_covar_score,\n",
    "            metric.type\n",
    "        ),\n",
    "        stringsAsFactors = F\n",
    "    )    \n",
    "}\n"
   ]
  },
  {
   "cell_type": "code",
   "execution_count": 9,
   "metadata": {},
   "outputs": [],
   "source": [
    "eval_df <- c('INI50', 'INI21001', 'HC269', 'HC382') %>%\n",
    "lapply(function(phe){   \n",
    "    c('1e-5', '1e-4', '1e-3') %>%\n",
    "    lapply(function(p_thr){\n",
    "        \n",
    "        metric.type <- ifelse(str_replace_all(phe, '[0-9]', '') %in% c('INI', 'QT_FC'), 'r2', 'auc')\n",
    "\n",
    "        df <- phe_df %>% \n",
    "        select(all_of(c('FID', 'IID', phe, 'split'))) %>%\n",
    "        rename(!!'phe' := all_of(phe)) %>%\n",
    "        left_join(\n",
    "            read_PRS(file.path(PRS_d, sprintf('%s.p1_%s.sscore.zst', phe, p_thr))),\n",
    "            by=c(\"FID\", \"IID\")\n",
    "        ) %>%\n",
    "        left_join(\n",
    "            read_covar_score(file.path(covar_score_d, sprintf('%s.covar.scores.tsv', phe))), \n",
    "            by=c(\"FID\", \"IID\")\n",
    "        ) %>%\n",
    "        mutate(geno_covar_score = geno_score + covar_score) %>%\n",
    "        drop_na(phe) %>%\n",
    "        filter(phe != -9)\n",
    "\n",
    "        nvars <- read_BETAs(\n",
    "            file.path(PRS_d, sprintf('%s.p1_%s.clumped.plink.tsv', phe, p_thr))\n",
    "        ) %>% nrow()\n",
    "        \n",
    "        bind_rows(\n",
    "            df %>%\n",
    "            filter(split %in% c('train', 'val'))%>%\n",
    "            eval_line_build(phe, metric.type, 'train+val'),\n",
    "\n",
    "            df %>%\n",
    "            filter(split == 'test')%>%\n",
    "            eval_line_build(phe, metric.type, 'test')\n",
    "        ) %>%\n",
    "        mutate(\n",
    "            p1_thr = p_thr,\n",
    "            n_variables = nvars \n",
    "        )\n",
    "    }) %>% bind_rows()        \n",
    "}) %>% bind_rows() %>%\n",
    "select(phe, p1_thr, split, geno, covar, geno_covar, n_variables)\n"
   ]
  },
  {
   "cell_type": "code",
   "execution_count": 10,
   "metadata": {},
   "outputs": [
    {
     "data": {
      "text/html": [
       "<table>\n",
       "<caption>A data.frame: 24 × 7</caption>\n",
       "<thead>\n",
       "\t<tr><th scope=col>phe</th><th scope=col>p1_thr</th><th scope=col>split</th><th scope=col>geno</th><th scope=col>covar</th><th scope=col>geno_covar</th><th scope=col>n_variables</th></tr>\n",
       "\t<tr><th scope=col>&lt;chr&gt;</th><th scope=col>&lt;chr&gt;</th><th scope=col>&lt;chr&gt;</th><th scope=col>&lt;dbl&gt;</th><th scope=col>&lt;dbl&gt;</th><th scope=col>&lt;dbl&gt;</th><th scope=col>&lt;int&gt;</th></tr>\n",
       "</thead>\n",
       "<tbody>\n",
       "\t<tr><td>INI50   </td><td>1e-5</td><td>train+val</td><td>0.08169861</td><td>0.533439410</td><td>0.27829270</td><td> 7035</td></tr>\n",
       "\t<tr><td>INI50   </td><td>1e-5</td><td>test     </td><td>0.06524440</td><td>0.533574168</td><td>0.25340315</td><td> 7035</td></tr>\n",
       "\t<tr><td>INI50   </td><td>1e-4</td><td>train+val</td><td>0.09460683</td><td>0.533439410</td><td>0.28279524</td><td>10231</td></tr>\n",
       "\t<tr><td>INI50   </td><td>1e-4</td><td>test     </td><td>0.07240590</td><td>0.533574168</td><td>0.25094048</td><td>10231</td></tr>\n",
       "\t<tr><td>INI50   </td><td>1e-3</td><td>train+val</td><td>0.11405178</td><td>0.533439410</td><td>0.29193107</td><td>17421</td></tr>\n",
       "\t<tr><td>INI50   </td><td>1e-3</td><td>test     </td><td>0.08110625</td><td>0.533574168</td><td>0.24756930</td><td>17421</td></tr>\n",
       "\t<tr><td>INI21001</td><td>1e-5</td><td>train+val</td><td>0.04203494</td><td>0.010430321</td><td>0.04614872</td><td> 1652</td></tr>\n",
       "\t<tr><td>INI21001</td><td>1e-5</td><td>test     </td><td>0.02707959</td><td>0.009921578</td><td>0.03048482</td><td> 1652</td></tr>\n",
       "\t<tr><td>INI21001</td><td>1e-4</td><td>train+val</td><td>0.05710092</td><td>0.010430321</td><td>0.06075892</td><td> 3266</td></tr>\n",
       "\t<tr><td>INI21001</td><td>1e-4</td><td>test     </td><td>0.03172982</td><td>0.009921578</td><td>0.03457765</td><td> 3266</td></tr>\n",
       "\t<tr><td>INI21001</td><td>1e-3</td><td>train+val</td><td>0.09967817</td><td>0.010430321</td><td>0.10310482</td><td> 7733</td></tr>\n",
       "\t<tr><td>INI21001</td><td>1e-3</td><td>test     </td><td>0.04510683</td><td>0.009921578</td><td>0.04763531</td><td> 7733</td></tr>\n",
       "\t<tr><td>HC269   </td><td>1e-5</td><td>train+val</td><td>0.61150546</td><td>0.693475033</td><td>0.68558263</td><td>  381</td></tr>\n",
       "\t<tr><td>HC269   </td><td>1e-5</td><td>test     </td><td>0.59740878</td><td>0.688961985</td><td>0.67177484</td><td>  381</td></tr>\n",
       "\t<tr><td>HC269   </td><td>1e-4</td><td>train+val</td><td>0.62331874</td><td>0.693475033</td><td>0.68937168</td><td>  677</td></tr>\n",
       "\t<tr><td>HC269   </td><td>1e-4</td><td>test     </td><td>0.59675398</td><td>0.688961985</td><td>0.66405768</td><td>  677</td></tr>\n",
       "\t<tr><td>HC269   </td><td>1e-3</td><td>train+val</td><td>0.66307204</td><td>0.693475033</td><td>0.71494841</td><td> 1983</td></tr>\n",
       "\t<tr><td>HC269   </td><td>1e-3</td><td>test     </td><td>0.59646692</td><td>0.688961985</td><td>0.65204234</td><td> 1983</td></tr>\n",
       "\t<tr><td>HC382   </td><td>1e-5</td><td>train+val</td><td>0.56816167</td><td>0.534422190</td><td>0.56917607</td><td>  615</td></tr>\n",
       "\t<tr><td>HC382   </td><td>1e-5</td><td>test     </td><td>0.55750205</td><td>0.537067630</td><td>0.55855209</td><td>  615</td></tr>\n",
       "\t<tr><td>HC382   </td><td>1e-4</td><td>train+val</td><td>0.57746091</td><td>0.534422190</td><td>0.57838312</td><td> 1000</td></tr>\n",
       "\t<tr><td>HC382   </td><td>1e-4</td><td>test     </td><td>0.56037633</td><td>0.537067630</td><td>0.56133925</td><td> 1000</td></tr>\n",
       "\t<tr><td>HC382   </td><td>1e-3</td><td>train+val</td><td>0.60533771</td><td>0.534422190</td><td>0.60614199</td><td> 2410</td></tr>\n",
       "\t<tr><td>HC382   </td><td>1e-3</td><td>test     </td><td>0.56723053</td><td>0.537067630</td><td>0.56810329</td><td> 2410</td></tr>\n",
       "</tbody>\n",
       "</table>\n"
      ],
      "text/latex": [
       "A data.frame: 24 × 7\n",
       "\\begin{tabular}{lllllll}\n",
       " phe & p1\\_thr & split & geno & covar & geno\\_covar & n\\_variables\\\\\n",
       " <chr> & <chr> & <chr> & <dbl> & <dbl> & <dbl> & <int>\\\\\n",
       "\\hline\n",
       "\t INI50    & 1e-5 & train+val & 0.08169861 & 0.533439410 & 0.27829270 &  7035\\\\\n",
       "\t INI50    & 1e-5 & test      & 0.06524440 & 0.533574168 & 0.25340315 &  7035\\\\\n",
       "\t INI50    & 1e-4 & train+val & 0.09460683 & 0.533439410 & 0.28279524 & 10231\\\\\n",
       "\t INI50    & 1e-4 & test      & 0.07240590 & 0.533574168 & 0.25094048 & 10231\\\\\n",
       "\t INI50    & 1e-3 & train+val & 0.11405178 & 0.533439410 & 0.29193107 & 17421\\\\\n",
       "\t INI50    & 1e-3 & test      & 0.08110625 & 0.533574168 & 0.24756930 & 17421\\\\\n",
       "\t INI21001 & 1e-5 & train+val & 0.04203494 & 0.010430321 & 0.04614872 &  1652\\\\\n",
       "\t INI21001 & 1e-5 & test      & 0.02707959 & 0.009921578 & 0.03048482 &  1652\\\\\n",
       "\t INI21001 & 1e-4 & train+val & 0.05710092 & 0.010430321 & 0.06075892 &  3266\\\\\n",
       "\t INI21001 & 1e-4 & test      & 0.03172982 & 0.009921578 & 0.03457765 &  3266\\\\\n",
       "\t INI21001 & 1e-3 & train+val & 0.09967817 & 0.010430321 & 0.10310482 &  7733\\\\\n",
       "\t INI21001 & 1e-3 & test      & 0.04510683 & 0.009921578 & 0.04763531 &  7733\\\\\n",
       "\t HC269    & 1e-5 & train+val & 0.61150546 & 0.693475033 & 0.68558263 &   381\\\\\n",
       "\t HC269    & 1e-5 & test      & 0.59740878 & 0.688961985 & 0.67177484 &   381\\\\\n",
       "\t HC269    & 1e-4 & train+val & 0.62331874 & 0.693475033 & 0.68937168 &   677\\\\\n",
       "\t HC269    & 1e-4 & test      & 0.59675398 & 0.688961985 & 0.66405768 &   677\\\\\n",
       "\t HC269    & 1e-3 & train+val & 0.66307204 & 0.693475033 & 0.71494841 &  1983\\\\\n",
       "\t HC269    & 1e-3 & test      & 0.59646692 & 0.688961985 & 0.65204234 &  1983\\\\\n",
       "\t HC382    & 1e-5 & train+val & 0.56816167 & 0.534422190 & 0.56917607 &   615\\\\\n",
       "\t HC382    & 1e-5 & test      & 0.55750205 & 0.537067630 & 0.55855209 &   615\\\\\n",
       "\t HC382    & 1e-4 & train+val & 0.57746091 & 0.534422190 & 0.57838312 &  1000\\\\\n",
       "\t HC382    & 1e-4 & test      & 0.56037633 & 0.537067630 & 0.56133925 &  1000\\\\\n",
       "\t HC382    & 1e-3 & train+val & 0.60533771 & 0.534422190 & 0.60614199 &  2410\\\\\n",
       "\t HC382    & 1e-3 & test      & 0.56723053 & 0.537067630 & 0.56810329 &  2410\\\\\n",
       "\\end{tabular}\n"
      ],
      "text/markdown": [
       "\n",
       "A data.frame: 24 × 7\n",
       "\n",
       "| phe &lt;chr&gt; | p1_thr &lt;chr&gt; | split &lt;chr&gt; | geno &lt;dbl&gt; | covar &lt;dbl&gt; | geno_covar &lt;dbl&gt; | n_variables &lt;int&gt; |\n",
       "|---|---|---|---|---|---|---|\n",
       "| INI50    | 1e-5 | train+val | 0.08169861 | 0.533439410 | 0.27829270 |  7035 |\n",
       "| INI50    | 1e-5 | test      | 0.06524440 | 0.533574168 | 0.25340315 |  7035 |\n",
       "| INI50    | 1e-4 | train+val | 0.09460683 | 0.533439410 | 0.28279524 | 10231 |\n",
       "| INI50    | 1e-4 | test      | 0.07240590 | 0.533574168 | 0.25094048 | 10231 |\n",
       "| INI50    | 1e-3 | train+val | 0.11405178 | 0.533439410 | 0.29193107 | 17421 |\n",
       "| INI50    | 1e-3 | test      | 0.08110625 | 0.533574168 | 0.24756930 | 17421 |\n",
       "| INI21001 | 1e-5 | train+val | 0.04203494 | 0.010430321 | 0.04614872 |  1652 |\n",
       "| INI21001 | 1e-5 | test      | 0.02707959 | 0.009921578 | 0.03048482 |  1652 |\n",
       "| INI21001 | 1e-4 | train+val | 0.05710092 | 0.010430321 | 0.06075892 |  3266 |\n",
       "| INI21001 | 1e-4 | test      | 0.03172982 | 0.009921578 | 0.03457765 |  3266 |\n",
       "| INI21001 | 1e-3 | train+val | 0.09967817 | 0.010430321 | 0.10310482 |  7733 |\n",
       "| INI21001 | 1e-3 | test      | 0.04510683 | 0.009921578 | 0.04763531 |  7733 |\n",
       "| HC269    | 1e-5 | train+val | 0.61150546 | 0.693475033 | 0.68558263 |   381 |\n",
       "| HC269    | 1e-5 | test      | 0.59740878 | 0.688961985 | 0.67177484 |   381 |\n",
       "| HC269    | 1e-4 | train+val | 0.62331874 | 0.693475033 | 0.68937168 |   677 |\n",
       "| HC269    | 1e-4 | test      | 0.59675398 | 0.688961985 | 0.66405768 |   677 |\n",
       "| HC269    | 1e-3 | train+val | 0.66307204 | 0.693475033 | 0.71494841 |  1983 |\n",
       "| HC269    | 1e-3 | test      | 0.59646692 | 0.688961985 | 0.65204234 |  1983 |\n",
       "| HC382    | 1e-5 | train+val | 0.56816167 | 0.534422190 | 0.56917607 |   615 |\n",
       "| HC382    | 1e-5 | test      | 0.55750205 | 0.537067630 | 0.55855209 |   615 |\n",
       "| HC382    | 1e-4 | train+val | 0.57746091 | 0.534422190 | 0.57838312 |  1000 |\n",
       "| HC382    | 1e-4 | test      | 0.56037633 | 0.537067630 | 0.56133925 |  1000 |\n",
       "| HC382    | 1e-3 | train+val | 0.60533771 | 0.534422190 | 0.60614199 |  2410 |\n",
       "| HC382    | 1e-3 | test      | 0.56723053 | 0.537067630 | 0.56810329 |  2410 |\n",
       "\n"
      ],
      "text/plain": [
       "   phe      p1_thr split     geno       covar       geno_covar n_variables\n",
       "1  INI50    1e-5   train+val 0.08169861 0.533439410 0.27829270  7035      \n",
       "2  INI50    1e-5   test      0.06524440 0.533574168 0.25340315  7035      \n",
       "3  INI50    1e-4   train+val 0.09460683 0.533439410 0.28279524 10231      \n",
       "4  INI50    1e-4   test      0.07240590 0.533574168 0.25094048 10231      \n",
       "5  INI50    1e-3   train+val 0.11405178 0.533439410 0.29193107 17421      \n",
       "6  INI50    1e-3   test      0.08110625 0.533574168 0.24756930 17421      \n",
       "7  INI21001 1e-5   train+val 0.04203494 0.010430321 0.04614872  1652      \n",
       "8  INI21001 1e-5   test      0.02707959 0.009921578 0.03048482  1652      \n",
       "9  INI21001 1e-4   train+val 0.05710092 0.010430321 0.06075892  3266      \n",
       "10 INI21001 1e-4   test      0.03172982 0.009921578 0.03457765  3266      \n",
       "11 INI21001 1e-3   train+val 0.09967817 0.010430321 0.10310482  7733      \n",
       "12 INI21001 1e-3   test      0.04510683 0.009921578 0.04763531  7733      \n",
       "13 HC269    1e-5   train+val 0.61150546 0.693475033 0.68558263   381      \n",
       "14 HC269    1e-5   test      0.59740878 0.688961985 0.67177484   381      \n",
       "15 HC269    1e-4   train+val 0.62331874 0.693475033 0.68937168   677      \n",
       "16 HC269    1e-4   test      0.59675398 0.688961985 0.66405768   677      \n",
       "17 HC269    1e-3   train+val 0.66307204 0.693475033 0.71494841  1983      \n",
       "18 HC269    1e-3   test      0.59646692 0.688961985 0.65204234  1983      \n",
       "19 HC382    1e-5   train+val 0.56816167 0.534422190 0.56917607   615      \n",
       "20 HC382    1e-5   test      0.55750205 0.537067630 0.55855209   615      \n",
       "21 HC382    1e-4   train+val 0.57746091 0.534422190 0.57838312  1000      \n",
       "22 HC382    1e-4   test      0.56037633 0.537067630 0.56133925  1000      \n",
       "23 HC382    1e-3   train+val 0.60533771 0.534422190 0.60614199  2410      \n",
       "24 HC382    1e-3   test      0.56723053 0.537067630 0.56810329  2410      "
      ]
     },
     "metadata": {},
     "output_type": "display_data"
    }
   ],
   "source": [
    "eval_df"
   ]
  },
  {
   "cell_type": "code",
   "execution_count": 11,
   "metadata": {},
   "outputs": [],
   "source": [
    "eval_df %>%\n",
    "fwrite(out_f, sep='\\t', na = \"NA\", quote=F)\n"
   ]
  },
  {
   "cell_type": "markdown",
   "metadata": {},
   "source": [
    "The hyper-paramter `p1_thr` was selected based on the validation set metric in `3a_performance_eval_train.ipynb`.\n"
   ]
  },
  {
   "cell_type": "code",
   "execution_count": 5,
   "metadata": {},
   "outputs": [
    {
     "data": {
      "text/html": [
       "<table>\n",
       "<caption>A data.table: 4 × 7</caption>\n",
       "<thead>\n",
       "\t<tr><th scope=col>phe</th><th scope=col>p1_thr</th><th scope=col>split</th><th scope=col>geno</th><th scope=col>covar</th><th scope=col>geno_covar</th><th scope=col>n_variables</th></tr>\n",
       "\t<tr><th scope=col>&lt;chr&gt;</th><th scope=col>&lt;dbl&gt;</th><th scope=col>&lt;chr&gt;</th><th scope=col>&lt;dbl&gt;</th><th scope=col>&lt;dbl&gt;</th><th scope=col>&lt;dbl&gt;</th><th scope=col>&lt;int&gt;</th></tr>\n",
       "</thead>\n",
       "<tbody>\n",
       "\t<tr><td>INI50   </td><td>1e-05</td><td>test</td><td>0.06524440</td><td>0.533574168</td><td>0.25340315</td><td>7035</td></tr>\n",
       "\t<tr><td>INI21001</td><td>1e-03</td><td>test</td><td>0.04510683</td><td>0.009921578</td><td>0.04763531</td><td>7733</td></tr>\n",
       "\t<tr><td>HC269   </td><td>1e-05</td><td>test</td><td>0.59740878</td><td>0.688961985</td><td>0.67177484</td><td> 381</td></tr>\n",
       "\t<tr><td>HC382   </td><td>1e-03</td><td>test</td><td>0.56723053</td><td>0.537067630</td><td>0.56810329</td><td>2410</td></tr>\n",
       "</tbody>\n",
       "</table>\n"
      ],
      "text/latex": [
       "A data.table: 4 × 7\n",
       "\\begin{tabular}{lllllll}\n",
       " phe & p1\\_thr & split & geno & covar & geno\\_covar & n\\_variables\\\\\n",
       " <chr> & <dbl> & <chr> & <dbl> & <dbl> & <dbl> & <int>\\\\\n",
       "\\hline\n",
       "\t INI50    & 1e-05 & test & 0.06524440 & 0.533574168 & 0.25340315 & 7035\\\\\n",
       "\t INI21001 & 1e-03 & test & 0.04510683 & 0.009921578 & 0.04763531 & 7733\\\\\n",
       "\t HC269    & 1e-05 & test & 0.59740878 & 0.688961985 & 0.67177484 &  381\\\\\n",
       "\t HC382    & 1e-03 & test & 0.56723053 & 0.537067630 & 0.56810329 & 2410\\\\\n",
       "\\end{tabular}\n"
      ],
      "text/markdown": [
       "\n",
       "A data.table: 4 × 7\n",
       "\n",
       "| phe &lt;chr&gt; | p1_thr &lt;dbl&gt; | split &lt;chr&gt; | geno &lt;dbl&gt; | covar &lt;dbl&gt; | geno_covar &lt;dbl&gt; | n_variables &lt;int&gt; |\n",
       "|---|---|---|---|---|---|---|\n",
       "| INI50    | 1e-05 | test | 0.06524440 | 0.533574168 | 0.25340315 | 7035 |\n",
       "| INI21001 | 1e-03 | test | 0.04510683 | 0.009921578 | 0.04763531 | 7733 |\n",
       "| HC269    | 1e-05 | test | 0.59740878 | 0.688961985 | 0.67177484 |  381 |\n",
       "| HC382    | 1e-03 | test | 0.56723053 | 0.537067630 | 0.56810329 | 2410 |\n",
       "\n"
      ],
      "text/plain": [
       "  phe      p1_thr split geno       covar       geno_covar n_variables\n",
       "1 INI50    1e-05  test  0.06524440 0.533574168 0.25340315 7035       \n",
       "2 INI21001 1e-03  test  0.04510683 0.009921578 0.04763531 7733       \n",
       "3 HC269    1e-05  test  0.59740878 0.688961985 0.67177484  381       \n",
       "4 HC382    1e-03  test  0.56723053 0.537067630 0.56810329 2410       "
      ]
     },
     "metadata": {},
     "output_type": "display_data"
    }
   ],
   "source": [
    "fread(out_f) %>%\n",
    "right_join(\n",
    "    data.frame(\n",
    "        phe = c('INI50', 'INI21001', 'HC269', 'HC382'),\n",
    "        p1_thr = c(1e-5, 1e-3, 1e-5, 1e-3)\n",
    "    ), by = c(\"phe\", \"p1_thr\")\n",
    ") %>%\n",
    "filter(split == 'test')"
   ]
  },
  {
   "cell_type": "code",
   "execution_count": null,
   "metadata": {},
   "outputs": [],
   "source": []
  }
 ],
 "metadata": {
  "kernelspec": {
   "display_name": "R",
   "language": "R",
   "name": "ir"
  },
  "language_info": {
   "codemirror_mode": "r",
   "file_extension": ".r",
   "mimetype": "text/x-r-source",
   "name": "R",
   "pygments_lexer": "r",
   "version": "3.6.2"
  }
 },
 "nbformat": 4,
 "nbformat_minor": 4
}
