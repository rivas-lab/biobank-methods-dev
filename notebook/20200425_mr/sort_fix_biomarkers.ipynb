{
 "cells": [
  {
   "cell_type": "code",
   "execution_count": 1,
   "metadata": {},
   "outputs": [],
   "source": [
    "suppressWarnings(suppressPackageStartupMessages({\n",
    "    library(tidyverse)\n",
    "    library(data.table)\n",
    "}))\n"
   ]
  },
  {
   "cell_type": "code",
   "execution_count": 2,
   "metadata": {},
   "outputs": [],
   "source": [
    "in_f <- '/oak/stanford/groups/mrivas/projects/biomarkers/snpnet/biomarkers/biomarkers_covar.w_split.phe'\n",
    "out_f <- '/oak/stanford/groups/mrivas/projects/biomarkers/snpnet/biomarkers/biomarkers_covar.w_split.sorted.phe'\n"
   ]
  },
  {
   "cell_type": "code",
   "execution_count": 3,
   "metadata": {},
   "outputs": [],
   "source": [
    "psam_f <- '/oak/stanford/groups/mrivas/ukbb24983/array_combined/pgen/ukb24983_cal_hla_cnv.psam'\n"
   ]
  },
  {
   "cell_type": "code",
   "execution_count": 9,
   "metadata": {},
   "outputs": [],
   "source": [
    "psam_df <- fread(psam_f, colClasses=c('#FID'='character', 'IID'='character'))\n",
    "df <- fread(in_f, colClasses=c('FID'='character', 'IID'='character'))\n"
   ]
  },
  {
   "cell_type": "code",
   "execution_count": 11,
   "metadata": {},
   "outputs": [],
   "source": [
    "df_sorted <- df %>%\n",
    "left_join(   \n",
    "    psam_df %>% \n",
    "    select(IID) %>%\n",
    "    mutate(psam_order = 1:n()),\n",
    "    by='IID'\n",
    ") %>%\n",
    "arrange(psam_order) %>%\n",
    "select(-psam_order) %>%\n",
    "fwrite(out_f, sep='\\t', na = \"NA\", quote=F)\n"
   ]
  },
  {
   "cell_type": "code",
   "execution_count": 6,
   "metadata": {},
   "outputs": [
    {
     "data": {
      "text/html": [
       "<table>\n",
       "<caption>A data.table: 6 × 135</caption>\n",
       "<thead>\n",
       "\t<tr><th scope=col>FID</th><th scope=col>IID</th><th scope=col>split</th><th scope=col>age</th><th scope=col>age0</th><th scope=col>age1</th><th scope=col>age2</th><th scope=col>sex</th><th scope=col>BMI</th><th scope=col>Array</th><th scope=col>⋯</th><th scope=col>Rheumatoid_factor</th><th scope=col>SHBG</th><th scope=col>Sodium_in_urine</th><th scope=col>Testosterone</th><th scope=col>Total_bilirubin</th><th scope=col>Total_protein</th><th scope=col>Triglycerides</th><th scope=col>Urate</th><th scope=col>Urea</th><th scope=col>Vitamin_D</th></tr>\n",
       "\t<tr><th scope=col>&lt;int&gt;</th><th scope=col>&lt;int&gt;</th><th scope=col>&lt;chr&gt;</th><th scope=col>&lt;int&gt;</th><th scope=col>&lt;dbl&gt;</th><th scope=col>&lt;dbl&gt;</th><th scope=col>&lt;dbl&gt;</th><th scope=col>&lt;int&gt;</th><th scope=col>&lt;dbl&gt;</th><th scope=col>&lt;int&gt;</th><th scope=col>⋯</th><th scope=col>&lt;dbl&gt;</th><th scope=col>&lt;dbl&gt;</th><th scope=col>&lt;dbl&gt;</th><th scope=col>&lt;dbl&gt;</th><th scope=col>&lt;dbl&gt;</th><th scope=col>&lt;dbl&gt;</th><th scope=col>&lt;dbl&gt;</th><th scope=col>&lt;dbl&gt;</th><th scope=col>&lt;dbl&gt;</th><th scope=col>&lt;dbl&gt;</th></tr>\n",
       "</thead>\n",
       "<tbody>\n",
       "\t<tr><td>2502845</td><td>2502845</td><td>val  </td><td>50</td><td>42.01780</td><td>NA</td><td>NA</td><td> 1</td><td>28.1528</td><td> 1</td><td>⋯</td><td>-9.0000000</td><td> 0.63602943</td><td> 0.61334793</td><td> 0.27286060</td><td> 0.5204386</td><td>-0.039636829</td><td>-0.2868009</td><td> 0.09388844</td><td> 0.17387464</td><td> 0.18068183</td></tr>\n",
       "\t<tr><td>2314965</td><td>2314965</td><td>train</td><td>55</td><td>47.01711</td><td>NA</td><td>NA</td><td> 0</td><td>32.2979</td><td> 1</td><td>⋯</td><td>-9.0000000</td><td>-9.00000000</td><td> 0.16083891</td><td>-0.04435945</td><td>-0.5980682</td><td>-9.000000000</td><td> 0.9991994</td><td>-9.00000000</td><td> 0.31388765</td><td>-9.00000000</td></tr>\n",
       "\t<tr><td>1142584</td><td>1142584</td><td>test </td><td>60</td><td>52.43532</td><td>NA</td><td>NA</td><td> 0</td><td>20.3894</td><td> 1</td><td>⋯</td><td>-9.0000000</td><td> 0.06273032</td><td>-0.35600816</td><td>-0.31957300</td><td> 0.1243965</td><td>-0.001759489</td><td> 0.2478688</td><td> 0.04810635</td><td> 0.03104997</td><td>-0.05428741</td></tr>\n",
       "\t<tr><td>3665122</td><td>3665122</td><td>train</td><td>74</td><td>65.76591</td><td>NA</td><td>NA</td><td> 0</td><td>27.0790</td><td> 1</td><td>⋯</td><td>-9.0000000</td><td>-0.06862089</td><td> 0.01073017</td><td> 0.11581492</td><td> 0.2706802</td><td> 0.062122582</td><td>-0.2389132</td><td> 0.04271661</td><td>-0.06918281</td><td> 0.18833282</td></tr>\n",
       "\t<tr><td>4377492</td><td>4377492</td><td>val  </td><td>65</td><td>57.01574</td><td>NA</td><td>NA</td><td> 0</td><td>36.0347</td><td> 1</td><td>⋯</td><td> 0.1126329</td><td>-0.17941333</td><td> 0.49714745</td><td>-0.59068545</td><td>-0.1767633</td><td>-0.023004922</td><td> 0.6176008</td><td> 0.16832390</td><td>-0.05354495</td><td>-0.16898312</td></tr>\n",
       "\t<tr><td>2652670</td><td>2652670</td><td>NA   </td><td>NA</td><td>      NA</td><td>NA</td><td>NA</td><td>NA</td><td>     NA</td><td>NA</td><td>⋯</td><td>        NA</td><td>         NA</td><td>         NA</td><td>         NA</td><td>        NA</td><td>          NA</td><td>        NA</td><td>         NA</td><td>         NA</td><td>         NA</td></tr>\n",
       "</tbody>\n",
       "</table>\n"
      ],
      "text/latex": [
       "A data.table: 6 × 135\n",
       "\\begin{tabular}{lllllllllllllllllllll}\n",
       " FID & IID & split & age & age0 & age1 & age2 & sex & BMI & Array & ⋯ & Rheumatoid\\_factor & SHBG & Sodium\\_in\\_urine & Testosterone & Total\\_bilirubin & Total\\_protein & Triglycerides & Urate & Urea & Vitamin\\_D\\\\\n",
       " <int> & <int> & <chr> & <int> & <dbl> & <dbl> & <dbl> & <int> & <dbl> & <int> & ⋯ & <dbl> & <dbl> & <dbl> & <dbl> & <dbl> & <dbl> & <dbl> & <dbl> & <dbl> & <dbl>\\\\\n",
       "\\hline\n",
       "\t 2502845 & 2502845 & val   & 50 & 42.01780 & NA & NA &  1 & 28.1528 &  1 & ⋯ & -9.0000000 &  0.63602943 &  0.61334793 &  0.27286060 &  0.5204386 & -0.039636829 & -0.2868009 &  0.09388844 &  0.17387464 &  0.18068183\\\\\n",
       "\t 2314965 & 2314965 & train & 55 & 47.01711 & NA & NA &  0 & 32.2979 &  1 & ⋯ & -9.0000000 & -9.00000000 &  0.16083891 & -0.04435945 & -0.5980682 & -9.000000000 &  0.9991994 & -9.00000000 &  0.31388765 & -9.00000000\\\\\n",
       "\t 1142584 & 1142584 & test  & 60 & 52.43532 & NA & NA &  0 & 20.3894 &  1 & ⋯ & -9.0000000 &  0.06273032 & -0.35600816 & -0.31957300 &  0.1243965 & -0.001759489 &  0.2478688 &  0.04810635 &  0.03104997 & -0.05428741\\\\\n",
       "\t 3665122 & 3665122 & train & 74 & 65.76591 & NA & NA &  0 & 27.0790 &  1 & ⋯ & -9.0000000 & -0.06862089 &  0.01073017 &  0.11581492 &  0.2706802 &  0.062122582 & -0.2389132 &  0.04271661 & -0.06918281 &  0.18833282\\\\\n",
       "\t 4377492 & 4377492 & val   & 65 & 57.01574 & NA & NA &  0 & 36.0347 &  1 & ⋯ &  0.1126329 & -0.17941333 &  0.49714745 & -0.59068545 & -0.1767633 & -0.023004922 &  0.6176008 &  0.16832390 & -0.05354495 & -0.16898312\\\\\n",
       "\t 2652670 & 2652670 & NA    & NA &       NA & NA & NA & NA &      NA & NA & ⋯ &         NA &          NA &          NA &          NA &         NA &           NA &         NA &          NA &          NA &          NA\\\\\n",
       "\\end{tabular}\n"
      ],
      "text/markdown": [
       "\n",
       "A data.table: 6 × 135\n",
       "\n",
       "| FID &lt;int&gt; | IID &lt;int&gt; | split &lt;chr&gt; | age &lt;int&gt; | age0 &lt;dbl&gt; | age1 &lt;dbl&gt; | age2 &lt;dbl&gt; | sex &lt;int&gt; | BMI &lt;dbl&gt; | Array &lt;int&gt; | ⋯ ⋯ | Rheumatoid_factor &lt;dbl&gt; | SHBG &lt;dbl&gt; | Sodium_in_urine &lt;dbl&gt; | Testosterone &lt;dbl&gt; | Total_bilirubin &lt;dbl&gt; | Total_protein &lt;dbl&gt; | Triglycerides &lt;dbl&gt; | Urate &lt;dbl&gt; | Urea &lt;dbl&gt; | Vitamin_D &lt;dbl&gt; |\n",
       "|---|---|---|---|---|---|---|---|---|---|---|---|---|---|---|---|---|---|---|---|---|\n",
       "| 2502845 | 2502845 | val   | 50 | 42.01780 | NA | NA |  1 | 28.1528 |  1 | ⋯ | -9.0000000 |  0.63602943 |  0.61334793 |  0.27286060 |  0.5204386 | -0.039636829 | -0.2868009 |  0.09388844 |  0.17387464 |  0.18068183 |\n",
       "| 2314965 | 2314965 | train | 55 | 47.01711 | NA | NA |  0 | 32.2979 |  1 | ⋯ | -9.0000000 | -9.00000000 |  0.16083891 | -0.04435945 | -0.5980682 | -9.000000000 |  0.9991994 | -9.00000000 |  0.31388765 | -9.00000000 |\n",
       "| 1142584 | 1142584 | test  | 60 | 52.43532 | NA | NA |  0 | 20.3894 |  1 | ⋯ | -9.0000000 |  0.06273032 | -0.35600816 | -0.31957300 |  0.1243965 | -0.001759489 |  0.2478688 |  0.04810635 |  0.03104997 | -0.05428741 |\n",
       "| 3665122 | 3665122 | train | 74 | 65.76591 | NA | NA |  0 | 27.0790 |  1 | ⋯ | -9.0000000 | -0.06862089 |  0.01073017 |  0.11581492 |  0.2706802 |  0.062122582 | -0.2389132 |  0.04271661 | -0.06918281 |  0.18833282 |\n",
       "| 4377492 | 4377492 | val   | 65 | 57.01574 | NA | NA |  0 | 36.0347 |  1 | ⋯ |  0.1126329 | -0.17941333 |  0.49714745 | -0.59068545 | -0.1767633 | -0.023004922 |  0.6176008 |  0.16832390 | -0.05354495 | -0.16898312 |\n",
       "| 2652670 | 2652670 | NA    | NA |       NA | NA | NA | NA |      NA | NA | ⋯ |         NA |          NA |          NA |          NA |         NA |           NA |         NA |          NA |          NA |          NA |\n",
       "\n"
      ],
      "text/plain": [
       "  FID     IID     split age age0     age1 age2 sex BMI     Array ⋯\n",
       "1 2502845 2502845 val   50  42.01780 NA   NA    1  28.1528  1    ⋯\n",
       "2 2314965 2314965 train 55  47.01711 NA   NA    0  32.2979  1    ⋯\n",
       "3 1142584 1142584 test  60  52.43532 NA   NA    0  20.3894  1    ⋯\n",
       "4 3665122 3665122 train 74  65.76591 NA   NA    0  27.0790  1    ⋯\n",
       "5 4377492 4377492 val   65  57.01574 NA   NA    0  36.0347  1    ⋯\n",
       "6 2652670 2652670 NA    NA        NA NA   NA   NA       NA NA    ⋯\n",
       "  Rheumatoid_factor SHBG        Sodium_in_urine Testosterone Total_bilirubin\n",
       "1 -9.0000000         0.63602943  0.61334793      0.27286060   0.5204386     \n",
       "2 -9.0000000        -9.00000000  0.16083891     -0.04435945  -0.5980682     \n",
       "3 -9.0000000         0.06273032 -0.35600816     -0.31957300   0.1243965     \n",
       "4 -9.0000000        -0.06862089  0.01073017      0.11581492   0.2706802     \n",
       "5  0.1126329        -0.17941333  0.49714745     -0.59068545  -0.1767633     \n",
       "6         NA                 NA          NA              NA          NA     \n",
       "  Total_protein Triglycerides Urate       Urea        Vitamin_D  \n",
       "1 -0.039636829  -0.2868009     0.09388844  0.17387464  0.18068183\n",
       "2 -9.000000000   0.9991994    -9.00000000  0.31388765 -9.00000000\n",
       "3 -0.001759489   0.2478688     0.04810635  0.03104997 -0.05428741\n",
       "4  0.062122582  -0.2389132     0.04271661 -0.06918281  0.18833282\n",
       "5 -0.023004922   0.6176008     0.16832390 -0.05354495 -0.16898312\n",
       "6           NA          NA             NA          NA          NA"
      ]
     },
     "metadata": {},
     "output_type": "display_data"
    }
   ],
   "source": [
    "df %>% head()"
   ]
  },
  {
   "cell_type": "code",
   "execution_count": null,
   "metadata": {},
   "outputs": [],
   "source": []
  }
 ],
 "metadata": {
  "kernelspec": {
   "display_name": "R",
   "language": "R",
   "name": "ir"
  },
  "language_info": {
   "codemirror_mode": "r",
   "file_extension": ".r",
   "mimetype": "text/x-r-source",
   "name": "R",
   "pygments_lexer": "r",
   "version": "3.6.1"
  }
 },
 "nbformat": 4,
 "nbformat_minor": 4
}
