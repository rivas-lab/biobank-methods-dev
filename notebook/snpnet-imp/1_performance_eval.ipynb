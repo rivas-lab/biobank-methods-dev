{
 "cells": [
  {
   "cell_type": "code",
   "execution_count": 1,
   "metadata": {},
   "outputs": [],
   "source": [
    "suppressWarnings(suppressPackageStartupMessages({\n",
    "    library(tidyverse)\n",
    "    library(data.table)\n",
    "}))\n"
   ]
  },
  {
   "cell_type": "code",
   "execution_count": 38,
   "metadata": {},
   "outputs": [],
   "source": [
    "read_BETAs <- function(beta_f){\n",
    "    fread(beta_f)\n",
    "#     %>% rename('CHROM'='#CHROM')\n",
    "}\n"
   ]
  },
  {
   "cell_type": "code",
   "execution_count": 4,
   "metadata": {},
   "outputs": [],
   "source": [
    "read_covar_BETAs <- function(covar_beta_f){\n",
    "    fread(covar_beta_f)%>%\n",
    "    column_to_rownames('ID')\n",
    "}\n"
   ]
  },
  {
   "cell_type": "code",
   "execution_count": 5,
   "metadata": {},
   "outputs": [],
   "source": [
    "read_PRS <- function(sscore_f){\n",
    "    fread(\n",
    "        cmd=paste('zstdcat', sscore_f),\n",
    "        select=c('#FID', 'IID', 'SCORE1_SUM'),\n",
    "        colClasses=c('#FID'='character', 'IID'='character')\n",
    "    ) %>%\n",
    "    rename('FID'='#FID', 'geno_score'='SCORE1_SUM')\n",
    "}\n"
   ]
  },
  {
   "cell_type": "code",
   "execution_count": 6,
   "metadata": {},
   "outputs": [],
   "source": [
    "perform_eval <- function(response, pred, metric.type){\n",
    "    if(metric.type == 'r2'){\n",
    "        summary(lm(response ~ 1 + pred))$r.squared\n",
    "    }else{\n",
    "#         pROC::auc(pROC::roc(response, pred))        \n",
    "        pred.obj <- ROCR::prediction(pred, factor(response - 1))\n",
    "        auc.obj <- ROCR::performance(pred.obj, measure = 'auc')\n",
    "        auc.obj@y.values[[1]]\n",
    "    }\n",
    "}\n"
   ]
  },
  {
   "cell_type": "code",
   "execution_count": 7,
   "metadata": {},
   "outputs": [],
   "source": [
    "compute_covar_scores <- function(phe_df, covar_BETAs){    \n",
    "    as.matrix(\n",
    "        phe_df %>% select(all_of(covar_BETAs %>% rownames(ID)))\n",
    "    ) %*% as.matrix(covar_BETAs) %>%\n",
    "    as.data.frame() %>%\n",
    "    rownames_to_column('ID') %>%\n",
    "    separate(ID, c('FID', 'IID')) %>% \n",
    "    rename('covar_score'='BETA')\n",
    "}\n"
   ]
  },
  {
   "cell_type": "code",
   "execution_count": 24,
   "metadata": {},
   "outputs": [],
   "source": [
    "build_eval_df <- function(score_test_df, metrc.type){\n",
    "    data.frame(\n",
    "        geno       = perform_eval(\n",
    "            score_test_df$phe,\n",
    "            score_test_df$geno_score,\n",
    "            metric.type\n",
    "        ),\n",
    "        covar      = perform_eval(\n",
    "            score_test_df$phe,\n",
    "            score_test_df$covar_score,\n",
    "            metric.type\n",
    "        ),\n",
    "        geno_covar = perform_eval(\n",
    "            score_test_df$phe,\n",
    "            score_test_df$geno_covar_score,\n",
    "            metric.type\n",
    "        ),\n",
    "        stringsAsFactors = F\n",
    "    )\n",
    "}\n"
   ]
  },
  {
   "cell_type": "code",
   "execution_count": 35,
   "metadata": {},
   "outputs": [],
   "source": [
    "eval_main <- function(phe, phe_f, PRS_f, BETAs_f, covar_BETAs_f){\n",
    "# # input\n",
    "# phe <- 'INI50'\n",
    "# phe_f <- '/oak/stanford/groups/mrivas/projects/biobank-methods-dev/snpnet-elastic-net/phenotype.phe'\n",
    "# PRS_f <- '/scratch/groups/mrivas/projects/biobank-methods-dev/snpnet-imp/INI50/INI50.sscore.zst'\n",
    "# covar_BETAs_f <- '/scratch/groups/mrivas/projects/biobank-methods-dev/snpnet-imp/INI50/snpnet.covars.tsv'\n",
    "    \n",
    "    metric.type <- ifelse(str_replace_all(phe, '[0-9]', '') %in% c('INI', 'QT_FC'), 'r2', 'auc')\n",
    "\n",
    "    covar_BETAs <- read_covar_BETAs(covar_BETAs_f)\n",
    "\n",
    "    phe_df <- fread(phe_f, colClasses=c('FID'='character', 'IID'='character')) %>%\n",
    "    mutate(ID = paste(FID, IID, sep='_')) %>%\n",
    "    column_to_rownames('ID')\n",
    "\n",
    "    PRS_df <- read_PRS(PRS_f) \n",
    "    \n",
    "    BETAs <- read_BETAs(BETAs_f)\n",
    "\n",
    "    df <- phe_df %>%\n",
    "    compute_covar_scores(covar_BETAs) %>%\n",
    "    left_join(\n",
    "        phe_df %>% select(FID, IID, split, all_of(phe)),\n",
    "        by=c('FID', 'IID')\n",
    "    ) %>%\n",
    "    left_join(PRS_df,by=c('FID', 'IID')) %>%\n",
    "    mutate(\n",
    "        geno_covar_score = geno_score + covar_score\n",
    "    ) %>%\n",
    "    drop_na(all_of(phe)) %>%\n",
    "    filter(phe != -9) %>%\n",
    "    rename('phe' := phe)\n",
    "\n",
    "    c('train', 'val', 'test') %>%\n",
    "    lapply(function(s){\n",
    "        df %>% filter(split == s) %>% build_eval_df(metric.type) %>%\n",
    "        mutate(\n",
    "            phe = phe,\n",
    "            split = s,\n",
    "            n_variables = nrow(BETAs)\n",
    "        )\n",
    "    }) %>% bind_rows()\n",
    "}"
   ]
  },
  {
   "cell_type": "code",
   "execution_count": 39,
   "metadata": {},
   "outputs": [],
   "source": [
    "eval_main(\n",
    "    phe     = 'INI50',\n",
    "    phe_f   = '/oak/stanford/groups/mrivas/projects/biobank-methods-dev/snpnet-elastic-net/phenotype.phe',\n",
    "    PRS_f   = '/scratch/groups/mrivas/projects/biobank-methods-dev/snpnet-imp/INI50/INI50.sscore.zst',\n",
    "    BETAs_f = '/scratch/groups/mrivas/projects/biobank-methods-dev/snpnet-imp/INI50/snpnet.tsv',\n",
    "    covar_BETAs_f = '/scratch/groups/mrivas/projects/biobank-methods-dev/snpnet-imp/INI50/snpnet.covars.tsv'\n",
    ") -> eval_df_INI50_imp\n"
   ]
  },
  {
   "cell_type": "code",
   "execution_count": 40,
   "metadata": {},
   "outputs": [
    {
     "data": {
      "text/html": [
       "<table>\n",
       "<caption>A data.frame: 3 × 6</caption>\n",
       "<thead>\n",
       "\t<tr><th scope=col>geno</th><th scope=col>covar</th><th scope=col>geno_covar</th><th scope=col>phe</th><th scope=col>split</th><th scope=col>n_variables</th></tr>\n",
       "\t<tr><th scope=col>&lt;dbl&gt;</th><th scope=col>&lt;dbl&gt;</th><th scope=col>&lt;dbl&gt;</th><th scope=col>&lt;chr&gt;</th><th scope=col>&lt;chr&gt;</th><th scope=col>&lt;int&gt;</th></tr>\n",
       "</thead>\n",
       "<tbody>\n",
       "\t<tr><td>0.2563138</td><td>0.5337935</td><td>0.7737875</td><td>INI50</td><td>train</td><td>28402</td></tr>\n",
       "\t<tr><td>0.1644440</td><td>0.5298420</td><td>0.6946285</td><td>INI50</td><td>val  </td><td>28402</td></tr>\n",
       "\t<tr><td>0.1623798</td><td>0.5328445</td><td>0.6962549</td><td>INI50</td><td>test </td><td>28402</td></tr>\n",
       "</tbody>\n",
       "</table>\n"
      ],
      "text/latex": [
       "A data.frame: 3 × 6\n",
       "\\begin{tabular}{llllll}\n",
       " geno & covar & geno\\_covar & phe & split & n\\_variables\\\\\n",
       " <dbl> & <dbl> & <dbl> & <chr> & <chr> & <int>\\\\\n",
       "\\hline\n",
       "\t 0.2563138 & 0.5337935 & 0.7737875 & INI50 & train & 28402\\\\\n",
       "\t 0.1644440 & 0.5298420 & 0.6946285 & INI50 & val   & 28402\\\\\n",
       "\t 0.1623798 & 0.5328445 & 0.6962549 & INI50 & test  & 28402\\\\\n",
       "\\end{tabular}\n"
      ],
      "text/markdown": [
       "\n",
       "A data.frame: 3 × 6\n",
       "\n",
       "| geno &lt;dbl&gt; | covar &lt;dbl&gt; | geno_covar &lt;dbl&gt; | phe &lt;chr&gt; | split &lt;chr&gt; | n_variables &lt;int&gt; |\n",
       "|---|---|---|---|---|---|\n",
       "| 0.2563138 | 0.5337935 | 0.7737875 | INI50 | train | 28402 |\n",
       "| 0.1644440 | 0.5298420 | 0.6946285 | INI50 | val   | 28402 |\n",
       "| 0.1623798 | 0.5328445 | 0.6962549 | INI50 | test  | 28402 |\n",
       "\n"
      ],
      "text/plain": [
       "  geno      covar     geno_covar phe   split n_variables\n",
       "1 0.2563138 0.5337935 0.7737875  INI50 train 28402      \n",
       "2 0.1644440 0.5298420 0.6946285  INI50 val   28402      \n",
       "3 0.1623798 0.5328445 0.6962549  INI50 test  28402      "
      ]
     },
     "metadata": {},
     "output_type": "display_data"
    }
   ],
   "source": [
    "eval_df_INI50_imp"
   ]
  },
  {
   "cell_type": "code",
   "execution_count": 41,
   "metadata": {},
   "outputs": [],
   "source": [
    "eval_main(\n",
    "    phe     = 'INI50',\n",
    "    phe_f   = '/oak/stanford/groups/mrivas/projects/biobank-methods-dev/snpnet-elastic-net/phenotype.phe',\n",
    "    PRS_f   = '/scratch/groups/mrivas/projects/biobank-methods-dev/snpnet-elastic-net/INI50_0.9//INI50.sscore.zst',\n",
    "    BETAs_f = '/scratch/groups/mrivas/projects/biobank-methods-dev/snpnet-elastic-net/INI50_0.9//snpnet.tsv',\n",
    "    covar_BETAs_f = '/scratch/groups/mrivas/projects/biobank-methods-dev/snpnet-elastic-net/INI50_0.9//snpnet.covars.tsv'\n",
    ") -> eval_df_INI50_elnet09\n"
   ]
  },
  {
   "cell_type": "code",
   "execution_count": 42,
   "metadata": {},
   "outputs": [
    {
     "data": {
      "text/html": [
       "<table>\n",
       "<caption>A data.frame: 3 × 6</caption>\n",
       "<thead>\n",
       "\t<tr><th scope=col>geno</th><th scope=col>covar</th><th scope=col>geno_covar</th><th scope=col>phe</th><th scope=col>split</th><th scope=col>n_variables</th></tr>\n",
       "\t<tr><th scope=col>&lt;dbl&gt;</th><th scope=col>&lt;dbl&gt;</th><th scope=col>&lt;dbl&gt;</th><th scope=col>&lt;chr&gt;</th><th scope=col>&lt;chr&gt;</th><th scope=col>&lt;int&gt;</th></tr>\n",
       "</thead>\n",
       "<tbody>\n",
       "\t<tr><td>0.3022420</td><td>0.5337417</td><td>0.8281844</td><td>INI50</td><td>train</td><td>48256</td></tr>\n",
       "\t<tr><td>0.1638982</td><td>0.5298043</td><td>0.6990818</td><td>INI50</td><td>val  </td><td>48256</td></tr>\n",
       "\t<tr><td>0.1617773</td><td>0.5327939</td><td>0.6998016</td><td>INI50</td><td>test </td><td>48256</td></tr>\n",
       "</tbody>\n",
       "</table>\n"
      ],
      "text/latex": [
       "A data.frame: 3 × 6\n",
       "\\begin{tabular}{llllll}\n",
       " geno & covar & geno\\_covar & phe & split & n\\_variables\\\\\n",
       " <dbl> & <dbl> & <dbl> & <chr> & <chr> & <int>\\\\\n",
       "\\hline\n",
       "\t 0.3022420 & 0.5337417 & 0.8281844 & INI50 & train & 48256\\\\\n",
       "\t 0.1638982 & 0.5298043 & 0.6990818 & INI50 & val   & 48256\\\\\n",
       "\t 0.1617773 & 0.5327939 & 0.6998016 & INI50 & test  & 48256\\\\\n",
       "\\end{tabular}\n"
      ],
      "text/markdown": [
       "\n",
       "A data.frame: 3 × 6\n",
       "\n",
       "| geno &lt;dbl&gt; | covar &lt;dbl&gt; | geno_covar &lt;dbl&gt; | phe &lt;chr&gt; | split &lt;chr&gt; | n_variables &lt;int&gt; |\n",
       "|---|---|---|---|---|---|\n",
       "| 0.3022420 | 0.5337417 | 0.8281844 | INI50 | train | 48256 |\n",
       "| 0.1638982 | 0.5298043 | 0.6990818 | INI50 | val   | 48256 |\n",
       "| 0.1617773 | 0.5327939 | 0.6998016 | INI50 | test  | 48256 |\n",
       "\n"
      ],
      "text/plain": [
       "  geno      covar     geno_covar phe   split n_variables\n",
       "1 0.3022420 0.5337417 0.8281844  INI50 train 48256      \n",
       "2 0.1638982 0.5298043 0.6990818  INI50 val   48256      \n",
       "3 0.1617773 0.5327939 0.6998016  INI50 test  48256      "
      ]
     },
     "metadata": {},
     "output_type": "display_data"
    }
   ],
   "source": [
    "eval_df_INI50_elnet09"
   ]
  },
  {
   "cell_type": "code",
   "execution_count": null,
   "metadata": {},
   "outputs": [],
   "source": []
  }
 ],
 "metadata": {
  "kernelspec": {
   "display_name": "R",
   "language": "R",
   "name": "ir"
  },
  "language_info": {
   "codemirror_mode": "r",
   "file_extension": ".r",
   "mimetype": "text/x-r-source",
   "name": "R",
   "pygments_lexer": "r",
   "version": "3.6.2"
  }
 },
 "nbformat": 4,
 "nbformat_minor": 4
}
